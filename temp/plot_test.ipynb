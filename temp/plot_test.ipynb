{
 "cells": [
  {
   "cell_type": "code",
   "execution_count": 1,
   "id": "0ec413ef",
   "metadata": {},
   "outputs": [],
   "source": [
    "import sys\n",
    "from pathlib import Path\n",
    "def _resolve_examples_dir() -> Path:\n",
    "    \"\"\"Resolve the examples directory for both scripts and notebooks.\"\"\"\n",
    "\n",
    "    candidates = []\n",
    "    try:\n",
    "        candidates.append(Path(__file__).resolve().parent)\n",
    "    except NameError:\n",
    "        # ``__file__`` is not defined inside notebooks executed via Jupyter.\n",
    "        pass\n",
    "\n",
    "    cwd = Path.cwd()\n",
    "    candidates.extend([cwd])\n",
    "\n",
    "    for candidate in candidates:\n",
    "        if candidate.exists():\n",
    "            return candidate\n",
    "\n",
    "    raise RuntimeError(\n",
    "        \"Run this notebook from the repository root so 'temp' is available.\"\n",
    "    )\n",
    "    \n",
    "ROOT_DIR = _resolve_examples_dir().parent\n",
    "if str(ROOT_DIR) not in sys.path:\n",
    "    sys.path.insert(0, str(ROOT_DIR))\n",
    "    \n",
    "from suave import SUAVE  # noqa: E402\n",
    "from suave.plots import (  # noqa: E402\n",
    "    compute_feature_latent_correlation,\n",
    "    plot_feature_latent_correlation_bubble,\n",
    "    plot_feature_latent_correlation_heatmap,\n",
    "    plot_feature_latent_outcome_path_graph,\n",
    ")\n",
    "\n"
   ]
  },
  {
   "cell_type": "code",
   "execution_count": 2,
   "id": "818cefa1",
   "metadata": {},
   "outputs": [],
   "source": [
    "import pandas as pd\n",
    "import numpy as np\n",
    "import joblib\n",
    "\n",
    "df = pd.read_csv(ROOT_DIR/'examples/data/sepsis_mortality_dataset/mimic-mortality-test.tsv', sep='\\t')\n",
    "\n",
    "TARGET_COLUMNS = (\"in_hospital_mortality\", \"28d_mortality\")\n",
    "BENCHMARK_COLUMNS = (\"APS_III\", \"APACHE_IV\", \"SAPS_II\", \"OASIS\",)\n",
    "TARGET_LABEL = \"in_hospital_mortality\"\n",
    "FEATURE_COLUMNS = [column for column in df.columns if column not in TARGET_COLUMNS + BENCHMARK_COLUMNS]\n",
    "\n",
    "X = df[FEATURE_COLUMNS].copy()\n",
    "y = df[TARGET_LABEL]"
   ]
  },
  {
   "cell_type": "code",
   "execution_count": 3,
   "id": "231d97d0",
   "metadata": {},
   "outputs": [],
   "source": [
    "model = SUAVE.load('./plot_material/suave_best_in_hospital_mortality.pt')"
   ]
  },
  {
   "cell_type": "code",
   "execution_count": null,
   "id": "68fb1b57",
   "metadata": {},
   "outputs": [],
   "source": []
  }
 ],
 "metadata": {
  "jupytext": {
   "formats": "ipynb,py:percent"
  },
  "kernelspec": {
   "display_name": "ai_exp",
   "language": "python",
   "name": "python3"
  },
  "language_info": {
   "codemirror_mode": {
    "name": "ipython",
    "version": 3
   },
   "file_extension": ".py",
   "mimetype": "text/x-python",
   "name": "python",
   "nbconvert_exporter": "python",
   "pygments_lexer": "ipython3",
   "version": "3.12.11"
  }
 },
 "nbformat": 4,
 "nbformat_minor": 5
}
