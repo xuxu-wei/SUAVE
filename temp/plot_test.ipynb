{
 "cells": [
  {
   "cell_type": "code",
   "execution_count": null,
   "id": "0ec413ef",
   "metadata": {},
   "outputs": [],
   "source": [
    "import sys\n",
    "from pathlib import Path\n",
    "def _resolve_examples_dir() -> Path:\n",
    "    \"\"\"Resolve the examples directory for both scripts and notebooks.\"\"\"\n",
    "\n",
    "    candidates = []\n",
    "    try:\n",
    "        candidates.append(Path(__file__).resolve().parent)\n",
    "    except NameError:\n",
    "        # ``__file__`` is not defined inside notebooks executed via Jupyter.\n",
    "        pass\n",
    "\n",
    "    cwd = Path.cwd()\n",
    "    candidates.extend([cwd])\n",
    "\n",
    "    for candidate in candidates:\n",
    "        if candidate.exists():\n",
    "            return candidate\n",
    "\n",
    "    raise RuntimeError(\n",
    "        \"Run this notebook from the repository root so 'temp' is available.\"\n",
    "    )\n",
    "    \n",
    "ROOT_DIR = _resolve_examples_dir().parent\n",
    "if str(ROOT_DIR) not in sys.path:\n",
    "    sys.path.insert(0, str(ROOT_DIR))\n",
    "    \n",
    "from suave import SUAVE  # noqa: E402\n",
    "from suave.plots import (  # noqa: E402\n",
    "    compute_feature_latent_correlation,\n",
    "    plot_feature_latent_correlation_bubble,\n",
    "    plot_feature_latent_correlation_heatmap,\n",
    "    plot_feature_latent_outcome_path_graph,\n",
    ")\n",
    "\n"
   ]
  },
  {
   "cell_type": "code",
   "execution_count": 10,
   "id": "818cefa1",
   "metadata": {},
   "outputs": [],
   "source": [
    "import pandas as pd\n",
    "import numpy as np\n",
    "\n",
    "df = pd.read_csv(ROOT_DIR/'examples/data/sepsis_mortality_dataset/mimic-mortality-test.tsv', sep='\\t')\n",
    "\n",
    "TARGET_COLUMNS = (\"in_hospital_mortality\", \"28d_mortality\")\n",
    "BENCHMARK_COLUMNS = (\"APS_III\", \"APACHE_IV\", \"SAPS_II\", \"OASIS\",)\n",
    "TARGET_LABEL = \"in_hospital_mortality\"\n",
    "FEATURE_COLUMNS = [column for column in df.columns if column not in TARGET_COLUMNS + BENCHMARK_COLUMNS]\n",
    "\n",
    "X = df[FEATURE_COLUMNS].copy()\n",
    "y = df[TARGET_LABEL]"
   ]
  },
  {
   "cell_type": "code",
   "execution_count": null,
   "id": "231d97d0",
   "metadata": {},
   "outputs": [
    {
     "ename": "UnicodeDecodeError",
     "evalue": "'utf-8' codec can't decode byte 0x80 in position 128: invalid start byte",
     "output_type": "error",
     "traceback": [
      "\u001b[31m---------------------------------------------------------------------------\u001b[39m",
      "\u001b[31mUnicodeDecodeError\u001b[39m                        Traceback (most recent call last)",
      "\u001b[36mCell\u001b[39m\u001b[36m \u001b[39m\u001b[32mIn[16]\u001b[39m\u001b[32m, line 1\u001b[39m\n\u001b[32m----> \u001b[39m\u001b[32m1\u001b[39m model = \u001b[43mSUAVE\u001b[49m\u001b[43m.\u001b[49m\u001b[43mload\u001b[49m\u001b[43m(\u001b[49m\u001b[43mPath\u001b[49m\u001b[43m(\u001b[49m\u001b[33;43m'\u001b[39;49m\u001b[33;43m./plot_material/suave_best_in_hospital_mortality.pt\u001b[39;49m\u001b[33;43m'\u001b[39;49m\u001b[43m)\u001b[49m\u001b[43m.\u001b[49m\u001b[43mresolve\u001b[49m\u001b[43m(\u001b[49m\u001b[43m)\u001b[49m\u001b[43m)\u001b[49m\n",
      "\u001b[36mFile \u001b[39m\u001b[32me:\\BaiduNetdiskWorkspace\\Jupyter\\my_repos\\SUAVE\\suave\\model.py:3954\u001b[39m, in \u001b[36mSUAVE.load\u001b[39m\u001b[34m(cls, path)\u001b[39m\n\u001b[32m   3952\u001b[39m \u001b[38;5;28;01mif\u001b[39;00m payload \u001b[38;5;129;01mis\u001b[39;00m \u001b[38;5;129;01mnot\u001b[39;00m \u001b[38;5;28;01mNone\u001b[39;00m:\n\u001b[32m   3953\u001b[39m     \u001b[38;5;28;01mraise\u001b[39;00m \u001b[38;5;167;01mValueError\u001b[39;00m(\u001b[33m\"\u001b[39m\u001b[33mUnexpected model archive format\u001b[39m\u001b[33m\"\u001b[39m)\n\u001b[32m-> \u001b[39m\u001b[32m3954\u001b[39m data = json.loads(\u001b[43mpath\u001b[49m\u001b[43m.\u001b[49m\u001b[43mread_text\u001b[49m\u001b[43m(\u001b[49m\u001b[43m)\u001b[49m)\n\u001b[32m   3955\u001b[39m \u001b[38;5;28;01mreturn\u001b[39;00m \u001b[38;5;28mcls\u001b[39m._load_from_legacy_json(data)\n",
      "\u001b[36mFile \u001b[39m\u001b[32md:\\MiniConda\\envs\\ai_exp\\Lib\\pathlib.py:1028\u001b[39m, in \u001b[36mPath.read_text\u001b[39m\u001b[34m(self, encoding, errors)\u001b[39m\n\u001b[32m   1026\u001b[39m encoding = io.text_encoding(encoding)\n\u001b[32m   1027\u001b[39m \u001b[38;5;28;01mwith\u001b[39;00m \u001b[38;5;28mself\u001b[39m.open(mode=\u001b[33m'\u001b[39m\u001b[33mr\u001b[39m\u001b[33m'\u001b[39m, encoding=encoding, errors=errors) \u001b[38;5;28;01mas\u001b[39;00m f:\n\u001b[32m-> \u001b[39m\u001b[32m1028\u001b[39m     \u001b[38;5;28;01mreturn\u001b[39;00m \u001b[43mf\u001b[49m\u001b[43m.\u001b[49m\u001b[43mread\u001b[49m\u001b[43m(\u001b[49m\u001b[43m)\u001b[49m\n",
      "\u001b[36mFile \u001b[39m\u001b[32m<frozen codecs>:322\u001b[39m, in \u001b[36mdecode\u001b[39m\u001b[34m(self, input, final)\u001b[39m\n",
      "\u001b[31mUnicodeDecodeError\u001b[39m: 'utf-8' codec can't decode byte 0x80 in position 128: invalid start byte"
     ]
    }
   ],
   "source": [
    "model = SUAVE.load('./plot_material/suave_best_in_hospital_mortality.pt')"
   ]
  },
  {
   "cell_type": "code",
   "execution_count": 15,
   "id": "af33b0f1",
   "metadata": {},
   "outputs": [
    {
     "data": {
      "text/plain": [
       "True"
      ]
     },
     "execution_count": 15,
     "metadata": {},
     "output_type": "execute_result"
    }
   ],
   "source": [
    "Path('./plot_material/suave_best_in_hospital_mortality.pt').resolve().exists()"
   ]
  }
 ],
 "metadata": {
  "jupytext": {
   "formats": "ipynb,py:percent"
  },
  "kernelspec": {
   "display_name": "ai_exp",
   "language": "python",
   "name": "python3"
  },
  "language_info": {
   "codemirror_mode": {
    "name": "ipython",
    "version": 3
   },
   "file_extension": ".py",
   "mimetype": "text/x-python",
   "name": "python",
   "nbconvert_exporter": "python",
   "pygments_lexer": "ipython3",
   "version": "3.12.11"
  }
 },
 "nbformat": 4,
 "nbformat_minor": 5
}
