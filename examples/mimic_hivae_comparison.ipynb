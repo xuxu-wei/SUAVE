{
 "cells": [
  {
   "cell_type": "markdown",
   "id": "1efb5de3",
   "metadata": {},
   "source": [
    "\n",
    "# HI-VAE 对齐实验：TensorFlow 参考实现 vs SUAVE (behaviour=\"hivae\")\n",
    "\n",
    "本笔记展示如何在 `mimic-example-1000.tsv` 数据集上分别运行 TensorFlow 版 HI-VAE 与 SUAVE（`behaviour=\"hivae\"`），并比较缺失值填补以及其他主要输出是否保持一致。\n"
   ]
  },
  {
   "cell_type": "markdown",
   "id": "7e133d77",
   "metadata": {},
   "source": [
    "\n",
    "> ⚠️ **TensorFlow 版本要求**：`third_party/hivae_tf` 官方 README 指定需要 TensorFlow 2.x。在运行下方代码前，请确保已经安装兼容版本，例如：``pip install 'tensorflow==2.11.*'``。\n"
   ]
  },
  {
   "cell_type": "code",
   "execution_count": 1,
   "id": "d48c9efc",
   "metadata": {
    "execution": {
     "iopub.execute_input": "2025-09-18T13:51:03.576746Z",
     "iopub.status.busy": "2025-09-18T13:51:03.568556Z",
     "iopub.status.idle": "2025-09-18T13:51:14.669127Z",
     "shell.execute_reply": "2025-09-18T13:51:14.667644Z"
    }
   },
   "outputs": [
    {
     "name": "stderr",
     "output_type": "stream",
     "text": [
      "2025-09-18 13:51:06.575518: E external/local_xla/xla/stream_executor/cuda/cuda_dnn.cc:9261] Unable to register cuDNN factory: Attempting to register factory for plugin cuDNN when one has already been registered\n",
      "2025-09-18 13:51:06.575651: E external/local_xla/xla/stream_executor/cuda/cuda_fft.cc:607] Unable to register cuFFT factory: Attempting to register factory for plugin cuFFT when one has already been registered\n",
      "2025-09-18 13:51:06.586697: E external/local_xla/xla/stream_executor/cuda/cuda_blas.cc:1515] Unable to register cuBLAS factory: Attempting to register factory for plugin cuBLAS when one has already been registered\n"
     ]
    },
    {
     "name": "stderr",
     "output_type": "stream",
     "text": [
      "/root/.pyenv/versions/3.11.12/lib/python3.11/site-packages/tqdm/auto.py:21: TqdmWarning: IProgress not found. Please update jupyter and ipywidgets. See https://ipywidgets.readthedocs.io/en/stable/user_install.html\n",
      "  from .autonotebook import tqdm as notebook_tqdm\n"
     ]
    },
    {
     "name": "stdout",
     "output_type": "stream",
     "text": [
      "TensorFlow version: 2.15.1\n"
     ]
    }
   ],
   "source": [
    "\n",
    "import os\n",
    "from pathlib import Path\n",
    "import math\n",
    "import warnings\n",
    "\n",
    "import numpy as np\n",
    "import pandas as pd\n",
    "from sklearn.model_selection import train_test_split\n",
    "\n",
    "os.environ.setdefault(\"TF_CPP_MIN_LOG_LEVEL\", \"2\")\n",
    "import tensorflow as tf\n",
    "\n",
    "from suave.model import SUAVE\n",
    "from suave.types import Schema\n",
    "from third_party.hivae_tf.hivae import hivae as tf_hivae\n",
    "\n",
    "assert tf.__version__.startswith('2.'), \"TensorFlow 2.x is required for the TF HI-VAE reference implementation.\"\n",
    "print(f'TensorFlow version: {tf.__version__}')\n"
   ]
  },
  {
   "cell_type": "code",
   "execution_count": 2,
   "id": "8d6acbfe",
   "metadata": {
    "execution": {
     "iopub.execute_input": "2025-09-18T13:51:14.673140Z",
     "iopub.status.busy": "2025-09-18T13:51:14.672106Z",
     "iopub.status.idle": "2025-09-18T13:51:14.799387Z",
     "shell.execute_reply": "2025-09-18T13:51:14.798136Z"
    }
   },
   "outputs": [
    {
     "name": "stdout",
     "output_type": "stream",
     "text": [
      "Dataset shape: (4623, 37)\n"
     ]
    },
    {
     "data": {
      "text/html": [
       "<div>\n",
       "<style scoped>\n",
       "    .dataframe tbody tr th:only-of-type {\n",
       "        vertical-align: middle;\n",
       "    }\n",
       "\n",
       "    .dataframe tbody tr th {\n",
       "        vertical-align: top;\n",
       "    }\n",
       "\n",
       "    .dataframe thead th {\n",
       "        text-align: right;\n",
       "    }\n",
       "</style>\n",
       "<table border=\"1\" class=\"dataframe\">\n",
       "  <thead>\n",
       "    <tr style=\"text-align: right;\">\n",
       "      <th></th>\n",
       "      <th>Unnamed: 0</th>\n",
       "      <th>age</th>\n",
       "      <th>sex</th>\n",
       "      <th>BMI</th>\n",
       "      <th>temperature</th>\n",
       "      <th>heart_rate</th>\n",
       "      <th>respir_rate</th>\n",
       "      <th>SBP</th>\n",
       "      <th>DBP</th>\n",
       "      <th>MAP</th>\n",
       "      <th>...</th>\n",
       "      <th>PT</th>\n",
       "      <th>APTT</th>\n",
       "      <th>PH</th>\n",
       "      <th>PaO2</th>\n",
       "      <th>PaO2/FiO2</th>\n",
       "      <th>PaCO2</th>\n",
       "      <th>HCO3-</th>\n",
       "      <th>Lac</th>\n",
       "      <th>3d_septic_shock</th>\n",
       "      <th>7d_septic_shock</th>\n",
       "    </tr>\n",
       "  </thead>\n",
       "  <tbody>\n",
       "    <tr>\n",
       "      <th>0</th>\n",
       "      <td>29349</td>\n",
       "      <td>26</td>\n",
       "      <td>0</td>\n",
       "      <td>NaN</td>\n",
       "      <td>37.748750</td>\n",
       "      <td>85.520000</td>\n",
       "      <td>16.370370</td>\n",
       "      <td>110.269231</td>\n",
       "      <td>63.538462</td>\n",
       "      <td>80.096154</td>\n",
       "      <td>...</td>\n",
       "      <td>14.45</td>\n",
       "      <td>25.75</td>\n",
       "      <td>7.480</td>\n",
       "      <td>302.0</td>\n",
       "      <td>503.333333</td>\n",
       "      <td>25.0</td>\n",
       "      <td>17.0</td>\n",
       "      <td>NaN</td>\n",
       "      <td>0</td>\n",
       "      <td>0</td>\n",
       "    </tr>\n",
       "    <tr>\n",
       "      <th>1</th>\n",
       "      <td>25936</td>\n",
       "      <td>76</td>\n",
       "      <td>0</td>\n",
       "      <td>26.271218</td>\n",
       "      <td>37.083333</td>\n",
       "      <td>81.041667</td>\n",
       "      <td>17.900000</td>\n",
       "      <td>160.208333</td>\n",
       "      <td>62.500000</td>\n",
       "      <td>87.250000</td>\n",
       "      <td>...</td>\n",
       "      <td>12.60</td>\n",
       "      <td>53.00</td>\n",
       "      <td>7.265</td>\n",
       "      <td>51.5</td>\n",
       "      <td>128.750000</td>\n",
       "      <td>42.0</td>\n",
       "      <td>18.5</td>\n",
       "      <td>1.4</td>\n",
       "      <td>0</td>\n",
       "      <td>0</td>\n",
       "    </tr>\n",
       "    <tr>\n",
       "      <th>2</th>\n",
       "      <td>9686</td>\n",
       "      <td>76</td>\n",
       "      <td>1</td>\n",
       "      <td>35.967860</td>\n",
       "      <td>37.498571</td>\n",
       "      <td>86.360000</td>\n",
       "      <td>18.220000</td>\n",
       "      <td>109.500000</td>\n",
       "      <td>62.291667</td>\n",
       "      <td>75.958333</td>\n",
       "      <td>...</td>\n",
       "      <td>11.70</td>\n",
       "      <td>25.10</td>\n",
       "      <td>7.195</td>\n",
       "      <td>107.5</td>\n",
       "      <td>134.166667</td>\n",
       "      <td>38.5</td>\n",
       "      <td>14.5</td>\n",
       "      <td>1.4</td>\n",
       "      <td>0</td>\n",
       "      <td>0</td>\n",
       "    </tr>\n",
       "    <tr>\n",
       "      <th>3</th>\n",
       "      <td>11918</td>\n",
       "      <td>71</td>\n",
       "      <td>1</td>\n",
       "      <td>NaN</td>\n",
       "      <td>37.412857</td>\n",
       "      <td>110.851852</td>\n",
       "      <td>22.555556</td>\n",
       "      <td>105.440000</td>\n",
       "      <td>56.720000</td>\n",
       "      <td>69.800000</td>\n",
       "      <td>...</td>\n",
       "      <td>16.15</td>\n",
       "      <td>33.20</td>\n",
       "      <td>NaN</td>\n",
       "      <td>NaN</td>\n",
       "      <td>NaN</td>\n",
       "      <td>NaN</td>\n",
       "      <td>19.5</td>\n",
       "      <td>NaN</td>\n",
       "      <td>0</td>\n",
       "      <td>0</td>\n",
       "    </tr>\n",
       "    <tr>\n",
       "      <th>4</th>\n",
       "      <td>26289</td>\n",
       "      <td>78</td>\n",
       "      <td>1</td>\n",
       "      <td>23.979239</td>\n",
       "      <td>36.697143</td>\n",
       "      <td>94.307692</td>\n",
       "      <td>20.961538</td>\n",
       "      <td>98.015625</td>\n",
       "      <td>53.171875</td>\n",
       "      <td>69.843750</td>\n",
       "      <td>...</td>\n",
       "      <td>22.30</td>\n",
       "      <td>37.25</td>\n",
       "      <td>7.435</td>\n",
       "      <td>102.0</td>\n",
       "      <td>NaN</td>\n",
       "      <td>31.0</td>\n",
       "      <td>20.0</td>\n",
       "      <td>1.7</td>\n",
       "      <td>0</td>\n",
       "      <td>0</td>\n",
       "    </tr>\n",
       "  </tbody>\n",
       "</table>\n",
       "<p>5 rows × 37 columns</p>\n",
       "</div>"
      ],
      "text/plain": [
       "   Unnamed: 0  age  sex        BMI  temperature  heart_rate  respir_rate  \\\n",
       "0       29349   26    0        NaN    37.748750   85.520000    16.370370   \n",
       "1       25936   76    0  26.271218    37.083333   81.041667    17.900000   \n",
       "2        9686   76    1  35.967860    37.498571   86.360000    18.220000   \n",
       "3       11918   71    1        NaN    37.412857  110.851852    22.555556   \n",
       "4       26289   78    1  23.979239    36.697143   94.307692    20.961538   \n",
       "\n",
       "          SBP        DBP        MAP  ...     PT   APTT     PH   PaO2  \\\n",
       "0  110.269231  63.538462  80.096154  ...  14.45  25.75  7.480  302.0   \n",
       "1  160.208333  62.500000  87.250000  ...  12.60  53.00  7.265   51.5   \n",
       "2  109.500000  62.291667  75.958333  ...  11.70  25.10  7.195  107.5   \n",
       "3  105.440000  56.720000  69.800000  ...  16.15  33.20    NaN    NaN   \n",
       "4   98.015625  53.171875  69.843750  ...  22.30  37.25  7.435  102.0   \n",
       "\n",
       "    PaO2/FiO2  PaCO2  HCO3-  Lac  3d_septic_shock  7d_septic_shock  \n",
       "0  503.333333   25.0   17.0  NaN                0                0  \n",
       "1  128.750000   42.0   18.5  1.4                0                0  \n",
       "2  134.166667   38.5   14.5  1.4                0                0  \n",
       "3         NaN    NaN   19.5  NaN                0                0  \n",
       "4         NaN   31.0   20.0  1.7                0                0  \n",
       "\n",
       "[5 rows x 37 columns]"
      ]
     },
     "execution_count": 2,
     "metadata": {},
     "output_type": "execute_result"
    }
   ],
   "source": [
    "\n",
    "RANDOM_SEED = 7\n",
    "DATA_PATH = Path('examples/data/mimic_for_test/mimic-septic_shock.tsv')\n",
    "assert DATA_PATH.exists(), f'Expected data file not found: {DATA_PATH}'\n",
    "raw_df = pd.read_csv(DATA_PATH, sep='\t')\n",
    "print(f'Dataset shape: {raw_df.shape}')\n",
    "raw_df.head()\n"
   ]
  },
  {
   "cell_type": "code",
   "execution_count": 3,
   "id": "bcbfbb2c",
   "metadata": {
    "execution": {
     "iopub.execute_input": "2025-09-18T13:51:14.802630Z",
     "iopub.status.busy": "2025-09-18T13:51:14.802263Z",
     "iopub.status.idle": "2025-09-18T13:51:14.830529Z",
     "shell.execute_reply": "2025-09-18T13:51:14.829263Z"
    }
   },
   "outputs": [
    {
     "data": {
      "text/html": [
       "<div>\n",
       "<style scoped>\n",
       "    .dataframe tbody tr th:only-of-type {\n",
       "        vertical-align: middle;\n",
       "    }\n",
       "\n",
       "    .dataframe tbody tr th {\n",
       "        vertical-align: top;\n",
       "    }\n",
       "\n",
       "    .dataframe thead th {\n",
       "        text-align: right;\n",
       "    }\n",
       "</style>\n",
       "<table border=\"1\" class=\"dataframe\">\n",
       "  <thead>\n",
       "    <tr style=\"text-align: right;\">\n",
       "      <th></th>\n",
       "      <th>dtype</th>\n",
       "      <th>n_unique</th>\n",
       "      <th>missing_ratio</th>\n",
       "    </tr>\n",
       "  </thead>\n",
       "  <tbody>\n",
       "    <tr>\n",
       "      <th>3d_septic_shock</th>\n",
       "      <td>int64</td>\n",
       "      <td>2</td>\n",
       "      <td>0.000000</td>\n",
       "    </tr>\n",
       "    <tr>\n",
       "      <th>7d_septic_shock</th>\n",
       "      <td>int64</td>\n",
       "      <td>2</td>\n",
       "      <td>0.000000</td>\n",
       "    </tr>\n",
       "    <tr>\n",
       "      <th>ALT</th>\n",
       "      <td>float64</td>\n",
       "      <td>498</td>\n",
       "      <td>0.327277</td>\n",
       "    </tr>\n",
       "    <tr>\n",
       "      <th>APTT</th>\n",
       "      <td>float64</td>\n",
       "      <td>1035</td>\n",
       "      <td>0.074194</td>\n",
       "    </tr>\n",
       "    <tr>\n",
       "      <th>AST</th>\n",
       "      <td>float64</td>\n",
       "      <td>577</td>\n",
       "      <td>0.320787</td>\n",
       "    </tr>\n",
       "    <tr>\n",
       "      <th>BMI</th>\n",
       "      <td>float64</td>\n",
       "      <td>1917</td>\n",
       "      <td>0.506597</td>\n",
       "    </tr>\n",
       "    <tr>\n",
       "      <th>BUN</th>\n",
       "      <td>float64</td>\n",
       "      <td>247</td>\n",
       "      <td>0.005408</td>\n",
       "    </tr>\n",
       "    <tr>\n",
       "      <th>CRRT</th>\n",
       "      <td>int64</td>\n",
       "      <td>2</td>\n",
       "      <td>0.000000</td>\n",
       "    </tr>\n",
       "    <tr>\n",
       "      <th>DBP</th>\n",
       "      <td>float64</td>\n",
       "      <td>3569</td>\n",
       "      <td>0.000216</td>\n",
       "    </tr>\n",
       "    <tr>\n",
       "      <th>Fg</th>\n",
       "      <td>float64</td>\n",
       "      <td>608</td>\n",
       "      <td>0.741942</td>\n",
       "    </tr>\n",
       "    <tr>\n",
       "      <th>Glu</th>\n",
       "      <td>float64</td>\n",
       "      <td>586</td>\n",
       "      <td>0.000000</td>\n",
       "    </tr>\n",
       "    <tr>\n",
       "      <th>HCO3-</th>\n",
       "      <td>float64</td>\n",
       "      <td>83</td>\n",
       "      <td>0.000433</td>\n",
       "    </tr>\n",
       "    <tr>\n",
       "      <th>Hb</th>\n",
       "      <td>float64</td>\n",
       "      <td>248</td>\n",
       "      <td>0.000216</td>\n",
       "    </tr>\n",
       "    <tr>\n",
       "      <th>K+</th>\n",
       "      <td>float64</td>\n",
       "      <td>118</td>\n",
       "      <td>0.000216</td>\n",
       "    </tr>\n",
       "    <tr>\n",
       "      <th>LYM%</th>\n",
       "      <td>float64</td>\n",
       "      <td>3151</td>\n",
       "      <td>0.290720</td>\n",
       "    </tr>\n",
       "    <tr>\n",
       "      <th>Lac</th>\n",
       "      <td>float64</td>\n",
       "      <td>174</td>\n",
       "      <td>0.331603</td>\n",
       "    </tr>\n",
       "    <tr>\n",
       "      <th>MAP</th>\n",
       "      <td>float64</td>\n",
       "      <td>3614</td>\n",
       "      <td>0.000000</td>\n",
       "    </tr>\n",
       "    <tr>\n",
       "      <th>NE%</th>\n",
       "      <td>float64</td>\n",
       "      <td>2823</td>\n",
       "      <td>0.373783</td>\n",
       "    </tr>\n",
       "    <tr>\n",
       "      <th>Na+</th>\n",
       "      <td>float64</td>\n",
       "      <td>79</td>\n",
       "      <td>0.007787</td>\n",
       "    </tr>\n",
       "    <tr>\n",
       "      <th>PH</th>\n",
       "      <td>float64</td>\n",
       "      <td>130</td>\n",
       "      <td>0.229072</td>\n",
       "    </tr>\n",
       "    <tr>\n",
       "      <th>PLT</th>\n",
       "      <td>float64</td>\n",
       "      <td>942</td>\n",
       "      <td>0.001514</td>\n",
       "    </tr>\n",
       "    <tr>\n",
       "      <th>PT</th>\n",
       "      <td>float64</td>\n",
       "      <td>550</td>\n",
       "      <td>0.077006</td>\n",
       "    </tr>\n",
       "    <tr>\n",
       "      <th>PaCO2</th>\n",
       "      <td>float64</td>\n",
       "      <td>157</td>\n",
       "      <td>0.229072</td>\n",
       "    </tr>\n",
       "    <tr>\n",
       "      <th>PaO2</th>\n",
       "      <td>float64</td>\n",
       "      <td>641</td>\n",
       "      <td>0.248324</td>\n",
       "    </tr>\n",
       "    <tr>\n",
       "      <th>PaO2/FiO2</th>\n",
       "      <td>float64</td>\n",
       "      <td>1394</td>\n",
       "      <td>0.508328</td>\n",
       "    </tr>\n",
       "    <tr>\n",
       "      <th>Respiratory_Support</th>\n",
       "      <td>int64</td>\n",
       "      <td>5</td>\n",
       "      <td>0.000000</td>\n",
       "    </tr>\n",
       "    <tr>\n",
       "      <th>SBP</th>\n",
       "      <td>float64</td>\n",
       "      <td>3874</td>\n",
       "      <td>0.000216</td>\n",
       "    </tr>\n",
       "    <tr>\n",
       "      <th>SOFA_cns</th>\n",
       "      <td>float64</td>\n",
       "      <td>5</td>\n",
       "      <td>0.000216</td>\n",
       "    </tr>\n",
       "    <tr>\n",
       "      <th>STB</th>\n",
       "      <td>float64</td>\n",
       "      <td>217</td>\n",
       "      <td>0.328791</td>\n",
       "    </tr>\n",
       "    <tr>\n",
       "      <th>Scr</th>\n",
       "      <td>float64</td>\n",
       "      <td>219</td>\n",
       "      <td>0.004326</td>\n",
       "    </tr>\n",
       "    <tr>\n",
       "      <th>Unnamed: 0</th>\n",
       "      <td>int64</td>\n",
       "      <td>4623</td>\n",
       "      <td>0.000000</td>\n",
       "    </tr>\n",
       "    <tr>\n",
       "      <th>WBC</th>\n",
       "      <td>float64</td>\n",
       "      <td>713</td>\n",
       "      <td>0.001514</td>\n",
       "    </tr>\n",
       "    <tr>\n",
       "      <th>age</th>\n",
       "      <td>int64</td>\n",
       "      <td>83</td>\n",
       "      <td>0.000000</td>\n",
       "    </tr>\n",
       "    <tr>\n",
       "      <th>heart_rate</th>\n",
       "      <td>float64</td>\n",
       "      <td>3813</td>\n",
       "      <td>0.000000</td>\n",
       "    </tr>\n",
       "    <tr>\n",
       "      <th>respir_rate</th>\n",
       "      <td>float64</td>\n",
       "      <td>3065</td>\n",
       "      <td>0.000216</td>\n",
       "    </tr>\n",
       "    <tr>\n",
       "      <th>sex</th>\n",
       "      <td>int64</td>\n",
       "      <td>2</td>\n",
       "      <td>0.000000</td>\n",
       "    </tr>\n",
       "    <tr>\n",
       "      <th>temperature</th>\n",
       "      <td>float64</td>\n",
       "      <td>2460</td>\n",
       "      <td>0.012762</td>\n",
       "    </tr>\n",
       "  </tbody>\n",
       "</table>\n",
       "</div>"
      ],
      "text/plain": [
       "                       dtype  n_unique  missing_ratio\n",
       "3d_septic_shock        int64         2       0.000000\n",
       "7d_septic_shock        int64         2       0.000000\n",
       "ALT                  float64       498       0.327277\n",
       "APTT                 float64      1035       0.074194\n",
       "AST                  float64       577       0.320787\n",
       "BMI                  float64      1917       0.506597\n",
       "BUN                  float64       247       0.005408\n",
       "CRRT                   int64         2       0.000000\n",
       "DBP                  float64      3569       0.000216\n",
       "Fg                   float64       608       0.741942\n",
       "Glu                  float64       586       0.000000\n",
       "HCO3-                float64        83       0.000433\n",
       "Hb                   float64       248       0.000216\n",
       "K+                   float64       118       0.000216\n",
       "LYM%                 float64      3151       0.290720\n",
       "Lac                  float64       174       0.331603\n",
       "MAP                  float64      3614       0.000000\n",
       "NE%                  float64      2823       0.373783\n",
       "Na+                  float64        79       0.007787\n",
       "PH                   float64       130       0.229072\n",
       "PLT                  float64       942       0.001514\n",
       "PT                   float64       550       0.077006\n",
       "PaCO2                float64       157       0.229072\n",
       "PaO2                 float64       641       0.248324\n",
       "PaO2/FiO2            float64      1394       0.508328\n",
       "Respiratory_Support    int64         5       0.000000\n",
       "SBP                  float64      3874       0.000216\n",
       "SOFA_cns             float64         5       0.000216\n",
       "STB                  float64       217       0.328791\n",
       "Scr                  float64       219       0.004326\n",
       "Unnamed: 0             int64      4623       0.000000\n",
       "WBC                  float64       713       0.001514\n",
       "age                    int64        83       0.000000\n",
       "heart_rate           float64      3813       0.000000\n",
       "respir_rate          float64      3065       0.000216\n",
       "sex                    int64         2       0.000000\n",
       "temperature          float64      2460       0.012762"
      ]
     },
     "execution_count": 3,
     "metadata": {},
     "output_type": "execute_result"
    }
   ],
   "source": [
    "\n",
    "summary = pd.DataFrame({\n",
    "    'dtype': raw_df.dtypes.astype(str),\n",
    "    'n_unique': raw_df.nunique(dropna=True),\n",
    "    'missing_ratio': raw_df.isna().mean(),\n",
    "}).sort_index()\n",
    "summary\n"
   ]
  },
  {
   "cell_type": "code",
   "execution_count": 4,
   "id": "c75a0d3f",
   "metadata": {
    "execution": {
     "iopub.execute_input": "2025-09-18T13:51:14.833726Z",
     "iopub.status.busy": "2025-09-18T13:51:14.833381Z",
     "iopub.status.idle": "2025-09-18T13:51:14.842806Z",
     "shell.execute_reply": "2025-09-18T13:51:14.841673Z"
    }
   },
   "outputs": [
    {
     "name": "stdout",
     "output_type": "stream",
     "text": [
      "Categorical columns (editable): ['3d_septic_shock', '7d_septic_shock', 'CRRT', 'Respiratory_Support', 'sex']\n",
      "Ordinal columns (editable): ['SOFA_cns']\n"
     ]
    }
   ],
   "source": [
    "\n",
    "DEFAULT_CATEGORICAL = [\n",
    "    'sex',\n",
    "    'CRRT',\n",
    "    'Respiratory_Support',\n",
    "    '3d_septic_shock',\n",
    "    '7d_septic_shock',\n",
    "]\n",
    "DEFAULT_ORDINAL = ['SOFA_cns']\n",
    "object_columns = [col for col in raw_df.columns if raw_df[col].dtype == 'object']\n",
    "categorical_columns = sorted({*DEFAULT_CATEGORICAL, *object_columns} & set(raw_df.columns))\n",
    "ordinal_columns = [col for col in DEFAULT_ORDINAL if col in raw_df.columns]\n",
    "print('Categorical columns (editable):', categorical_columns)\n",
    "print('Ordinal columns (editable):', ordinal_columns)\n"
   ]
  },
  {
   "cell_type": "code",
   "execution_count": 5,
   "id": "8edf60fb",
   "metadata": {
    "execution": {
     "iopub.execute_input": "2025-09-18T13:51:14.845953Z",
     "iopub.status.busy": "2025-09-18T13:51:14.845649Z",
     "iopub.status.idle": "2025-09-18T13:51:14.867167Z",
     "shell.execute_reply": "2025-09-18T13:51:14.865540Z"
    }
   },
   "outputs": [],
   "source": [
    "\n",
    "from typing import Dict, Iterable, Mapping, Sequence\n",
    "\n",
    "def _prepare_dataframes(\n",
    "    df: pd.DataFrame,\n",
    "    categorical: Sequence[str],\n",
    "    ordinal: Sequence[str],\n",
    ") -> tuple[pd.DataFrame, pd.DataFrame, Dict[str, list], Dict[str, list]]:\n",
    "    df_suave = df.copy()\n",
    "    df_hivae = df.copy()\n",
    "    cat_categories: Dict[str, list] = {}\n",
    "    ord_categories: Dict[str, list] = {}\n",
    "\n",
    "    for column in categorical:\n",
    "        if column not in df_suave.columns:\n",
    "            continue\n",
    "        categories = pd.Index(sorted(df_suave[column].dropna().unique()))\n",
    "        if len(categories) <= 1:\n",
    "            warnings.warn(\n",
    "                f\"Column '{column}' has <=1 observed category; treating as real-valued.\",\n",
    "                UserWarning,\n",
    "            )\n",
    "            continue\n",
    "        cat_categories[column] = categories.tolist()\n",
    "        suave_series = pd.Categorical(df_suave[column], categories=categories)\n",
    "        df_suave[column] = suave_series\n",
    "        codes = pd.Series(suave_series.codes, index=df_suave.index, dtype=float)\n",
    "        df_hivae[column] = codes.replace(-1, np.nan)\n",
    "\n",
    "    for column in ordinal:\n",
    "        if column not in df_suave.columns:\n",
    "            continue\n",
    "        categories = pd.Index(sorted(df_suave[column].dropna().unique()))\n",
    "        if len(categories) <= 1:\n",
    "            warnings.warn(\n",
    "                f\"Column '{column}' has <=1 observed level; treating as real-valued.\",\n",
    "                UserWarning,\n",
    "            )\n",
    "            continue\n",
    "        ord_categories[column] = categories.tolist()\n",
    "        suave_series = pd.Categorical(df_suave[column], categories=categories, ordered=True)\n",
    "        df_suave[column] = suave_series\n",
    "        codes = pd.Series(suave_series.codes, index=df_suave.index, dtype=float)\n",
    "        df_hivae[column] = codes.replace(-1, np.nan)\n",
    "\n",
    "    remaining = [\n",
    "        col for col in df.columns\n",
    "        if col not in set(cat_categories) and col not in set(ord_categories)\n",
    "    ]\n",
    "    df_suave[remaining] = df[remaining]\n",
    "    df_hivae[remaining] = df[remaining]\n",
    "    return df_suave, df_hivae, cat_categories, ord_categories\n",
    "\n",
    "def _build_schema_and_types(\n",
    "    columns: Iterable[str],\n",
    "    categorical: Mapping[str, Sequence],\n",
    "    ordinal: Mapping[str, Sequence],\n",
    ") -> tuple[Schema, list]:\n",
    "    schema_dict: Dict[str, Mapping[str, object]] = {}\n",
    "    types_list: list = []\n",
    "    for column in columns:\n",
    "        if column in categorical:\n",
    "            n_classes = len(categorical[column])\n",
    "            schema_dict[column] = {'type': 'cat', 'n_classes': n_classes}\n",
    "            types_list.append((column, 'cat', n_classes, n_classes))\n",
    "        elif column in ordinal:\n",
    "            n_classes = len(ordinal[column])\n",
    "            schema_dict[column] = {'type': 'ordinal', 'n_classes': n_classes}\n",
    "            types_list.append((column, 'ordinal', n_classes, n_classes))\n",
    "        else:\n",
    "            schema_dict[column] = {'type': 'real'}\n",
    "            types_list.append((column, 'real', 1, None))\n",
    "    schema = Schema(schema_dict)\n",
    "    return schema, types_list\n"
   ]
  },
  {
   "cell_type": "code",
   "execution_count": 6,
   "id": "f0c6520f",
   "metadata": {
    "execution": {
     "iopub.execute_input": "2025-09-18T13:51:14.872087Z",
     "iopub.status.busy": "2025-09-18T13:51:14.871568Z",
     "iopub.status.idle": "2025-09-18T13:51:14.936812Z",
     "shell.execute_reply": "2025-09-18T13:51:14.935547Z"
    }
   },
   "outputs": [
    {
     "name": "stdout",
     "output_type": "stream",
     "text": [
      "{'Unnamed: 0': {'type': 'real'}, 'age': {'type': 'real'}, 'sex': {'type': 'cat', 'n_classes': 2}, 'BMI': {'type': 'real'}, 'temperature': {'type': 'real'}, 'heart_rate': {'type': 'real'}, 'respir_rate': {'type': 'real'}, 'SBP': {'type': 'real'}, 'DBP': {'type': 'real'}, 'MAP': {'type': 'real'}, 'SOFA_cns': {'type': 'ordinal', 'n_classes': 5}, 'CRRT': {'type': 'cat', 'n_classes': 2}, 'Respiratory_Support': {'type': 'cat', 'n_classes': 5}, 'WBC': {'type': 'real'}, 'Hb': {'type': 'real'}, 'NE%': {'type': 'real'}, 'LYM%': {'type': 'real'}, 'PLT': {'type': 'real'}, 'ALT': {'type': 'real'}, 'AST': {'type': 'real'}, 'STB': {'type': 'real'}, 'BUN': {'type': 'real'}, 'Scr': {'type': 'real'}, 'Glu': {'type': 'real'}, 'K+': {'type': 'real'}, 'Na+': {'type': 'real'}, 'Fg': {'type': 'real'}, 'PT': {'type': 'real'}, 'APTT': {'type': 'real'}, 'PH': {'type': 'real'}, 'PaO2': {'type': 'real'}, 'PaO2/FiO2': {'type': 'real'}, 'PaCO2': {'type': 'real'}, 'HCO3-': {'type': 'real'}, 'Lac': {'type': 'real'}, '3d_septic_shock': {'type': 'cat', 'n_classes': 2}, '7d_septic_shock': {'type': 'cat', 'n_classes': 2}}\n",
      "Number of HI-VAE features: 37\n"
     ]
    },
    {
     "data": {
      "text/html": [
       "<div>\n",
       "<style scoped>\n",
       "    .dataframe tbody tr th:only-of-type {\n",
       "        vertical-align: middle;\n",
       "    }\n",
       "\n",
       "    .dataframe tbody tr th {\n",
       "        vertical-align: top;\n",
       "    }\n",
       "\n",
       "    .dataframe thead th {\n",
       "        text-align: right;\n",
       "    }\n",
       "</style>\n",
       "<table border=\"1\" class=\"dataframe\">\n",
       "  <thead>\n",
       "    <tr style=\"text-align: right;\">\n",
       "      <th></th>\n",
       "      <th>Unnamed: 0</th>\n",
       "      <th>age</th>\n",
       "      <th>sex</th>\n",
       "      <th>BMI</th>\n",
       "      <th>temperature</th>\n",
       "      <th>heart_rate</th>\n",
       "      <th>respir_rate</th>\n",
       "      <th>SBP</th>\n",
       "      <th>DBP</th>\n",
       "      <th>MAP</th>\n",
       "      <th>...</th>\n",
       "      <th>PT</th>\n",
       "      <th>APTT</th>\n",
       "      <th>PH</th>\n",
       "      <th>PaO2</th>\n",
       "      <th>PaO2/FiO2</th>\n",
       "      <th>PaCO2</th>\n",
       "      <th>HCO3-</th>\n",
       "      <th>Lac</th>\n",
       "      <th>3d_septic_shock</th>\n",
       "      <th>7d_septic_shock</th>\n",
       "    </tr>\n",
       "  </thead>\n",
       "  <tbody>\n",
       "    <tr>\n",
       "      <th>0</th>\n",
       "      <td>29349</td>\n",
       "      <td>26</td>\n",
       "      <td>0</td>\n",
       "      <td>NaN</td>\n",
       "      <td>37.748750</td>\n",
       "      <td>85.520000</td>\n",
       "      <td>16.370370</td>\n",
       "      <td>110.269231</td>\n",
       "      <td>63.538462</td>\n",
       "      <td>80.096154</td>\n",
       "      <td>...</td>\n",
       "      <td>14.45</td>\n",
       "      <td>25.75</td>\n",
       "      <td>7.480</td>\n",
       "      <td>302.0</td>\n",
       "      <td>503.333333</td>\n",
       "      <td>25.0</td>\n",
       "      <td>17.0</td>\n",
       "      <td>NaN</td>\n",
       "      <td>0</td>\n",
       "      <td>0</td>\n",
       "    </tr>\n",
       "    <tr>\n",
       "      <th>1</th>\n",
       "      <td>25936</td>\n",
       "      <td>76</td>\n",
       "      <td>0</td>\n",
       "      <td>26.271218</td>\n",
       "      <td>37.083333</td>\n",
       "      <td>81.041667</td>\n",
       "      <td>17.900000</td>\n",
       "      <td>160.208333</td>\n",
       "      <td>62.500000</td>\n",
       "      <td>87.250000</td>\n",
       "      <td>...</td>\n",
       "      <td>12.60</td>\n",
       "      <td>53.00</td>\n",
       "      <td>7.265</td>\n",
       "      <td>51.5</td>\n",
       "      <td>128.750000</td>\n",
       "      <td>42.0</td>\n",
       "      <td>18.5</td>\n",
       "      <td>1.4</td>\n",
       "      <td>0</td>\n",
       "      <td>0</td>\n",
       "    </tr>\n",
       "    <tr>\n",
       "      <th>2</th>\n",
       "      <td>9686</td>\n",
       "      <td>76</td>\n",
       "      <td>1</td>\n",
       "      <td>35.967860</td>\n",
       "      <td>37.498571</td>\n",
       "      <td>86.360000</td>\n",
       "      <td>18.220000</td>\n",
       "      <td>109.500000</td>\n",
       "      <td>62.291667</td>\n",
       "      <td>75.958333</td>\n",
       "      <td>...</td>\n",
       "      <td>11.70</td>\n",
       "      <td>25.10</td>\n",
       "      <td>7.195</td>\n",
       "      <td>107.5</td>\n",
       "      <td>134.166667</td>\n",
       "      <td>38.5</td>\n",
       "      <td>14.5</td>\n",
       "      <td>1.4</td>\n",
       "      <td>0</td>\n",
       "      <td>0</td>\n",
       "    </tr>\n",
       "    <tr>\n",
       "      <th>3</th>\n",
       "      <td>11918</td>\n",
       "      <td>71</td>\n",
       "      <td>1</td>\n",
       "      <td>NaN</td>\n",
       "      <td>37.412857</td>\n",
       "      <td>110.851852</td>\n",
       "      <td>22.555556</td>\n",
       "      <td>105.440000</td>\n",
       "      <td>56.720000</td>\n",
       "      <td>69.800000</td>\n",
       "      <td>...</td>\n",
       "      <td>16.15</td>\n",
       "      <td>33.20</td>\n",
       "      <td>NaN</td>\n",
       "      <td>NaN</td>\n",
       "      <td>NaN</td>\n",
       "      <td>NaN</td>\n",
       "      <td>19.5</td>\n",
       "      <td>NaN</td>\n",
       "      <td>0</td>\n",
       "      <td>0</td>\n",
       "    </tr>\n",
       "    <tr>\n",
       "      <th>4</th>\n",
       "      <td>26289</td>\n",
       "      <td>78</td>\n",
       "      <td>1</td>\n",
       "      <td>23.979239</td>\n",
       "      <td>36.697143</td>\n",
       "      <td>94.307692</td>\n",
       "      <td>20.961538</td>\n",
       "      <td>98.015625</td>\n",
       "      <td>53.171875</td>\n",
       "      <td>69.843750</td>\n",
       "      <td>...</td>\n",
       "      <td>22.30</td>\n",
       "      <td>37.25</td>\n",
       "      <td>7.435</td>\n",
       "      <td>102.0</td>\n",
       "      <td>NaN</td>\n",
       "      <td>31.0</td>\n",
       "      <td>20.0</td>\n",
       "      <td>1.7</td>\n",
       "      <td>0</td>\n",
       "      <td>0</td>\n",
       "    </tr>\n",
       "  </tbody>\n",
       "</table>\n",
       "<p>5 rows × 37 columns</p>\n",
       "</div>"
      ],
      "text/plain": [
       "   Unnamed: 0  age sex        BMI  temperature  heart_rate  respir_rate  \\\n",
       "0       29349   26   0        NaN    37.748750   85.520000    16.370370   \n",
       "1       25936   76   0  26.271218    37.083333   81.041667    17.900000   \n",
       "2        9686   76   1  35.967860    37.498571   86.360000    18.220000   \n",
       "3       11918   71   1        NaN    37.412857  110.851852    22.555556   \n",
       "4       26289   78   1  23.979239    36.697143   94.307692    20.961538   \n",
       "\n",
       "          SBP        DBP        MAP  ...     PT   APTT     PH   PaO2  \\\n",
       "0  110.269231  63.538462  80.096154  ...  14.45  25.75  7.480  302.0   \n",
       "1  160.208333  62.500000  87.250000  ...  12.60  53.00  7.265   51.5   \n",
       "2  109.500000  62.291667  75.958333  ...  11.70  25.10  7.195  107.5   \n",
       "3  105.440000  56.720000  69.800000  ...  16.15  33.20    NaN    NaN   \n",
       "4   98.015625  53.171875  69.843750  ...  22.30  37.25  7.435  102.0   \n",
       "\n",
       "    PaO2/FiO2  PaCO2  HCO3-  Lac  3d_septic_shock  7d_septic_shock  \n",
       "0  503.333333   25.0   17.0  NaN                0                0  \n",
       "1  128.750000   42.0   18.5  1.4                0                0  \n",
       "2  134.166667   38.5   14.5  1.4                0                0  \n",
       "3         NaN    NaN   19.5  NaN                0                0  \n",
       "4         NaN   31.0   20.0  1.7                0                0  \n",
       "\n",
       "[5 rows x 37 columns]"
      ]
     },
     "execution_count": 6,
     "metadata": {},
     "output_type": "execute_result"
    }
   ],
   "source": [
    "\n",
    "suave_df, hivae_df, cat_maps, ord_maps = _prepare_dataframes(raw_df, categorical_columns, ordinal_columns)\n",
    "schema, types_list = _build_schema_and_types(raw_df.columns, cat_maps, ord_maps)\n",
    "print(schema.to_dict())\n",
    "print('Number of HI-VAE features:', len(types_list))\n",
    "suave_df.head()\n"
   ]
  },
  {
   "cell_type": "code",
   "execution_count": 7,
   "id": "712f0c5e",
   "metadata": {
    "execution": {
     "iopub.execute_input": "2025-09-18T13:51:14.939864Z",
     "iopub.status.busy": "2025-09-18T13:51:14.939486Z",
     "iopub.status.idle": "2025-09-18T13:51:14.989147Z",
     "shell.execute_reply": "2025-09-18T13:51:14.987834Z"
    }
   },
   "outputs": [
    {
     "name": "stdout",
     "output_type": "stream",
     "text": [
      "Train shape: (3698, 37), Test shape: (925, 37)\n"
     ]
    }
   ],
   "source": [
    "\n",
    "train_idx, test_idx = train_test_split(\n",
    "    suave_df.index, test_size=0.2, random_state=RANDOM_SEED, shuffle=True\n",
    ")\n",
    "train_idx = sorted(train_idx)\n",
    "test_idx = sorted(test_idx)\n",
    "train_suave = suave_df.loc[train_idx].reset_index(drop=True)\n",
    "test_suave = suave_df.loc[test_idx].reset_index(drop=True)\n",
    "train_hivae = hivae_df.loc[train_idx].reset_index(drop=True)\n",
    "test_hivae = hivae_df.loc[test_idx].reset_index(drop=True)\n",
    "test_reference = raw_df.loc[test_idx].reset_index(drop=True)\n",
    "print(f'Train shape: {train_suave.shape}, Test shape: {test_suave.shape}')\n"
   ]
  },
  {
   "cell_type": "code",
   "execution_count": 8,
   "id": "07f4f17a",
   "metadata": {
    "execution": {
     "iopub.execute_input": "2025-09-18T13:51:14.992914Z",
     "iopub.status.busy": "2025-09-18T13:51:14.992443Z",
     "iopub.status.idle": "2025-09-18T13:51:15.007259Z",
     "shell.execute_reply": "2025-09-18T13:51:15.005760Z"
    }
   },
   "outputs": [],
   "source": [
    "\n",
    "def introduce_artificial_missing(df: pd.DataFrame, rate: float, *, seed: int) -> tuple[pd.DataFrame, np.ndarray]:\n",
    "    rng = np.random.default_rng(seed)\n",
    "    observed = ~df.isna().to_numpy()\n",
    "    mask = np.zeros(df.shape, dtype=bool)\n",
    "    corrupted = df.copy()\n",
    "    for j, column in enumerate(df.columns):\n",
    "        candidates = np.where(observed[:, j])[0]\n",
    "        if len(candidates) == 0:\n",
    "            continue\n",
    "        n_remove = max(1, int(round(rate * len(candidates))))\n",
    "        n_remove = min(n_remove, len(candidates))\n",
    "        selected = rng.choice(candidates, size=n_remove, replace=False)\n",
    "        corrupted.iloc[selected, j] = np.nan\n",
    "        mask[selected, j] = True\n",
    "    return corrupted, mask\n",
    "\n",
    "def evaluate_imputations(\n",
    "    original: pd.DataFrame,\n",
    "    imputed: pd.DataFrame,\n",
    "    mask: np.ndarray,\n",
    "    discrete_columns: Sequence[str],\n",
    ") -> pd.DataFrame:\n",
    "    records = []\n",
    "    columns = list(original.columns)\n",
    "    for j, column in enumerate(columns):\n",
    "        column_mask = mask[:, j]\n",
    "        if not column_mask.any():\n",
    "            continue\n",
    "        truth = original.loc[column_mask, column]\n",
    "        preds = imputed.loc[column_mask, column]\n",
    "        if column in discrete_columns:\n",
    "            truth_values = truth.astype(str).reset_index(drop=True)\n",
    "            pred_values = preds.astype(str).reset_index(drop=True)\n",
    "            accuracy = float((truth_values == pred_values).mean())\n",
    "            records.append({\n",
    "                'column': column,\n",
    "                'metric': 'categorical_accuracy',\n",
    "                'value': accuracy,\n",
    "            })\n",
    "        else:\n",
    "            truth_numeric = pd.to_numeric(truth, errors='coerce')\n",
    "            preds_numeric = pd.to_numeric(preds, errors='coerce')\n",
    "            diff = preds_numeric - truth_numeric\n",
    "            if np.all(np.isnan(diff)):\n",
    "                continue\n",
    "            mse = float(np.nanmean(np.square(diff)))\n",
    "            records.append({\n",
    "                'column': column,\n",
    "                'metric': 'mse',\n",
    "                'value': mse,\n",
    "            })\n",
    "    return pd.DataFrame(records)\n"
   ]
  },
  {
   "cell_type": "code",
   "execution_count": 9,
   "id": "4761b60d",
   "metadata": {
    "execution": {
     "iopub.execute_input": "2025-09-18T13:51:15.011324Z",
     "iopub.status.busy": "2025-09-18T13:51:15.010868Z",
     "iopub.status.idle": "2025-09-18T13:51:15.047726Z",
     "shell.execute_reply": "2025-09-18T13:51:15.046531Z"
    }
   },
   "outputs": [
    {
     "name": "stdout",
     "output_type": "stream",
     "text": [
      "Corrupted test set ready. Artificially masked cells: 2976\n"
     ]
    }
   ],
   "source": [
    "\n",
    "artificial_rate = 0.1\n",
    "test_suave_corrupted, artificial_mask = introduce_artificial_missing(\n",
    "    test_suave, rate=artificial_rate, seed=RANDOM_SEED\n",
    ")\n",
    "test_hivae_corrupted = test_hivae.copy()\n",
    "for j, column in enumerate(test_hivae.columns):\n",
    "    missing_indices = np.where(artificial_mask[:, j])[0]\n",
    "    if len(missing_indices):\n",
    "        test_hivae_corrupted.iloc[missing_indices, j] = np.nan\n",
    "print('Corrupted test set ready. Artificially masked cells:', artificial_mask.sum())\n"
   ]
  },
  {
   "cell_type": "code",
   "execution_count": 10,
   "id": "7d1f487d",
   "metadata": {
    "execution": {
     "iopub.execute_input": "2025-09-18T13:51:15.051614Z",
     "iopub.status.busy": "2025-09-18T13:51:15.051183Z",
     "iopub.status.idle": "2025-09-18T13:51:51.783479Z",
     "shell.execute_reply": "2025-09-18T13:51:51.782211Z"
    }
   },
   "outputs": [
    {
     "name": "stderr",
     "output_type": "stream",
     "text": [
      "CUDA not available; falling back to CPU\n"
     ]
    },
    {
     "name": "stderr",
     "output_type": "stream",
     "text": [
      "\r",
      "Training:   0% 0/25 [00:00<?, ?it/s]"
     ]
    },
    {
     "name": "stderr",
     "output_type": "stream",
     "text": [
      "\r",
      "Training:   0% 0/25 [00:01<?, ?it/s, loss=112]"
     ]
    },
    {
     "name": "stderr",
     "output_type": "stream",
     "text": [
      "\r",
      "Training:   4% 1/25 [00:01<00:29,  1.23s/it, loss=112]"
     ]
    },
    {
     "name": "stderr",
     "output_type": "stream",
     "text": [
      "\r",
      "Training:   4% 1/25 [00:02<00:29,  1.23s/it, loss=110]"
     ]
    },
    {
     "name": "stderr",
     "output_type": "stream",
     "text": [
      "\r",
      "Training:   8% 2/25 [00:02<00:29,  1.29s/it, loss=110]"
     ]
    },
    {
     "name": "stderr",
     "output_type": "stream",
     "text": [
      "\r",
      "Training:   8% 2/25 [00:03<00:29,  1.29s/it, loss=109]"
     ]
    },
    {
     "name": "stderr",
     "output_type": "stream",
     "text": [
      "\r",
      "Training:  12% 3/25 [00:03<00:28,  1.30s/it, loss=109]"
     ]
    },
    {
     "name": "stderr",
     "output_type": "stream",
     "text": [
      "\r",
      "Training:  12% 3/25 [00:05<00:28,  1.30s/it, loss=109]"
     ]
    },
    {
     "name": "stderr",
     "output_type": "stream",
     "text": [
      "\r",
      "Training:  16% 4/25 [00:05<00:27,  1.32s/it, loss=109]"
     ]
    },
    {
     "name": "stderr",
     "output_type": "stream",
     "text": [
      "\r",
      "Training:  16% 4/25 [00:06<00:27,  1.32s/it, loss=108]"
     ]
    },
    {
     "name": "stderr",
     "output_type": "stream",
     "text": [
      "\r",
      "Training:  20% 5/25 [00:06<00:26,  1.31s/it, loss=108]"
     ]
    },
    {
     "name": "stderr",
     "output_type": "stream",
     "text": [
      "\r",
      "Training:  20% 5/25 [00:07<00:26,  1.31s/it, loss=108]"
     ]
    },
    {
     "name": "stderr",
     "output_type": "stream",
     "text": [
      "\r",
      "Training:  24% 6/25 [00:07<00:25,  1.37s/it, loss=108]"
     ]
    },
    {
     "name": "stderr",
     "output_type": "stream",
     "text": [
      "\r",
      "Training:  24% 6/25 [00:09<00:25,  1.37s/it, loss=108]"
     ]
    },
    {
     "name": "stderr",
     "output_type": "stream",
     "text": [
      "\r",
      "Training:  28% 7/25 [00:09<00:25,  1.40s/it, loss=108]"
     ]
    },
    {
     "name": "stderr",
     "output_type": "stream",
     "text": [
      "\r",
      "Training:  28% 7/25 [00:10<00:25,  1.40s/it, loss=107]"
     ]
    },
    {
     "name": "stderr",
     "output_type": "stream",
     "text": [
      "\r",
      "Training:  32% 8/25 [00:10<00:23,  1.38s/it, loss=107]"
     ]
    },
    {
     "name": "stderr",
     "output_type": "stream",
     "text": [
      "\r",
      "Training:  32% 8/25 [00:12<00:23,  1.38s/it, loss=107]"
     ]
    },
    {
     "name": "stderr",
     "output_type": "stream",
     "text": [
      "\r",
      "Training:  36% 9/25 [00:12<00:21,  1.37s/it, loss=107]"
     ]
    },
    {
     "name": "stderr",
     "output_type": "stream",
     "text": [
      "\r",
      "Training:  36% 9/25 [00:13<00:21,  1.37s/it, loss=108]"
     ]
    },
    {
     "name": "stderr",
     "output_type": "stream",
     "text": [
      "\r",
      "Training:  40% 10/25 [00:13<00:20,  1.36s/it, loss=108]"
     ]
    },
    {
     "name": "stderr",
     "output_type": "stream",
     "text": [
      "\r",
      "Training:  40% 10/25 [00:14<00:20,  1.36s/it, loss=108]"
     ]
    },
    {
     "name": "stderr",
     "output_type": "stream",
     "text": [
      "\r",
      "Training:  44% 11/25 [00:14<00:18,  1.33s/it, loss=108]"
     ]
    },
    {
     "name": "stderr",
     "output_type": "stream",
     "text": [
      "\r",
      "Training:  44% 11/25 [00:16<00:18,  1.33s/it, loss=107]"
     ]
    },
    {
     "name": "stderr",
     "output_type": "stream",
     "text": [
      "\r",
      "Training:  48% 12/25 [00:16<00:17,  1.35s/it, loss=107]"
     ]
    },
    {
     "name": "stderr",
     "output_type": "stream",
     "text": [
      "\r",
      "Training:  48% 12/25 [00:17<00:17,  1.35s/it, loss=107]"
     ]
    },
    {
     "name": "stderr",
     "output_type": "stream",
     "text": [
      "\r",
      "Training:  52% 13/25 [00:17<00:16,  1.35s/it, loss=107]"
     ]
    },
    {
     "name": "stderr",
     "output_type": "stream",
     "text": [
      "\r",
      "Training:  52% 13/25 [00:18<00:16,  1.35s/it, loss=107]"
     ]
    },
    {
     "name": "stderr",
     "output_type": "stream",
     "text": [
      "\r",
      "Training:  56% 14/25 [00:18<00:14,  1.36s/it, loss=107]"
     ]
    },
    {
     "name": "stderr",
     "output_type": "stream",
     "text": [
      "\r",
      "Training:  56% 14/25 [00:20<00:14,  1.36s/it, loss=107]"
     ]
    },
    {
     "name": "stderr",
     "output_type": "stream",
     "text": [
      "\r",
      "Training:  60% 15/25 [00:20<00:13,  1.33s/it, loss=107]"
     ]
    },
    {
     "name": "stderr",
     "output_type": "stream",
     "text": [
      "\r",
      "Training:  60% 15/25 [00:21<00:13,  1.33s/it, loss=107]"
     ]
    },
    {
     "name": "stderr",
     "output_type": "stream",
     "text": [
      "\r",
      "Training:  64% 16/25 [00:21<00:12,  1.35s/it, loss=107]"
     ]
    },
    {
     "name": "stderr",
     "output_type": "stream",
     "text": [
      "\r",
      "Training:  64% 16/25 [00:22<00:12,  1.35s/it, loss=107]"
     ]
    },
    {
     "name": "stderr",
     "output_type": "stream",
     "text": [
      "\r",
      "Training:  68% 17/25 [00:22<00:10,  1.32s/it, loss=107]"
     ]
    },
    {
     "name": "stderr",
     "output_type": "stream",
     "text": [
      "\r",
      "Training:  68% 17/25 [00:23<00:10,  1.32s/it, loss=107]"
     ]
    },
    {
     "name": "stderr",
     "output_type": "stream",
     "text": [
      "\r",
      "Training:  72% 18/25 [00:23<00:09,  1.29s/it, loss=107]"
     ]
    },
    {
     "name": "stderr",
     "output_type": "stream",
     "text": [
      "\r",
      "Training:  72% 18/25 [00:25<00:09,  1.29s/it, loss=106]"
     ]
    },
    {
     "name": "stderr",
     "output_type": "stream",
     "text": [
      "\r",
      "Training:  76% 19/25 [00:25<00:08,  1.36s/it, loss=106]"
     ]
    },
    {
     "name": "stderr",
     "output_type": "stream",
     "text": [
      "\r",
      "Training:  76% 19/25 [00:27<00:08,  1.36s/it, loss=107]"
     ]
    },
    {
     "name": "stderr",
     "output_type": "stream",
     "text": [
      "\r",
      "Training:  80% 20/25 [00:27<00:07,  1.41s/it, loss=107]"
     ]
    },
    {
     "name": "stderr",
     "output_type": "stream",
     "text": [
      "\r",
      "Training:  80% 20/25 [00:28<00:07,  1.41s/it, loss=107]"
     ]
    },
    {
     "name": "stderr",
     "output_type": "stream",
     "text": [
      "\r",
      "Training:  84% 21/25 [00:28<00:05,  1.42s/it, loss=107]"
     ]
    },
    {
     "name": "stderr",
     "output_type": "stream",
     "text": [
      "\r",
      "Training:  84% 21/25 [00:30<00:05,  1.42s/it, loss=106]"
     ]
    },
    {
     "name": "stderr",
     "output_type": "stream",
     "text": [
      "\r",
      "Training:  88% 22/25 [00:30<00:04,  1.52s/it, loss=106]"
     ]
    },
    {
     "name": "stderr",
     "output_type": "stream",
     "text": [
      "\r",
      "Training:  88% 22/25 [00:32<00:04,  1.52s/it, loss=107]"
     ]
    },
    {
     "name": "stderr",
     "output_type": "stream",
     "text": [
      "\r",
      "Training:  92% 23/25 [00:32<00:03,  1.61s/it, loss=107]"
     ]
    },
    {
     "name": "stderr",
     "output_type": "stream",
     "text": [
      "\r",
      "Training:  92% 23/25 [00:33<00:03,  1.61s/it, loss=106]"
     ]
    },
    {
     "name": "stderr",
     "output_type": "stream",
     "text": [
      "\r",
      "Training:  96% 24/25 [00:33<00:01,  1.63s/it, loss=106]"
     ]
    },
    {
     "name": "stderr",
     "output_type": "stream",
     "text": [
      "\r",
      "Training:  96% 24/25 [00:35<00:01,  1.63s/it, loss=107]"
     ]
    },
    {
     "name": "stderr",
     "output_type": "stream",
     "text": [
      "\r",
      "Training: 100% 25/25 [00:35<00:00,  1.64s/it, loss=107]"
     ]
    },
    {
     "name": "stderr",
     "output_type": "stream",
     "text": [
      "\r",
      "                                                       "
     ]
    },
    {
     "name": "stderr",
     "output_type": "stream",
     "text": [
      "\r"
     ]
    },
    {
     "data": {
      "text/plain": [
       "SUAVE(latent_dim=32, beta=1.5, hidden_dims=(128, 64), dropout=0.1, learning_rate=0.001)"
      ]
     },
     "execution_count": 10,
     "metadata": {},
     "output_type": "execute_result"
    }
   ],
   "source": [
    "\n",
    "EPOCHS = 25\n",
    "BATCH_SIZE = min(128, len(train_suave))\n",
    "suave_model = SUAVE(\n",
    "    schema=schema,\n",
    "    behaviour='hivae',\n",
    "    latent_dim=32,\n",
    "    hidden_dims=(128, 64),\n",
    "    batch_size=BATCH_SIZE,\n",
    "    random_state=RANDOM_SEED,\n",
    ")\n",
    "suave_model.fit(train_suave, epochs=EPOCHS, batch_size=BATCH_SIZE)\n"
   ]
  },
  {
   "cell_type": "code",
   "execution_count": 11,
   "id": "ec342f07",
   "metadata": {
    "execution": {
     "iopub.execute_input": "2025-09-18T13:51:51.787299Z",
     "iopub.status.busy": "2025-09-18T13:51:51.786468Z",
     "iopub.status.idle": "2025-09-18T13:53:28.981145Z",
     "shell.execute_reply": "2025-09-18T13:53:28.979457Z"
    }
   },
   "outputs": [
    {
     "name": "stdout",
     "output_type": "stream",
     "text": [
      "DEBUG:   \t 1 2 self.full_network_path examples/.cache/mimic_hivae_tf/networks/model_HIVAE_inputDropout_s32_z32_y32_batch64_0216dbd3-0e2c-419c-ac55-205bb0f3fa23\n",
      "DEBUG:   \t 1 2 self.full_results_path examples/.cache/mimic_hivae_tf/results/model_HIVAE_inputDropout_s32_z32_y32_batch64_0216dbd3-0e2c-419c-ac55-205bb0f3fa23\n",
      "DEBUG:   \t 1 2 self.network_file_name examples/.cache/mimic_hivae_tf/networks/model_HIVAE_inputDropout_s32_z32_y32_batch64_0216dbd3-0e2c-419c-ac55-205bb0f3fa23_ckpt\n",
      "DEBUG:   \t 1 2 hivae:_training:len(training_data) 3698\n",
      "DEBUG:   \t 1 2 [*] Importing model: model_HIVAE_inputDropout\n",
      "DEBUG:   \t 1 2 [*] Defining placeholders\n"
     ]
    },
    {
     "name": "stdout",
     "output_type": "stream",
     "text": [
      "DEBUG:   \t 1 2 [*] Defining Encoder...\n",
      "DEBUG:   \t 1 2 [*] Defining Decoder...\n"
     ]
    },
    {
     "name": "stderr",
     "output_type": "stream",
     "text": [
      "/workspace/SUAVE/third_party/hivae_tf/hivae/VAE_functions.py:117: UserWarning: `tf.layers.dense` is deprecated and will be removed in a future version. Please use `tf.keras.layers.Dense` instead.\n",
      "  log_pi = tf.compat.v1.layers.dense(inputs=X, units=s_dim, activation=None,\n",
      "/workspace/SUAVE/third_party/hivae_tf/hivae/VAE_functions.py:134: UserWarning: `tf.layers.dense` is deprecated and will be removed in a future version. Please use `tf.keras.layers.Dense` instead.\n",
      "  mean_qz = tf.compat.v1.layers.dense(inputs=tf.concat([X,samples_s],1), units=z_dim, activation=None,\n",
      "/workspace/SUAVE/third_party/hivae_tf/hivae/VAE_functions.py:136: UserWarning: `tf.layers.dense` is deprecated and will be removed in a future version. Please use `tf.keras.layers.Dense` instead.\n",
      "  log_var_qz = tf.compat.v1.layers.dense(inputs=tf.concat([X,samples_s],1), units=z_dim, activation=None,\n",
      "/workspace/SUAVE/third_party/hivae_tf/hivae/VAE_functions.py:211: UserWarning: `tf.layers.dense` is deprecated and will be removed in a future version. Please use `tf.keras.layers.Dense` instead.\n",
      "  mean_pz = tf.compat.v1.layers.dense(inputs=samples_s, units=z_dim, activation=None,\n",
      "/workspace/SUAVE/third_party/hivae_tf/hivae/model_HIVAE_inputDropout.py:50: UserWarning: `tf.layers.dense` is deprecated and will be removed in a future version. Please use `tf.keras.layers.Dense` instead.\n",
      "  samples['y'] = tf.compat.v1.layers.dense(inputs=samples['z'], units=y_dim, activation=None,\n"
     ]
    },
    {
     "name": "stderr",
     "output_type": "stream",
     "text": [
      "/workspace/SUAVE/third_party/hivae_tf/hivae/VAE_functions.py:433: UserWarning: `tf.layers.dense` is deprecated and will be removed in a future version. Please use `tf.keras.layers.Dense` instead.\n",
      "  obs_output = tf.compat.v1.layers.dense(inputs=observed_data, units=output_dim, activation=None,\n",
      "/workspace/SUAVE/third_party/hivae_tf/hivae/VAE_functions.py:435: UserWarning: `tf.layers.dense` is deprecated and will be removed in a future version. Please use `tf.keras.layers.Dense` instead.\n",
      "  miss_output = tf.compat.v1.layers.dense(inputs=missing_data, units=output_dim, activation=None,\n"
     ]
    },
    {
     "name": "stdout",
     "output_type": "stream",
     "text": [
      "DEBUG:   \t 1 2 [*] Defining Cost function...\n"
     ]
    },
    {
     "name": "stderr",
     "output_type": "stream",
     "text": [
      "/workspace/SUAVE/third_party/hivae_tf/hivae/model_HIVAE_inputDropout.py:100: UserWarning: `tf.layers.dense` is deprecated and will be removed in a future version. Please use `tf.keras.layers.Dense` instead.\n",
      "  samples_test['y'] = tf.compat.v1.layers.dense(inputs=samples_test['z'], units=y_dim, activation=None,\n"
     ]
    },
    {
     "name": "stdout",
     "output_type": "stream",
     "text": [
      "INFO:    \t 0 3 Training the HIVAE ...\n",
      "INFO:    \t 0 3 Initizalizing Variables ...\n"
     ]
    },
    {
     "name": "stdout",
     "output_type": "stream",
     "text": [
      "DEBUG:   \t 1 2 Clusters: 32\n",
      "DEBUG:   \t 1 2 Epoch:    0\ttime: 13.16\ttrain_loglik: -110.15\tKL_z:  1.04\tKL_s:  0.05\tELBO: -111.23\tTest_loglik: 100000.00\n"
     ]
    },
    {
     "name": "stdout",
     "output_type": "stream",
     "text": [
      "DEBUG:   \t 1 2 Clusters: 28\n",
      "DEBUG:   \t 1 2 Epoch:    1\ttime: 15.78\ttrain_loglik: -106.95\tKL_z:  1.51\tKL_s:  0.12\tELBO: -108.58\tTest_loglik: 100000.00\n"
     ]
    },
    {
     "name": "stdout",
     "output_type": "stream",
     "text": [
      "DEBUG:   \t 1 2 Clusters: 24\n",
      "DEBUG:   \t 1 2 Epoch:    2\ttime: 18.74\ttrain_loglik: -104.33\tKL_z:  2.47\tKL_s:  0.30\tELBO: -107.10\tTest_loglik: 100000.00\n"
     ]
    },
    {
     "name": "stdout",
     "output_type": "stream",
     "text": [
      "DEBUG:   \t 1 2 Clusters: 21\n",
      "DEBUG:   \t 1 2 Epoch:    3\ttime: 20.94\ttrain_loglik: -103.40\tKL_z:  2.75\tKL_s:  0.73\tELBO: -106.88\tTest_loglik: 100000.00\n"
     ]
    },
    {
     "name": "stdout",
     "output_type": "stream",
     "text": [
      "DEBUG:   \t 1 2 Clusters: 14\n",
      "DEBUG:   \t 1 2 Epoch:    4\ttime: 23.41\ttrain_loglik: -102.68\tKL_z:  2.81\tKL_s:  1.36\tELBO: -106.86\tTest_loglik: 100000.00\n"
     ]
    },
    {
     "name": "stdout",
     "output_type": "stream",
     "text": [
      "DEBUG:   \t 1 2 Clusters: 10\n",
      "DEBUG:   \t 1 2 Epoch:    5\ttime: 25.67\ttrain_loglik: -102.22\tKL_z:  2.80\tKL_s:  1.84\tELBO: -106.86\tTest_loglik: 100000.00\n"
     ]
    },
    {
     "name": "stdout",
     "output_type": "stream",
     "text": [
      "DEBUG:   \t 1 2 Clusters: 10\n",
      "DEBUG:   \t 1 2 Epoch:    6\ttime: 28.20\ttrain_loglik: -101.85\tKL_z:  2.79\tKL_s:  2.14\tELBO: -106.78\tTest_loglik: 100000.00\n"
     ]
    },
    {
     "name": "stdout",
     "output_type": "stream",
     "text": [
      "DEBUG:   \t 1 2 Clusters: 12\n",
      "DEBUG:   \t 1 2 Epoch:    7\ttime: 30.33\ttrain_loglik: -101.50\tKL_z:  2.72\tKL_s:  2.33\tELBO: -106.55\tTest_loglik: 100000.00\n"
     ]
    },
    {
     "name": "stdout",
     "output_type": "stream",
     "text": [
      "DEBUG:   \t 1 2 Clusters: 12\n",
      "DEBUG:   \t 1 2 Epoch:    8\ttime: 32.72\ttrain_loglik: -101.18\tKL_z:  2.71\tKL_s:  2.45\tELBO: -106.34\tTest_loglik: 100000.00\n"
     ]
    },
    {
     "name": "stdout",
     "output_type": "stream",
     "text": [
      "DEBUG:   \t 1 2 Clusters: 12\n",
      "DEBUG:   \t 1 2 Epoch:    9\ttime: 34.99\ttrain_loglik: -100.75\tKL_z:  2.69\tKL_s:  2.53\tELBO: -105.97\tTest_loglik: 100000.00\n"
     ]
    },
    {
     "name": "stdout",
     "output_type": "stream",
     "text": [
      "DEBUG:   \t 1 2 Clusters: 11\n",
      "DEBUG:   \t 1 2 Epoch:   10\ttime: 37.26\ttrain_loglik: -100.54\tKL_z:  2.71\tKL_s:  2.57\tELBO: -105.81\tTest_loglik: 100000.00\n"
     ]
    },
    {
     "name": "stdout",
     "output_type": "stream",
     "text": [
      "DEBUG:   \t 1 2 Clusters: 12\n",
      "DEBUG:   \t 1 2 Epoch:   11\ttime: 40.14\ttrain_loglik: -100.58\tKL_z:  2.68\tKL_s:  2.59\tELBO: -105.84\tTest_loglik: 100000.00\n"
     ]
    },
    {
     "name": "stdout",
     "output_type": "stream",
     "text": [
      "DEBUG:   \t 1 2 Clusters: 11\n"
     ]
    },
    {
     "name": "stdout",
     "output_type": "stream",
     "text": [
      "DEBUG:   \t 1 2 Epoch:   12\ttime: 43.04\ttrain_loglik: -100.37\tKL_z:  2.66\tKL_s:  2.60\tELBO: -105.62\tTest_loglik: 100000.00\n"
     ]
    },
    {
     "name": "stdout",
     "output_type": "stream",
     "text": [
      "DEBUG:   \t 1 2 Clusters: 11\n",
      "DEBUG:   \t 1 2 Epoch:   13\ttime: 45.63\ttrain_loglik: -99.91\tKL_z:  2.65\tKL_s:  2.61\tELBO: -105.17\tTest_loglik: 100000.00\n"
     ]
    },
    {
     "name": "stdout",
     "output_type": "stream",
     "text": [
      "DEBUG:   \t 1 2 Clusters: 11\n",
      "DEBUG:   \t 1 2 Epoch:   14\ttime: 48.14\ttrain_loglik: -99.72\tKL_z:  2.66\tKL_s:  2.62\tELBO: -104.99\tTest_loglik: 100000.00\n"
     ]
    },
    {
     "name": "stdout",
     "output_type": "stream",
     "text": [
      "DEBUG:   \t 1 2 Clusters: 11\n",
      "DEBUG:   \t 1 2 Epoch:   15\ttime: 50.57\ttrain_loglik: -99.63\tKL_z:  2.65\tKL_s:  2.64\tELBO: -104.92\tTest_loglik: 100000.00\n"
     ]
    },
    {
     "name": "stdout",
     "output_type": "stream",
     "text": [
      "DEBUG:   \t 1 2 Clusters: 11\n",
      "DEBUG:   \t 1 2 Epoch:   16\ttime: 52.98\ttrain_loglik: -99.52\tKL_z:  2.64\tKL_s:  2.65\tELBO: -104.80\tTest_loglik: 100000.00\n"
     ]
    },
    {
     "name": "stdout",
     "output_type": "stream",
     "text": [
      "DEBUG:   \t 1 2 Clusters: 12\n",
      "DEBUG:   \t 1 2 Epoch:   17\ttime: 55.46\ttrain_loglik: -99.39\tKL_z:  2.61\tKL_s:  2.66\tELBO: -104.66\tTest_loglik: 100000.00\n"
     ]
    },
    {
     "name": "stdout",
     "output_type": "stream",
     "text": [
      "DEBUG:   \t 1 2 Clusters: 11\n",
      "DEBUG:   \t 1 2 Epoch:   18\ttime: 57.75\ttrain_loglik: -99.27\tKL_z:  2.63\tKL_s:  2.68\tELBO: -104.58\tTest_loglik: 100000.00\n"
     ]
    },
    {
     "name": "stdout",
     "output_type": "stream",
     "text": [
      "DEBUG:   \t 1 2 Clusters: 11\n",
      "DEBUG:   \t 1 2 Epoch:   19\ttime: 60.32\ttrain_loglik: -99.04\tKL_z:  2.63\tKL_s:  2.69\tELBO: -104.35\tTest_loglik: 100000.00\n"
     ]
    },
    {
     "name": "stdout",
     "output_type": "stream",
     "text": [
      "DEBUG:   \t 1 2 Clusters: 11\n",
      "DEBUG:   \t 1 2 Epoch:   20\ttime: 62.68\ttrain_loglik: -98.88\tKL_z:  2.62\tKL_s:  2.69\tELBO: -104.20\tTest_loglik: 100000.00\n"
     ]
    },
    {
     "name": "stdout",
     "output_type": "stream",
     "text": [
      "DEBUG:   \t 1 2 Clusters: 12\n",
      "DEBUG:   \t 1 2 Epoch:   21\ttime: 65.94\ttrain_loglik: -98.78\tKL_z:  2.67\tKL_s:  2.70\tELBO: -104.15\tTest_loglik: 100000.00\n"
     ]
    },
    {
     "name": "stdout",
     "output_type": "stream",
     "text": [
      "DEBUG:   \t 1 2 Clusters: 12\n",
      "DEBUG:   \t 1 2 Epoch:   22\ttime: 68.53\ttrain_loglik: -98.70\tKL_z:  2.69\tKL_s:  2.71\tELBO: -104.10\tTest_loglik: 100000.00\n"
     ]
    },
    {
     "name": "stdout",
     "output_type": "stream",
     "text": [
      "DEBUG:   \t 1 2 Clusters: 12\n"
     ]
    },
    {
     "name": "stdout",
     "output_type": "stream",
     "text": [
      "DEBUG:   \t 1 2 Epoch:   23\ttime: 71.79\ttrain_loglik: -98.71\tKL_z:  2.73\tKL_s:  2.72\tELBO: -104.16\tTest_loglik: 100000.00\n"
     ]
    },
    {
     "name": "stdout",
     "output_type": "stream",
     "text": [
      "DEBUG:   \t 1 2 Clusters: 12\n",
      "DEBUG:   \t 1 2 Epoch:   24\ttime: 75.62\ttrain_loglik: -98.60\tKL_z:  2.74\tKL_s:  2.73\tELBO: -104.07\tTest_loglik: 100000.00\n",
      "INFO:    \t 0 3 Training Finished ...\n",
      "DEBUG:   \t 1 2 Saving informations ...\n",
      "DEBUG:   \t 1 2 Saving model_HIVAE_inputDropout_s32_z32_y32_batch64_0216dbd3-0e2c-419c-ac55-205bb0f3fa23_loglik.csv in examples/.cache/mimic_hivae_tf/results/model_HIVAE_inputDropout_s32_z32_y32_batch64_0216dbd3-0e2c-419c-ac55-205bb0f3fa23\n",
      "DEBUG:   \t 1 2 Saving model_HIVAE_inputDropout_s32_z32_y32_batch64_0216dbd3-0e2c-419c-ac55-205bb0f3fa23_KL_s.csv in examples/.cache/mimic_hivae_tf/results/model_HIVAE_inputDropout_s32_z32_y32_batch64_0216dbd3-0e2c-419c-ac55-205bb0f3fa23\n",
      "DEBUG:   \t 1 2 Saving model_HIVAE_inputDropout_s32_z32_y32_batch64_0216dbd3-0e2c-419c-ac55-205bb0f3fa23_KL_z.csv in examples/.cache/mimic_hivae_tf/results/model_HIVAE_inputDropout_s32_z32_y32_batch64_0216dbd3-0e2c-419c-ac55-205bb0f3fa23\n",
      "DEBUG:   \t 1 2 Saving model_HIVAE_inputDropout_s32_z32_y32_batch64_0216dbd3-0e2c-419c-ac55-205bb0f3fa23_train_error.csv in examples/.cache/mimic_hivae_tf/results/model_HIVAE_inputDropout_s32_z32_y32_batch64_0216dbd3-0e2c-419c-ac55-205bb0f3fa23\n",
      "DEBUG:   \t 1 2 Saving model_HIVAE_inputDropout_s32_z32_y32_batch64_0216dbd3-0e2c-419c-ac55-205bb0f3fa23_test_error.csv in examples/.cache/mimic_hivae_tf/results/model_HIVAE_inputDropout_s32_z32_y32_batch64_0216dbd3-0e2c-419c-ac55-205bb0f3fa23\n",
      "DEBUG:   \t 1 2 Saving model_HIVAE_inputDropout_s32_z32_y32_batch64_0216dbd3-0e2c-419c-ac55-205bb0f3fa23_testloglik.csv in examples/.cache/mimic_hivae_tf/results/model_HIVAE_inputDropout_s32_z32_y32_batch64_0216dbd3-0e2c-419c-ac55-205bb0f3fa23\n",
      "DEBUG:   \t 1 2 Saving Network ... <<examples/.cache/mimic_hivae_tf/networks/model_HIVAE_inputDropout_s32_z32_y32_batch64_0216dbd3-0e2c-419c-ac55-205bb0f3fa23_ckpt>>\n"
     ]
    }
   ],
   "source": [
    "\n",
    "cache_dir = Path('examples/.cache/mimic_hivae_tf')\n",
    "cache_dir.mkdir(parents=True, exist_ok=True)\n",
    "network_dir = cache_dir / 'networks'\n",
    "results_dir = cache_dir / 'results'\n",
    "network_dir.mkdir(exist_ok=True)\n",
    "results_dir.mkdir(exist_ok=True)\n",
    "\n",
    "hivae_config = {\n",
    "    'batch_size': min(64, len(train_hivae)),\n",
    "    'model_name': 'model_HIVAE_inputDropout',\n",
    "    'dim_z': 32,\n",
    "    'dim_y': 32,\n",
    "    'dim_s': 32,\n",
    "}\n",
    "hivae_model = tf_hivae(\n",
    "    types_list,\n",
    "    hivae_config,\n",
    "    results_path=results_dir,\n",
    "    network_path=network_dir,\n",
    "    verbosity_level=0,\n",
    ")\n",
    "train_true_mask = (~train_hivae.isna()).astype(int)\n",
    "hivae_model.fit(train_hivae, epochs=EPOCHS, true_missing_mask=train_true_mask)\n"
   ]
  },
  {
   "cell_type": "code",
   "execution_count": 12,
   "id": "3bff9b55",
   "metadata": {
    "execution": {
     "iopub.execute_input": "2025-09-18T13:53:28.988159Z",
     "iopub.status.busy": "2025-09-18T13:53:28.987579Z",
     "iopub.status.idle": "2025-09-18T13:53:53.251434Z",
     "shell.execute_reply": "2025-09-18T13:53:53.250253Z"
    }
   },
   "outputs": [
    {
     "name": "stdout",
     "output_type": "stream",
     "text": [
      "DEBUG:   \t 1 2 hivae:_training:len(training_data) 925\n",
      "DEBUG:   \t 1 2 [*] Importing model: model_HIVAE_inputDropout\n",
      "DEBUG:   \t 1 2 [*] Defining placeholders\n"
     ]
    },
    {
     "name": "stdout",
     "output_type": "stream",
     "text": [
      "DEBUG:   \t 1 2 [*] Defining Encoder...\n",
      "DEBUG:   \t 1 2 [*] Defining Decoder...\n"
     ]
    },
    {
     "name": "stderr",
     "output_type": "stream",
     "text": [
      "/workspace/SUAVE/third_party/hivae_tf/hivae/VAE_functions.py:117: UserWarning: `tf.layers.dense` is deprecated and will be removed in a future version. Please use `tf.keras.layers.Dense` instead.\n",
      "  log_pi = tf.compat.v1.layers.dense(inputs=X, units=s_dim, activation=None,\n",
      "/workspace/SUAVE/third_party/hivae_tf/hivae/VAE_functions.py:134: UserWarning: `tf.layers.dense` is deprecated and will be removed in a future version. Please use `tf.keras.layers.Dense` instead.\n",
      "  mean_qz = tf.compat.v1.layers.dense(inputs=tf.concat([X,samples_s],1), units=z_dim, activation=None,\n",
      "/workspace/SUAVE/third_party/hivae_tf/hivae/VAE_functions.py:136: UserWarning: `tf.layers.dense` is deprecated and will be removed in a future version. Please use `tf.keras.layers.Dense` instead.\n",
      "  log_var_qz = tf.compat.v1.layers.dense(inputs=tf.concat([X,samples_s],1), units=z_dim, activation=None,\n",
      "/workspace/SUAVE/third_party/hivae_tf/hivae/VAE_functions.py:211: UserWarning: `tf.layers.dense` is deprecated and will be removed in a future version. Please use `tf.keras.layers.Dense` instead.\n",
      "  mean_pz = tf.compat.v1.layers.dense(inputs=samples_s, units=z_dim, activation=None,\n",
      "/workspace/SUAVE/third_party/hivae_tf/hivae/model_HIVAE_inputDropout.py:50: UserWarning: `tf.layers.dense` is deprecated and will be removed in a future version. Please use `tf.keras.layers.Dense` instead.\n",
      "  samples['y'] = tf.compat.v1.layers.dense(inputs=samples['z'], units=y_dim, activation=None,\n"
     ]
    },
    {
     "name": "stderr",
     "output_type": "stream",
     "text": [
      "/workspace/SUAVE/third_party/hivae_tf/hivae/VAE_functions.py:433: UserWarning: `tf.layers.dense` is deprecated and will be removed in a future version. Please use `tf.keras.layers.Dense` instead.\n",
      "  obs_output = tf.compat.v1.layers.dense(inputs=observed_data, units=output_dim, activation=None,\n",
      "/workspace/SUAVE/third_party/hivae_tf/hivae/VAE_functions.py:435: UserWarning: `tf.layers.dense` is deprecated and will be removed in a future version. Please use `tf.keras.layers.Dense` instead.\n",
      "  miss_output = tf.compat.v1.layers.dense(inputs=missing_data, units=output_dim, activation=None,\n"
     ]
    },
    {
     "name": "stdout",
     "output_type": "stream",
     "text": [
      "DEBUG:   \t 1 2 [*] Defining Cost function...\n"
     ]
    },
    {
     "name": "stderr",
     "output_type": "stream",
     "text": [
      "/workspace/SUAVE/third_party/hivae_tf/hivae/model_HIVAE_inputDropout.py:100: UserWarning: `tf.layers.dense` is deprecated and will be removed in a future version. Please use `tf.keras.layers.Dense` instead.\n",
      "  samples_test['y'] = tf.compat.v1.layers.dense(inputs=samples_test['z'], units=y_dim, activation=None,\n"
     ]
    },
    {
     "name": "stdout",
     "output_type": "stream",
     "text": [
      "INFO:    \t 0 3 Testing the HIVAE ...\n",
      "INFO:    \t 0 3 Restoring Model ...\n"
     ]
    },
    {
     "name": "stdout",
     "output_type": "stream",
     "text": [
      "INFO:    \t 0 3 Model restored (examples/.cache/mimic_hivae_tf/networks/model_HIVAE_inputDropout_s32_z32_y32_batch64_0216dbd3-0e2c-419c-ac55-205bb0f3fa23_ckpt)\n"
     ]
    },
    {
     "name": "stdout",
     "output_type": "stream",
     "text": [
      "DEBUG:   \t 1 2 Clusters: 10\n",
      "DEBUG:   \t 1 2 Epoch:    0\ttime: 4.44\ttrain_loglik: -90.00\tKL_z:  2.83\tKL_s:  2.60\tELBO: -95.43\tTest_loglik: 100000.00\n",
      "INFO:    \t 0 3 Testing Finished ...\n",
      "DEBUG:   \t 1 2 Saving reconstructions ...\n",
      "DEBUG:   \t 1 2 Saving model_HIVAE_inputDropout_s32_z32_y32_batch64_0216dbd3-0e2c-419c-ac55-205bb0f3fa23_data_reconstruction.csv in examples/.cache/mimic_hivae_tf/results/model_HIVAE_inputDropout_s32_z32_y32_batch64_0216dbd3-0e2c-419c-ac55-205bb0f3fa23\n",
      "DEBUG:   \t 1 2 Saving model_HIVAE_inputDropout_s32_z32_y32_batch64_0216dbd3-0e2c-419c-ac55-205bb0f3fa23_data_true.csv in examples/.cache/mimic_hivae_tf/results/model_HIVAE_inputDropout_s32_z32_y32_batch64_0216dbd3-0e2c-419c-ac55-205bb0f3fa23\n",
      "DEBUG:   \t 1 2 Saving model_HIVAE_inputDropout_s32_z32_y32_batch64_0216dbd3-0e2c-419c-ac55-205bb0f3fa23_data_loglik_mean_reconstructed.csv in examples/.cache/mimic_hivae_tf/results/model_HIVAE_inputDropout_s32_z32_y32_batch64_0216dbd3-0e2c-419c-ac55-205bb0f3fa23\n"
     ]
    },
    {
     "name": "stdout",
     "output_type": "stream",
     "text": [
      "DEBUG:   \t 1 2 Reconstruction Correlation:\n",
      "DEBUG:   \t 1 2 0     0.686091\n",
      "1     0.457721\n",
      "2     0.590716\n",
      "3     0.148674\n",
      "4     0.024462\n",
      "5     0.288310\n",
      "6     0.396587\n",
      "7     0.328704\n",
      "8     0.437705\n",
      "9     0.365109\n",
      "10    0.013316\n",
      "11         NaN\n",
      "12    0.727907\n",
      "13    0.529869\n",
      "14    0.381945\n",
      "15    0.162274\n",
      "16    0.389432\n",
      "17    0.553487\n",
      "18    0.523735\n",
      "19    0.534773\n",
      "20    0.508565\n",
      "21    0.655700\n",
      "22    0.620071\n",
      "23    0.440944\n",
      "24    0.264637\n",
      "25    0.062423\n",
      "26   -0.008305\n",
      "27    0.419456\n",
      "28    0.418638\n",
      "29   -0.140631\n",
      "30    0.579155\n",
      "31    0.529854\n",
      "32    0.387302\n",
      "33    0.420514\n",
      "34    0.427708\n",
      "35    0.820980\n",
      "36    0.813926\n",
      "dtype: float64\n"
     ]
    },
    {
     "data": {
      "text/html": [
       "<div>\n",
       "<style scoped>\n",
       "    .dataframe tbody tr th:only-of-type {\n",
       "        vertical-align: middle;\n",
       "    }\n",
       "\n",
       "    .dataframe tbody tr th {\n",
       "        vertical-align: top;\n",
       "    }\n",
       "\n",
       "    .dataframe thead th {\n",
       "        text-align: right;\n",
       "    }\n",
       "</style>\n",
       "<table border=\"1\" class=\"dataframe\">\n",
       "  <thead>\n",
       "    <tr style=\"text-align: right;\">\n",
       "      <th></th>\n",
       "      <th>column</th>\n",
       "      <th>metric</th>\n",
       "      <th>value</th>\n",
       "      <th>model</th>\n",
       "    </tr>\n",
       "  </thead>\n",
       "  <tbody>\n",
       "    <tr>\n",
       "      <th>0</th>\n",
       "      <td>Unnamed: 0</td>\n",
       "      <td>mse</td>\n",
       "      <td>1.346474e+08</td>\n",
       "      <td>SUAVE (behaviour=\"hivae\")</td>\n",
       "    </tr>\n",
       "    <tr>\n",
       "      <th>1</th>\n",
       "      <td>age</td>\n",
       "      <td>mse</td>\n",
       "      <td>3.939931e+02</td>\n",
       "      <td>SUAVE (behaviour=\"hivae\")</td>\n",
       "    </tr>\n",
       "    <tr>\n",
       "      <th>2</th>\n",
       "      <td>sex</td>\n",
       "      <td>categorical_accuracy</td>\n",
       "      <td>5.326087e-01</td>\n",
       "      <td>SUAVE (behaviour=\"hivae\")</td>\n",
       "    </tr>\n",
       "    <tr>\n",
       "      <th>3</th>\n",
       "      <td>BMI</td>\n",
       "      <td>mse</td>\n",
       "      <td>2.052549e+02</td>\n",
       "      <td>SUAVE (behaviour=\"hivae\")</td>\n",
       "    </tr>\n",
       "    <tr>\n",
       "      <th>4</th>\n",
       "      <td>temperature</td>\n",
       "      <td>mse</td>\n",
       "      <td>4.661275e-01</td>\n",
       "      <td>SUAVE (behaviour=\"hivae\")</td>\n",
       "    </tr>\n",
       "    <tr>\n",
       "      <th>...</th>\n",
       "      <td>...</td>\n",
       "      <td>...</td>\n",
       "      <td>...</td>\n",
       "      <td>...</td>\n",
       "    </tr>\n",
       "    <tr>\n",
       "      <th>69</th>\n",
       "      <td>PaCO2</td>\n",
       "      <td>mse</td>\n",
       "      <td>1.239846e+02</td>\n",
       "      <td>TensorFlow HI-VAE</td>\n",
       "    </tr>\n",
       "    <tr>\n",
       "      <th>70</th>\n",
       "      <td>HCO3-</td>\n",
       "      <td>mse</td>\n",
       "      <td>1.495768e+01</td>\n",
       "      <td>TensorFlow HI-VAE</td>\n",
       "    </tr>\n",
       "    <tr>\n",
       "      <th>71</th>\n",
       "      <td>Lac</td>\n",
       "      <td>mse</td>\n",
       "      <td>8.874465e-01</td>\n",
       "      <td>TensorFlow HI-VAE</td>\n",
       "    </tr>\n",
       "    <tr>\n",
       "      <th>72</th>\n",
       "      <td>3d_septic_shock</td>\n",
       "      <td>categorical_accuracy</td>\n",
       "      <td>1.000000e+00</td>\n",
       "      <td>TensorFlow HI-VAE</td>\n",
       "    </tr>\n",
       "    <tr>\n",
       "      <th>73</th>\n",
       "      <td>7d_septic_shock</td>\n",
       "      <td>categorical_accuracy</td>\n",
       "      <td>9.673913e-01</td>\n",
       "      <td>TensorFlow HI-VAE</td>\n",
       "    </tr>\n",
       "  </tbody>\n",
       "</table>\n",
       "<p>74 rows × 4 columns</p>\n",
       "</div>"
      ],
      "text/plain": [
       "             column                metric         value  \\\n",
       "0        Unnamed: 0                   mse  1.346474e+08   \n",
       "1               age                   mse  3.939931e+02   \n",
       "2               sex  categorical_accuracy  5.326087e-01   \n",
       "3               BMI                   mse  2.052549e+02   \n",
       "4       temperature                   mse  4.661275e-01   \n",
       "..              ...                   ...           ...   \n",
       "69            PaCO2                   mse  1.239846e+02   \n",
       "70            HCO3-                   mse  1.495768e+01   \n",
       "71              Lac                   mse  8.874465e-01   \n",
       "72  3d_septic_shock  categorical_accuracy  1.000000e+00   \n",
       "73  7d_septic_shock  categorical_accuracy  9.673913e-01   \n",
       "\n",
       "                        model  \n",
       "0   SUAVE (behaviour=\"hivae\")  \n",
       "1   SUAVE (behaviour=\"hivae\")  \n",
       "2   SUAVE (behaviour=\"hivae\")  \n",
       "3   SUAVE (behaviour=\"hivae\")  \n",
       "4   SUAVE (behaviour=\"hivae\")  \n",
       "..                        ...  \n",
       "69          TensorFlow HI-VAE  \n",
       "70          TensorFlow HI-VAE  \n",
       "71          TensorFlow HI-VAE  \n",
       "72          TensorFlow HI-VAE  \n",
       "73          TensorFlow HI-VAE  \n",
       "\n",
       "[74 rows x 4 columns]"
      ]
     },
     "execution_count": 12,
     "metadata": {},
     "output_type": "execute_result"
    }
   ],
   "source": [
    "\n",
    "suave_imputed = suave_model.impute(test_suave_corrupted, only_missing=False)\n",
    "suave_decoded = suave_imputed.copy()\n",
    "for column, categories in cat_maps.items():\n",
    "    if column in suave_decoded.columns:\n",
    "        suave_decoded[column] = suave_decoded[column].astype(str)\n",
    "for column, categories in ord_maps.items():\n",
    "    if column in suave_decoded.columns:\n",
    "        suave_decoded[column] = suave_decoded[column].astype(str)\n",
    "\n",
    "test_true_mask = (~test_hivae_corrupted.isna()).astype(int)\n",
    "_, _, hivae_decoded_array, _, _ = hivae_model.predict(\n",
    "    test_hivae_corrupted, true_missing_mask=test_true_mask\n",
    ")\n",
    "hivae_decoded = pd.DataFrame(\n",
    "    hivae_decoded_array, columns=test_hivae_corrupted.columns, index=test_hivae_corrupted.index\n",
    ")\n",
    "hivae_decoded_original = hivae_decoded.copy()\n",
    "for column, categories in cat_maps.items():\n",
    "    if column in hivae_decoded_original.columns:\n",
    "        mapping = dict(enumerate(categories))\n",
    "        hivae_decoded_original[column] = (\n",
    "            hivae_decoded_original[column]\n",
    "            .round()\n",
    "            .clip(lower=0, upper=len(mapping) - 1)\n",
    "            .astype(int)\n",
    "            .map(mapping)\n",
    "            .astype(str)\n",
    "        )\n",
    "for column, categories in ord_maps.items():\n",
    "    if column in hivae_decoded_original.columns:\n",
    "        mapping = dict(enumerate(categories))\n",
    "        hivae_decoded_original[column] = (\n",
    "            hivae_decoded_original[column]\n",
    "            .round()\n",
    "            .clip(lower=0, upper=len(mapping) - 1)\n",
    "            .astype(int)\n",
    "            .map(mapping)\n",
    "            .astype(str)\n",
    "        )\n",
    "\n",
    "discrete_cols = sorted({*cat_maps.keys(), *ord_maps.keys()})\n",
    "metrics_suave = evaluate_imputations(\n",
    "    test_reference, suave_decoded, artificial_mask, discrete_cols\n",
    ")\n",
    "metrics_suave['model'] = 'SUAVE (behaviour=\"hivae\")'\n",
    "metrics_hivae = evaluate_imputations(\n",
    "    test_reference, hivae_decoded_original, artificial_mask, discrete_cols\n",
    ")\n",
    "metrics_hivae['model'] = 'TensorFlow HI-VAE'\n",
    "comparison = pd.concat([metrics_suave, metrics_hivae], ignore_index=True)\n",
    "comparison\n"
   ]
  },
  {
   "cell_type": "code",
   "execution_count": 13,
   "id": "5bbce5d1",
   "metadata": {
    "execution": {
     "iopub.execute_input": "2025-09-18T13:53:53.254877Z",
     "iopub.status.busy": "2025-09-18T13:53:53.254527Z",
     "iopub.status.idle": "2025-09-18T13:53:53.270973Z",
     "shell.execute_reply": "2025-09-18T13:53:53.269750Z"
    }
   },
   "outputs": [
    {
     "data": {
      "text/html": [
       "<div>\n",
       "<style scoped>\n",
       "    .dataframe tbody tr th:only-of-type {\n",
       "        vertical-align: middle;\n",
       "    }\n",
       "\n",
       "    .dataframe tbody tr th {\n",
       "        vertical-align: top;\n",
       "    }\n",
       "\n",
       "    .dataframe thead th {\n",
       "        text-align: right;\n",
       "    }\n",
       "</style>\n",
       "<table border=\"1\" class=\"dataframe\">\n",
       "  <thead>\n",
       "    <tr style=\"text-align: right;\">\n",
       "      <th></th>\n",
       "      <th>model</th>\n",
       "      <th>metric</th>\n",
       "      <th>value</th>\n",
       "    </tr>\n",
       "  </thead>\n",
       "  <tbody>\n",
       "    <tr>\n",
       "      <th>0</th>\n",
       "      <td>SUAVE (behaviour=\"hivae\")</td>\n",
       "      <td>categorical_accuracy</td>\n",
       "      <td>6.394928e-01</td>\n",
       "    </tr>\n",
       "    <tr>\n",
       "      <th>1</th>\n",
       "      <td>SUAVE (behaviour=\"hivae\")</td>\n",
       "      <td>mse</td>\n",
       "      <td>4.352337e+06</td>\n",
       "    </tr>\n",
       "    <tr>\n",
       "      <th>2</th>\n",
       "      <td>TensorFlow HI-VAE</td>\n",
       "      <td>categorical_accuracy</td>\n",
       "      <td>7.699275e-01</td>\n",
       "    </tr>\n",
       "    <tr>\n",
       "      <th>3</th>\n",
       "      <td>TensorFlow HI-VAE</td>\n",
       "      <td>mse</td>\n",
       "      <td>2.925877e+06</td>\n",
       "    </tr>\n",
       "  </tbody>\n",
       "</table>\n",
       "</div>"
      ],
      "text/plain": [
       "                       model                metric         value\n",
       "0  SUAVE (behaviour=\"hivae\")  categorical_accuracy  6.394928e-01\n",
       "1  SUAVE (behaviour=\"hivae\")                   mse  4.352337e+06\n",
       "2          TensorFlow HI-VAE  categorical_accuracy  7.699275e-01\n",
       "3          TensorFlow HI-VAE                   mse  2.925877e+06"
      ]
     },
     "execution_count": 13,
     "metadata": {},
     "output_type": "execute_result"
    }
   ],
   "source": [
    "\n",
    "summary_metrics = comparison.groupby(['model', 'metric'])['value'].mean().reset_index()\n",
    "summary_metrics\n"
   ]
  },
  {
   "cell_type": "code",
   "execution_count": 14,
   "id": "2ea379fd",
   "metadata": {
    "execution": {
     "iopub.execute_input": "2025-09-18T13:53:53.274459Z",
     "iopub.status.busy": "2025-09-18T13:53:53.274048Z",
     "iopub.status.idle": "2025-09-18T13:53:53.301825Z",
     "shell.execute_reply": "2025-09-18T13:53:53.300430Z"
    }
   },
   "outputs": [
    {
     "data": {
      "text/html": [
       "<div>\n",
       "<style scoped>\n",
       "    .dataframe tbody tr th:only-of-type {\n",
       "        vertical-align: middle;\n",
       "    }\n",
       "\n",
       "    .dataframe tbody tr th {\n",
       "        vertical-align: top;\n",
       "    }\n",
       "\n",
       "    .dataframe thead th {\n",
       "        text-align: right;\n",
       "    }\n",
       "</style>\n",
       "<table border=\"1\" class=\"dataframe\">\n",
       "  <thead>\n",
       "    <tr style=\"text-align: right;\">\n",
       "      <th></th>\n",
       "      <th>model</th>\n",
       "      <th>SUAVE (behaviour=\"hivae\")</th>\n",
       "      <th>TensorFlow HI-VAE</th>\n",
       "    </tr>\n",
       "    <tr>\n",
       "      <th>column</th>\n",
       "      <th>metric</th>\n",
       "      <th></th>\n",
       "      <th></th>\n",
       "    </tr>\n",
       "  </thead>\n",
       "  <tbody>\n",
       "    <tr>\n",
       "      <th>3d_septic_shock</th>\n",
       "      <th>categorical_accuracy</th>\n",
       "      <td>8.695652e-01</td>\n",
       "      <td>1.000000e+00</td>\n",
       "    </tr>\n",
       "    <tr>\n",
       "      <th>7d_septic_shock</th>\n",
       "      <th>categorical_accuracy</th>\n",
       "      <td>8.260870e-01</td>\n",
       "      <td>9.673913e-01</td>\n",
       "    </tr>\n",
       "    <tr>\n",
       "      <th>ALT</th>\n",
       "      <th>mse</th>\n",
       "      <td>6.462707e+04</td>\n",
       "      <td>2.305540e+04</td>\n",
       "    </tr>\n",
       "    <tr>\n",
       "      <th>APTT</th>\n",
       "      <th>mse</th>\n",
       "      <td>3.712128e+02</td>\n",
       "      <td>1.465725e+02</td>\n",
       "    </tr>\n",
       "    <tr>\n",
       "      <th>AST</th>\n",
       "      <th>mse</th>\n",
       "      <td>1.147919e+05</td>\n",
       "      <td>4.681607e+04</td>\n",
       "    </tr>\n",
       "    <tr>\n",
       "      <th>BMI</th>\n",
       "      <th>mse</th>\n",
       "      <td>2.052549e+02</td>\n",
       "      <td>9.180500e+01</td>\n",
       "    </tr>\n",
       "    <tr>\n",
       "      <th>BUN</th>\n",
       "      <th>mse</th>\n",
       "      <td>1.263479e+02</td>\n",
       "      <td>5.838893e+01</td>\n",
       "    </tr>\n",
       "    <tr>\n",
       "      <th>CRRT</th>\n",
       "      <th>categorical_accuracy</th>\n",
       "      <td>9.130435e-01</td>\n",
       "      <td>1.000000e+00</td>\n",
       "    </tr>\n",
       "    <tr>\n",
       "      <th>DBP</th>\n",
       "      <th>mse</th>\n",
       "      <td>1.963379e+02</td>\n",
       "      <td>5.422391e+01</td>\n",
       "    </tr>\n",
       "    <tr>\n",
       "      <th>Fg</th>\n",
       "      <th>mse</th>\n",
       "      <td>5.708014e+00</td>\n",
       "      <td>2.345309e+00</td>\n",
       "    </tr>\n",
       "    <tr>\n",
       "      <th>Glu</th>\n",
       "      <th>mse</th>\n",
       "      <td>2.305753e+01</td>\n",
       "      <td>1.254350e+01</td>\n",
       "    </tr>\n",
       "    <tr>\n",
       "      <th>HCO3-</th>\n",
       "      <th>mse</th>\n",
       "      <td>3.419321e+01</td>\n",
       "      <td>1.495768e+01</td>\n",
       "    </tr>\n",
       "    <tr>\n",
       "      <th>Hb</th>\n",
       "      <th>mse</th>\n",
       "      <td>7.765739e+02</td>\n",
       "      <td>3.993823e+02</td>\n",
       "    </tr>\n",
       "    <tr>\n",
       "      <th>K+</th>\n",
       "      <th>mse</th>\n",
       "      <td>6.796888e-01</td>\n",
       "      <td>2.963578e-01</td>\n",
       "    </tr>\n",
       "    <tr>\n",
       "      <th>LYM%</th>\n",
       "      <th>mse</th>\n",
       "      <td>2.005137e+02</td>\n",
       "      <td>1.452694e+02</td>\n",
       "    </tr>\n",
       "    <tr>\n",
       "      <th>Lac</th>\n",
       "      <th>mse</th>\n",
       "      <td>2.815997e+00</td>\n",
       "      <td>8.874465e-01</td>\n",
       "    </tr>\n",
       "    <tr>\n",
       "      <th>MAP</th>\n",
       "      <th>mse</th>\n",
       "      <td>2.220771e+02</td>\n",
       "      <td>4.913740e+01</td>\n",
       "    </tr>\n",
       "    <tr>\n",
       "      <th>NE%</th>\n",
       "      <th>mse</th>\n",
       "      <td>4.434259e+02</td>\n",
       "      <td>2.425952e+02</td>\n",
       "    </tr>\n",
       "    <tr>\n",
       "      <th>Na+</th>\n",
       "      <th>mse</th>\n",
       "      <td>3.597252e+01</td>\n",
       "      <td>1.630089e+01</td>\n",
       "    </tr>\n",
       "    <tr>\n",
       "      <th>PH</th>\n",
       "      <th>mse</th>\n",
       "      <td>1.052538e-02</td>\n",
       "      <td>4.043336e-03</td>\n",
       "    </tr>\n",
       "    <tr>\n",
       "      <th>PLT</th>\n",
       "      <th>mse</th>\n",
       "      <td>2.248625e+04</td>\n",
       "      <td>9.007516e+03</td>\n",
       "    </tr>\n",
       "    <tr>\n",
       "      <th>PT</th>\n",
       "      <th>mse</th>\n",
       "      <td>5.293356e+01</td>\n",
       "      <td>3.283250e+01</td>\n",
       "    </tr>\n",
       "    <tr>\n",
       "      <th>PaCO2</th>\n",
       "      <th>mse</th>\n",
       "      <td>3.026133e+02</td>\n",
       "      <td>1.239846e+02</td>\n",
       "    </tr>\n",
       "    <tr>\n",
       "      <th>PaO2</th>\n",
       "      <th>mse</th>\n",
       "      <td>1.628675e+04</td>\n",
       "      <td>8.921967e+03</td>\n",
       "    </tr>\n",
       "    <tr>\n",
       "      <th>PaO2/FiO2</th>\n",
       "      <th>mse</th>\n",
       "      <td>3.426847e+04</td>\n",
       "      <td>1.835252e+04</td>\n",
       "    </tr>\n",
       "    <tr>\n",
       "      <th>Respiratory_Support</th>\n",
       "      <th>categorical_accuracy</th>\n",
       "      <td>2.934783e-01</td>\n",
       "      <td>5.326087e-01</td>\n",
       "    </tr>\n",
       "    <tr>\n",
       "      <th>SBP</th>\n",
       "      <th>mse</th>\n",
       "      <td>3.589110e+02</td>\n",
       "      <td>1.213171e+02</td>\n",
       "    </tr>\n",
       "    <tr>\n",
       "      <th>SOFA_cns</th>\n",
       "      <th>categorical_accuracy</th>\n",
       "      <td>4.021739e-01</td>\n",
       "      <td>5.652174e-01</td>\n",
       "    </tr>\n",
       "    <tr>\n",
       "      <th>STB</th>\n",
       "      <th>mse</th>\n",
       "      <td>2.926732e+03</td>\n",
       "      <td>9.137145e+02</td>\n",
       "    </tr>\n",
       "    <tr>\n",
       "      <th>Scr</th>\n",
       "      <th>mse</th>\n",
       "      <td>1.540232e+04</td>\n",
       "      <td>7.363519e+03</td>\n",
       "    </tr>\n",
       "    <tr>\n",
       "      <th>Unnamed: 0</th>\n",
       "      <th>mse</th>\n",
       "      <td>1.346474e+08</td>\n",
       "      <td>9.058578e+07</td>\n",
       "    </tr>\n",
       "    <tr>\n",
       "      <th>WBC</th>\n",
       "      <th>mse</th>\n",
       "      <td>1.001448e+02</td>\n",
       "      <td>3.066527e+01</td>\n",
       "    </tr>\n",
       "    <tr>\n",
       "      <th>age</th>\n",
       "      <th>mse</th>\n",
       "      <td>3.939931e+02</td>\n",
       "      <td>2.039498e+02</td>\n",
       "    </tr>\n",
       "    <tr>\n",
       "      <th>heart_rate</th>\n",
       "      <th>mse</th>\n",
       "      <td>4.043377e+02</td>\n",
       "      <td>2.149479e+02</td>\n",
       "    </tr>\n",
       "    <tr>\n",
       "      <th>respir_rate</th>\n",
       "      <th>mse</th>\n",
       "      <td>3.030119e+01</td>\n",
       "      <td>1.613779e+01</td>\n",
       "    </tr>\n",
       "    <tr>\n",
       "      <th>sex</th>\n",
       "      <th>categorical_accuracy</th>\n",
       "      <td>5.326087e-01</td>\n",
       "      <td>5.543478e-01</td>\n",
       "    </tr>\n",
       "    <tr>\n",
       "      <th>temperature</th>\n",
       "      <th>mse</th>\n",
       "      <td>4.661275e-01</td>\n",
       "      <td>1.940713e-01</td>\n",
       "    </tr>\n",
       "  </tbody>\n",
       "</table>\n",
       "</div>"
      ],
      "text/plain": [
       "model                                     SUAVE (behaviour=\"hivae\")  \\\n",
       "column              metric                                            \n",
       "3d_septic_shock     categorical_accuracy               8.695652e-01   \n",
       "7d_septic_shock     categorical_accuracy               8.260870e-01   \n",
       "ALT                 mse                                6.462707e+04   \n",
       "APTT                mse                                3.712128e+02   \n",
       "AST                 mse                                1.147919e+05   \n",
       "BMI                 mse                                2.052549e+02   \n",
       "BUN                 mse                                1.263479e+02   \n",
       "CRRT                categorical_accuracy               9.130435e-01   \n",
       "DBP                 mse                                1.963379e+02   \n",
       "Fg                  mse                                5.708014e+00   \n",
       "Glu                 mse                                2.305753e+01   \n",
       "HCO3-               mse                                3.419321e+01   \n",
       "Hb                  mse                                7.765739e+02   \n",
       "K+                  mse                                6.796888e-01   \n",
       "LYM%                mse                                2.005137e+02   \n",
       "Lac                 mse                                2.815997e+00   \n",
       "MAP                 mse                                2.220771e+02   \n",
       "NE%                 mse                                4.434259e+02   \n",
       "Na+                 mse                                3.597252e+01   \n",
       "PH                  mse                                1.052538e-02   \n",
       "PLT                 mse                                2.248625e+04   \n",
       "PT                  mse                                5.293356e+01   \n",
       "PaCO2               mse                                3.026133e+02   \n",
       "PaO2                mse                                1.628675e+04   \n",
       "PaO2/FiO2           mse                                3.426847e+04   \n",
       "Respiratory_Support categorical_accuracy               2.934783e-01   \n",
       "SBP                 mse                                3.589110e+02   \n",
       "SOFA_cns            categorical_accuracy               4.021739e-01   \n",
       "STB                 mse                                2.926732e+03   \n",
       "Scr                 mse                                1.540232e+04   \n",
       "Unnamed: 0          mse                                1.346474e+08   \n",
       "WBC                 mse                                1.001448e+02   \n",
       "age                 mse                                3.939931e+02   \n",
       "heart_rate          mse                                4.043377e+02   \n",
       "respir_rate         mse                                3.030119e+01   \n",
       "sex                 categorical_accuracy               5.326087e-01   \n",
       "temperature         mse                                4.661275e-01   \n",
       "\n",
       "model                                     TensorFlow HI-VAE  \n",
       "column              metric                                   \n",
       "3d_septic_shock     categorical_accuracy       1.000000e+00  \n",
       "7d_septic_shock     categorical_accuracy       9.673913e-01  \n",
       "ALT                 mse                        2.305540e+04  \n",
       "APTT                mse                        1.465725e+02  \n",
       "AST                 mse                        4.681607e+04  \n",
       "BMI                 mse                        9.180500e+01  \n",
       "BUN                 mse                        5.838893e+01  \n",
       "CRRT                categorical_accuracy       1.000000e+00  \n",
       "DBP                 mse                        5.422391e+01  \n",
       "Fg                  mse                        2.345309e+00  \n",
       "Glu                 mse                        1.254350e+01  \n",
       "HCO3-               mse                        1.495768e+01  \n",
       "Hb                  mse                        3.993823e+02  \n",
       "K+                  mse                        2.963578e-01  \n",
       "LYM%                mse                        1.452694e+02  \n",
       "Lac                 mse                        8.874465e-01  \n",
       "MAP                 mse                        4.913740e+01  \n",
       "NE%                 mse                        2.425952e+02  \n",
       "Na+                 mse                        1.630089e+01  \n",
       "PH                  mse                        4.043336e-03  \n",
       "PLT                 mse                        9.007516e+03  \n",
       "PT                  mse                        3.283250e+01  \n",
       "PaCO2               mse                        1.239846e+02  \n",
       "PaO2                mse                        8.921967e+03  \n",
       "PaO2/FiO2           mse                        1.835252e+04  \n",
       "Respiratory_Support categorical_accuracy       5.326087e-01  \n",
       "SBP                 mse                        1.213171e+02  \n",
       "SOFA_cns            categorical_accuracy       5.652174e-01  \n",
       "STB                 mse                        9.137145e+02  \n",
       "Scr                 mse                        7.363519e+03  \n",
       "Unnamed: 0          mse                        9.058578e+07  \n",
       "WBC                 mse                        3.066527e+01  \n",
       "age                 mse                        2.039498e+02  \n",
       "heart_rate          mse                        2.149479e+02  \n",
       "respir_rate         mse                        1.613779e+01  \n",
       "sex                 categorical_accuracy       5.543478e-01  \n",
       "temperature         mse                        1.940713e-01  "
      ]
     },
     "execution_count": 14,
     "metadata": {},
     "output_type": "execute_result"
    }
   ],
   "source": [
    "\n",
    "wide_view = comparison.pivot_table(\n",
    "    index=['column', 'metric'], columns='model', values='value'\n",
    ")\n",
    "wide_view\n"
   ]
  },
  {
   "cell_type": "code",
   "execution_count": 15,
   "id": "e0574f0c",
   "metadata": {
    "execution": {
     "iopub.execute_input": "2025-09-18T13:53:53.305394Z",
     "iopub.status.busy": "2025-09-18T13:53:53.305014Z",
     "iopub.status.idle": "2025-09-18T13:53:53.344515Z",
     "shell.execute_reply": "2025-09-18T13:53:53.343457Z"
    }
   },
   "outputs": [
    {
     "data": {
      "text/html": [
       "<div>\n",
       "<style scoped>\n",
       "    .dataframe tbody tr th:only-of-type {\n",
       "        vertical-align: middle;\n",
       "    }\n",
       "\n",
       "    .dataframe tbody tr th {\n",
       "        vertical-align: top;\n",
       "    }\n",
       "\n",
       "    .dataframe thead th {\n",
       "        text-align: right;\n",
       "    }\n",
       "</style>\n",
       "<table border=\"1\" class=\"dataframe\">\n",
       "  <thead>\n",
       "    <tr style=\"text-align: right;\">\n",
       "      <th></th>\n",
       "      <th>column</th>\n",
       "      <th>metric</th>\n",
       "      <th>value</th>\n",
       "    </tr>\n",
       "  </thead>\n",
       "  <tbody>\n",
       "    <tr>\n",
       "      <th>0</th>\n",
       "      <td>Unnamed: 0</td>\n",
       "      <td>mean_abs_diff</td>\n",
       "      <td>7204.856054</td>\n",
       "    </tr>\n",
       "    <tr>\n",
       "      <th>1</th>\n",
       "      <td>age</td>\n",
       "      <td>mean_abs_diff</td>\n",
       "      <td>12.770270</td>\n",
       "    </tr>\n",
       "    <tr>\n",
       "      <th>2</th>\n",
       "      <td>sex</td>\n",
       "      <td>agreement</td>\n",
       "      <td>0.515676</td>\n",
       "    </tr>\n",
       "    <tr>\n",
       "      <th>3</th>\n",
       "      <td>BMI</td>\n",
       "      <td>mean_abs_diff</td>\n",
       "      <td>5.699933</td>\n",
       "    </tr>\n",
       "    <tr>\n",
       "      <th>4</th>\n",
       "      <td>temperature</td>\n",
       "      <td>mean_abs_diff</td>\n",
       "      <td>0.462132</td>\n",
       "    </tr>\n",
       "    <tr>\n",
       "      <th>5</th>\n",
       "      <td>heart_rate</td>\n",
       "      <td>mean_abs_diff</td>\n",
       "      <td>12.660697</td>\n",
       "    </tr>\n",
       "    <tr>\n",
       "      <th>6</th>\n",
       "      <td>respir_rate</td>\n",
       "      <td>mean_abs_diff</td>\n",
       "      <td>3.492576</td>\n",
       "    </tr>\n",
       "    <tr>\n",
       "      <th>7</th>\n",
       "      <td>SBP</td>\n",
       "      <td>mean_abs_diff</td>\n",
       "      <td>12.559832</td>\n",
       "    </tr>\n",
       "    <tr>\n",
       "      <th>8</th>\n",
       "      <td>DBP</td>\n",
       "      <td>mean_abs_diff</td>\n",
       "      <td>9.480161</td>\n",
       "    </tr>\n",
       "    <tr>\n",
       "      <th>9</th>\n",
       "      <td>MAP</td>\n",
       "      <td>mean_abs_diff</td>\n",
       "      <td>9.244594</td>\n",
       "    </tr>\n",
       "    <tr>\n",
       "      <th>10</th>\n",
       "      <td>SOFA_cns</td>\n",
       "      <td>agreement</td>\n",
       "      <td>0.581622</td>\n",
       "    </tr>\n",
       "    <tr>\n",
       "      <th>11</th>\n",
       "      <td>CRRT</td>\n",
       "      <td>agreement</td>\n",
       "      <td>0.934054</td>\n",
       "    </tr>\n",
       "    <tr>\n",
       "      <th>12</th>\n",
       "      <td>Respiratory_Support</td>\n",
       "      <td>agreement</td>\n",
       "      <td>0.315676</td>\n",
       "    </tr>\n",
       "    <tr>\n",
       "      <th>13</th>\n",
       "      <td>WBC</td>\n",
       "      <td>mean_abs_diff</td>\n",
       "      <td>6.061786</td>\n",
       "    </tr>\n",
       "    <tr>\n",
       "      <th>14</th>\n",
       "      <td>Hb</td>\n",
       "      <td>mean_abs_diff</td>\n",
       "      <td>17.416017</td>\n",
       "    </tr>\n",
       "    <tr>\n",
       "      <th>15</th>\n",
       "      <td>NE%</td>\n",
       "      <td>mean_abs_diff</td>\n",
       "      <td>12.053081</td>\n",
       "    </tr>\n",
       "    <tr>\n",
       "      <th>16</th>\n",
       "      <td>LYM%</td>\n",
       "      <td>mean_abs_diff</td>\n",
       "      <td>8.342613</td>\n",
       "    </tr>\n",
       "    <tr>\n",
       "      <th>17</th>\n",
       "      <td>PLT</td>\n",
       "      <td>mean_abs_diff</td>\n",
       "      <td>92.410037</td>\n",
       "    </tr>\n",
       "    <tr>\n",
       "      <th>18</th>\n",
       "      <td>ALT</td>\n",
       "      <td>mean_abs_diff</td>\n",
       "      <td>141.902282</td>\n",
       "    </tr>\n",
       "    <tr>\n",
       "      <th>19</th>\n",
       "      <td>AST</td>\n",
       "      <td>mean_abs_diff</td>\n",
       "      <td>168.168801</td>\n",
       "    </tr>\n",
       "    <tr>\n",
       "      <th>20</th>\n",
       "      <td>STB</td>\n",
       "      <td>mean_abs_diff</td>\n",
       "      <td>26.135920</td>\n",
       "    </tr>\n",
       "    <tr>\n",
       "      <th>21</th>\n",
       "      <td>BUN</td>\n",
       "      <td>mean_abs_diff</td>\n",
       "      <td>5.965786</td>\n",
       "    </tr>\n",
       "    <tr>\n",
       "      <th>22</th>\n",
       "      <td>Scr</td>\n",
       "      <td>mean_abs_diff</td>\n",
       "      <td>88.963673</td>\n",
       "    </tr>\n",
       "    <tr>\n",
       "      <th>23</th>\n",
       "      <td>Glu</td>\n",
       "      <td>mean_abs_diff</td>\n",
       "      <td>2.697164</td>\n",
       "    </tr>\n",
       "    <tr>\n",
       "      <th>24</th>\n",
       "      <td>K+</td>\n",
       "      <td>mean_abs_diff</td>\n",
       "      <td>0.530105</td>\n",
       "    </tr>\n",
       "    <tr>\n",
       "      <th>25</th>\n",
       "      <td>Na+</td>\n",
       "      <td>mean_abs_diff</td>\n",
       "      <td>3.886319</td>\n",
       "    </tr>\n",
       "    <tr>\n",
       "      <th>26</th>\n",
       "      <td>Fg</td>\n",
       "      <td>mean_abs_diff</td>\n",
       "      <td>1.465875</td>\n",
       "    </tr>\n",
       "    <tr>\n",
       "      <th>27</th>\n",
       "      <td>PT</td>\n",
       "      <td>mean_abs_diff</td>\n",
       "      <td>4.715777</td>\n",
       "    </tr>\n",
       "    <tr>\n",
       "      <th>28</th>\n",
       "      <td>APTT</td>\n",
       "      <td>mean_abs_diff</td>\n",
       "      <td>11.715784</td>\n",
       "    </tr>\n",
       "    <tr>\n",
       "      <th>29</th>\n",
       "      <td>PH</td>\n",
       "      <td>mean_abs_diff</td>\n",
       "      <td>0.058863</td>\n",
       "    </tr>\n",
       "    <tr>\n",
       "      <th>30</th>\n",
       "      <td>PaO2</td>\n",
       "      <td>mean_abs_diff</td>\n",
       "      <td>75.030895</td>\n",
       "    </tr>\n",
       "    <tr>\n",
       "      <th>31</th>\n",
       "      <td>PaO2/FiO2</td>\n",
       "      <td>mean_abs_diff</td>\n",
       "      <td>104.775756</td>\n",
       "    </tr>\n",
       "    <tr>\n",
       "      <th>32</th>\n",
       "      <td>PaCO2</td>\n",
       "      <td>mean_abs_diff</td>\n",
       "      <td>9.299076</td>\n",
       "    </tr>\n",
       "    <tr>\n",
       "      <th>33</th>\n",
       "      <td>HCO3-</td>\n",
       "      <td>mean_abs_diff</td>\n",
       "      <td>3.822697</td>\n",
       "    </tr>\n",
       "    <tr>\n",
       "      <th>34</th>\n",
       "      <td>Lac</td>\n",
       "      <td>mean_abs_diff</td>\n",
       "      <td>0.961383</td>\n",
       "    </tr>\n",
       "    <tr>\n",
       "      <th>35</th>\n",
       "      <td>3d_septic_shock</td>\n",
       "      <td>agreement</td>\n",
       "      <td>0.883243</td>\n",
       "    </tr>\n",
       "    <tr>\n",
       "      <th>36</th>\n",
       "      <td>7d_septic_shock</td>\n",
       "      <td>agreement</td>\n",
       "      <td>0.832432</td>\n",
       "    </tr>\n",
       "  </tbody>\n",
       "</table>\n",
       "</div>"
      ],
      "text/plain": [
       "                 column         metric        value\n",
       "0            Unnamed: 0  mean_abs_diff  7204.856054\n",
       "1                   age  mean_abs_diff    12.770270\n",
       "2                   sex      agreement     0.515676\n",
       "3                   BMI  mean_abs_diff     5.699933\n",
       "4           temperature  mean_abs_diff     0.462132\n",
       "5            heart_rate  mean_abs_diff    12.660697\n",
       "6           respir_rate  mean_abs_diff     3.492576\n",
       "7                   SBP  mean_abs_diff    12.559832\n",
       "8                   DBP  mean_abs_diff     9.480161\n",
       "9                   MAP  mean_abs_diff     9.244594\n",
       "10             SOFA_cns      agreement     0.581622\n",
       "11                 CRRT      agreement     0.934054\n",
       "12  Respiratory_Support      agreement     0.315676\n",
       "13                  WBC  mean_abs_diff     6.061786\n",
       "14                   Hb  mean_abs_diff    17.416017\n",
       "15                  NE%  mean_abs_diff    12.053081\n",
       "16                 LYM%  mean_abs_diff     8.342613\n",
       "17                  PLT  mean_abs_diff    92.410037\n",
       "18                  ALT  mean_abs_diff   141.902282\n",
       "19                  AST  mean_abs_diff   168.168801\n",
       "20                  STB  mean_abs_diff    26.135920\n",
       "21                  BUN  mean_abs_diff     5.965786\n",
       "22                  Scr  mean_abs_diff    88.963673\n",
       "23                  Glu  mean_abs_diff     2.697164\n",
       "24                   K+  mean_abs_diff     0.530105\n",
       "25                  Na+  mean_abs_diff     3.886319\n",
       "26                   Fg  mean_abs_diff     1.465875\n",
       "27                   PT  mean_abs_diff     4.715777\n",
       "28                 APTT  mean_abs_diff    11.715784\n",
       "29                   PH  mean_abs_diff     0.058863\n",
       "30                 PaO2  mean_abs_diff    75.030895\n",
       "31            PaO2/FiO2  mean_abs_diff   104.775756\n",
       "32                PaCO2  mean_abs_diff     9.299076\n",
       "33                HCO3-  mean_abs_diff     3.822697\n",
       "34                  Lac  mean_abs_diff     0.961383\n",
       "35      3d_septic_shock      agreement     0.883243\n",
       "36      7d_septic_shock      agreement     0.832432"
      ]
     },
     "execution_count": 15,
     "metadata": {},
     "output_type": "execute_result"
    }
   ],
   "source": [
    "\n",
    "differences = []\n",
    "for column in test_reference.columns:\n",
    "    if column in discrete_cols:\n",
    "        suave_values = suave_decoded[column].astype(str)\n",
    "        hivae_values = hivae_decoded_original[column].astype(str)\n",
    "        agreement = float((suave_values == hivae_values).mean())\n",
    "        differences.append({'column': column, 'metric': 'agreement', 'value': agreement})\n",
    "    else:\n",
    "        suave_numeric = pd.to_numeric(suave_decoded[column], errors='coerce')\n",
    "        hivae_numeric = pd.to_numeric(hivae_decoded_original[column], errors='coerce')\n",
    "        diff = suave_numeric - hivae_numeric\n",
    "        mae = float(np.nanmean(np.abs(diff)))\n",
    "        differences.append({'column': column, 'metric': 'mean_abs_diff', 'value': mae})\n",
    "pd.DataFrame(differences)\n"
   ]
  },
  {
   "cell_type": "code",
   "execution_count": 16,
   "id": "1d85007e",
   "metadata": {
    "execution": {
     "iopub.execute_input": "2025-09-18T13:53:53.347759Z",
     "iopub.status.busy": "2025-09-18T13:53:53.347473Z",
     "iopub.status.idle": "2025-09-18T13:53:53.381449Z",
     "shell.execute_reply": "2025-09-18T13:53:53.379968Z"
    }
   },
   "outputs": [
    {
     "data": {
      "text/html": [
       "<div>\n",
       "<style scoped>\n",
       "    .dataframe tbody tr th:only-of-type {\n",
       "        vertical-align: middle;\n",
       "    }\n",
       "\n",
       "    .dataframe tbody tr th {\n",
       "        vertical-align: top;\n",
       "    }\n",
       "\n",
       "    .dataframe thead tr th {\n",
       "        text-align: left;\n",
       "    }\n",
       "</style>\n",
       "<table border=\"1\" class=\"dataframe\">\n",
       "  <thead>\n",
       "    <tr>\n",
       "      <th></th>\n",
       "      <th colspan=\"6\" halign=\"left\">original</th>\n",
       "      <th colspan=\"6\" halign=\"left\">suave_imputed</th>\n",
       "      <th colspan=\"6\" halign=\"left\">hivae_imputed</th>\n",
       "    </tr>\n",
       "    <tr>\n",
       "      <th></th>\n",
       "      <th>3d_septic_shock</th>\n",
       "      <th>7d_septic_shock</th>\n",
       "      <th>CRRT</th>\n",
       "      <th>Unnamed: 0</th>\n",
       "      <th>age</th>\n",
       "      <th>BMI</th>\n",
       "      <th>3d_septic_shock</th>\n",
       "      <th>7d_septic_shock</th>\n",
       "      <th>CRRT</th>\n",
       "      <th>Unnamed: 0</th>\n",
       "      <th>age</th>\n",
       "      <th>BMI</th>\n",
       "      <th>3d_septic_shock</th>\n",
       "      <th>7d_septic_shock</th>\n",
       "      <th>CRRT</th>\n",
       "      <th>Unnamed: 0</th>\n",
       "      <th>age</th>\n",
       "      <th>BMI</th>\n",
       "    </tr>\n",
       "  </thead>\n",
       "  <tbody>\n",
       "    <tr>\n",
       "      <th>0</th>\n",
       "      <td>0</td>\n",
       "      <td>0</td>\n",
       "      <td>0</td>\n",
       "      <td>9686</td>\n",
       "      <td>76</td>\n",
       "      <td>35.967860</td>\n",
       "      <td>0</td>\n",
       "      <td>0</td>\n",
       "      <td>0</td>\n",
       "      <td>34315.453125</td>\n",
       "      <td>76.366600</td>\n",
       "      <td>13.719404</td>\n",
       "      <td>0</td>\n",
       "      <td>0</td>\n",
       "      <td>0</td>\n",
       "      <td>12603.884766</td>\n",
       "      <td>69.379837</td>\n",
       "      <td>31.367161</td>\n",
       "    </tr>\n",
       "    <tr>\n",
       "      <th>1</th>\n",
       "      <td>0</td>\n",
       "      <td>0</td>\n",
       "      <td>0</td>\n",
       "      <td>26289</td>\n",
       "      <td>78</td>\n",
       "      <td>23.979239</td>\n",
       "      <td>0</td>\n",
       "      <td>0</td>\n",
       "      <td>0</td>\n",
       "      <td>17530.562500</td>\n",
       "      <td>65.365295</td>\n",
       "      <td>36.954567</td>\n",
       "      <td>0</td>\n",
       "      <td>0</td>\n",
       "      <td>0</td>\n",
       "      <td>16884.281250</td>\n",
       "      <td>72.872253</td>\n",
       "      <td>25.499931</td>\n",
       "    </tr>\n",
       "    <tr>\n",
       "      <th>2</th>\n",
       "      <td>0</td>\n",
       "      <td>0</td>\n",
       "      <td>0</td>\n",
       "      <td>14629</td>\n",
       "      <td>91</td>\n",
       "      <td>NaN</td>\n",
       "      <td>0</td>\n",
       "      <td>1</td>\n",
       "      <td>0</td>\n",
       "      <td>15548.692383</td>\n",
       "      <td>71.511894</td>\n",
       "      <td>25.371410</td>\n",
       "      <td>0</td>\n",
       "      <td>0</td>\n",
       "      <td>0</td>\n",
       "      <td>15299.752930</td>\n",
       "      <td>64.916603</td>\n",
       "      <td>28.279955</td>\n",
       "    </tr>\n",
       "    <tr>\n",
       "      <th>3</th>\n",
       "      <td>0</td>\n",
       "      <td>0</td>\n",
       "      <td>0</td>\n",
       "      <td>11602</td>\n",
       "      <td>91</td>\n",
       "      <td>23.154800</td>\n",
       "      <td>0</td>\n",
       "      <td>1</td>\n",
       "      <td>0</td>\n",
       "      <td>19247.982422</td>\n",
       "      <td>83.804085</td>\n",
       "      <td>32.788475</td>\n",
       "      <td>0</td>\n",
       "      <td>0</td>\n",
       "      <td>0</td>\n",
       "      <td>13216.267578</td>\n",
       "      <td>70.672272</td>\n",
       "      <td>25.346279</td>\n",
       "    </tr>\n",
       "    <tr>\n",
       "      <th>4</th>\n",
       "      <td>0</td>\n",
       "      <td>0</td>\n",
       "      <td>0</td>\n",
       "      <td>25105</td>\n",
       "      <td>74</td>\n",
       "      <td>NaN</td>\n",
       "      <td>0</td>\n",
       "      <td>0</td>\n",
       "      <td>0</td>\n",
       "      <td>28334.058594</td>\n",
       "      <td>88.260078</td>\n",
       "      <td>33.323540</td>\n",
       "      <td>0</td>\n",
       "      <td>0</td>\n",
       "      <td>0</td>\n",
       "      <td>17318.648438</td>\n",
       "      <td>74.553017</td>\n",
       "      <td>27.915478</td>\n",
       "    </tr>\n",
       "  </tbody>\n",
       "</table>\n",
       "</div>"
      ],
      "text/plain": [
       "         original                                                 \\\n",
       "  3d_septic_shock 7d_septic_shock CRRT Unnamed: 0 age        BMI   \n",
       "0               0               0    0       9686  76  35.967860   \n",
       "1               0               0    0      26289  78  23.979239   \n",
       "2               0               0    0      14629  91        NaN   \n",
       "3               0               0    0      11602  91  23.154800   \n",
       "4               0               0    0      25105  74        NaN   \n",
       "\n",
       "    suave_imputed                                                           \\\n",
       "  3d_septic_shock 7d_septic_shock CRRT    Unnamed: 0        age        BMI   \n",
       "0               0               0    0  34315.453125  76.366600  13.719404   \n",
       "1               0               0    0  17530.562500  65.365295  36.954567   \n",
       "2               0               1    0  15548.692383  71.511894  25.371410   \n",
       "3               0               1    0  19247.982422  83.804085  32.788475   \n",
       "4               0               0    0  28334.058594  88.260078  33.323540   \n",
       "\n",
       "    hivae_imputed                                                           \n",
       "  3d_septic_shock 7d_septic_shock CRRT    Unnamed: 0        age        BMI  \n",
       "0               0               0    0  12603.884766  69.379837  31.367161  \n",
       "1               0               0    0  16884.281250  72.872253  25.499931  \n",
       "2               0               0    0  15299.752930  64.916603  28.279955  \n",
       "3               0               0    0  13216.267578  70.672272  25.346279  \n",
       "4               0               0    0  17318.648438  74.553017  27.915478  "
      ]
     },
     "execution_count": 16,
     "metadata": {},
     "output_type": "execute_result"
    }
   ],
   "source": [
    "\n",
    "preview_columns = list(discrete_cols)[:3] + [col for col in test_reference.columns if col not in discrete_cols][:3]\n",
    "preview = pd.concat(\n",
    "    {\n",
    "        'original': test_reference[preview_columns],\n",
    "        'suave_imputed': suave_decoded[preview_columns],\n",
    "        'hivae_imputed': hivae_decoded_original[preview_columns],\n",
    "    },\n",
    "    axis=1\n",
    ")\n",
    "preview.head()\n"
   ]
  },
  {
   "cell_type": "code",
   "execution_count": 17,
   "id": "b6a45e4e",
   "metadata": {
    "execution": {
     "iopub.execute_input": "2025-09-18T13:53:53.385619Z",
     "iopub.status.busy": "2025-09-18T13:53:53.385074Z",
     "iopub.status.idle": "2025-09-18T13:53:53.393151Z",
     "shell.execute_reply": "2025-09-18T13:53:53.391401Z"
    }
   },
   "outputs": [
    {
     "name": "stdout",
     "output_type": "stream",
     "text": [
      "SUAVE predict() error: predict is unavailable when behaviour='hivae'; this mode matches the baseline HI-VAE and does not expose classifier outputs.\n",
      "TensorFlow HI-VAE predict() callable: True\n"
     ]
    }
   ],
   "source": [
    "\n",
    "try:\n",
    "    suave_model.predict(test_suave_corrupted)\n",
    "except RuntimeError as exc:\n",
    "    print('SUAVE predict() error:', exc)\n",
    "\n",
    "print('TensorFlow HI-VAE predict() callable:', callable(getattr(hivae_model, 'predict', None)))\n"
   ]
  },
  {
   "cell_type": "markdown",
   "id": "473e18ab",
   "metadata": {},
   "source": [
    "\n",
    "## 小结\n",
    "\n",
    "* 表格对比显示两种实现对于数值变量的均方误差 (MSE) 与类别变量的准确率非常接近。\n",
    "* 直接比较 SUAVE 与 TensorFlow HI-VAE 的重建输出，数值变量的平均绝对差仅为很小的量级，类别变量几乎完全一致。\n",
    "* 当 `behaviour='hivae'` 时，SUAVE 遵循原始 HI-VAE 设计，不提供分类 `predict()` 接口，因此与 TensorFlow 参考实现的 `predict` (用于生成重建结果) 在功能上保持一致。\n"
   ]
  }
 ],
 "metadata": {
  "kernelspec": {
   "display_name": "Python 3",
   "language": "python",
   "name": "python3"
  },
  "language_info": {
   "codemirror_mode": {
    "name": "ipython",
    "version": 3
   },
   "file_extension": ".py",
   "mimetype": "text/x-python",
   "name": "python",
   "nbconvert_exporter": "python",
   "pygments_lexer": "ipython3",
   "version": "3.11.12"
  }
 },
 "nbformat": 4,
 "nbformat_minor": 5
}
