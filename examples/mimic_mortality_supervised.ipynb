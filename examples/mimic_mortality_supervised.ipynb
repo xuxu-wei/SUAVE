{
 "cells": [
  {
   "cell_type": "markdown",
   "id": "b241d7fb",
   "metadata": {},
   "source": [
    "# MIMIC mortality (supervised)\n",
    "\n",
    "This notebook reproduces the supervised SUAVE mortality analysis with Optuna-based hyperparameter tuning."
   ]
  },
  {
   "cell_type": "code",
   "execution_count": 6,
   "id": "5aea563e",
   "metadata": {},
   "outputs": [],
   "source": [
    "\n",
    "import sys\n",
    "import json\n",
    "from pathlib import Path\n",
    "import time\n",
    "from typing import Dict, List, Mapping, Optional, Tuple\n",
    "from IPython.display import Markdown, display\n",
    "\n",
    "import numpy as np\n",
    "import pandas as pd\n",
    "from matplotlib import pyplot as plt\n",
    "from sklearn.calibration import calibration_curve\n",
    "from sklearn.decomposition import PCA\n",
    "from sklearn.impute import SimpleImputer\n",
    "from sklearn.linear_model import LogisticRegression\n",
    "from sklearn.metrics import (\n",
    "    accuracy_score,\n",
    "    brier_score_loss,\n",
    "    confusion_matrix,\n",
    "    roc_auc_score,\n",
    ")\n",
    "from sklearn.pipeline import Pipeline\n",
    "from sklearn.preprocessing import StandardScaler\n",
    "\n",
    "EXAMPLES_DIR = Path().resolve()\n",
    "if not EXAMPLES_DIR.exists():\n",
    "    raise RuntimeError(\"Run this notebook from the repository root so 'examples' is available.\")\n",
    "if str(EXAMPLES_DIR) not in sys.path:\n",
    "    sys.path.insert(0, str(EXAMPLES_DIR))\n",
    "\n",
    "from mimic_mortality_utils import (\n",
    "    RANDOM_STATE,\n",
    "    TARGET_COLUMNS,\n",
    "    CALIBRATION_SIZE,\n",
    "    VALIDATION_SIZE,\n",
    "    Schema,\n",
    "    define_schema,\n",
    "    \n",
    "    format_float,\n",
    "    kolmogorov_smirnov_statistic,\n",
    "    load_dataset,\n",
    "    mutual_information_feature,\n",
    "    prepare_features,\n",
    "    rbf_mmd,\n",
    "    schema_markdown_table,\n",
    "    split_train_validation_calibration,\n",
    "    to_numeric_frame,\n",
    ")\n",
    "\n",
    "from suave import SUAVE\n",
    "from suave.evaluate import evaluate_tstr, evaluate_trtr, simple_membership_inference\n",
    "\n",
    "try:\n",
    "    import optuna\n",
    "except ImportError as exc:  # pragma: no cover - optuna provided via requirements\n",
    "    raise RuntimeError(\n",
    "        \"Optuna is required for the mortality analysis. Install it via 'pip install optuna'.\"\n",
    "    ) from exc\n"
   ]
  },
  {
   "cell_type": "code",
   "execution_count": 7,
   "id": "085afd02",
   "metadata": {},
   "outputs": [],
   "source": [
    "\n",
    "# Configuration\n",
    "analysis_config = {\n",
    "    \"optuna_trials\": 60,\n",
    "    \"optuna_timeout\": 3600*48,\n",
    "    \"optuna_study_prefix\": \"supervised\",\n",
    "    \"optuna_storage\": None,\n",
    "    \"output_dir_name\": \"analysis_outputs_supervised\",\n",
    "}\n"
   ]
  },
  {
   "cell_type": "code",
   "execution_count": null,
   "id": "4fe95aec",
   "metadata": {},
   "outputs": [
    {
     "name": "stdout",
     "output_type": "stream",
     "text": [
      "[schema] Column 'age' flagged for review: Integer feature near categorical threshold.\n",
      "[schema] Column 'PaO2' flagged for review: Continuous feature near categorical ratio boundary.\n",
      "[schema] Column 'PaO2/FiO2' flagged for review: Positive skew close to threshold.\n"
     ]
    },
    {
     "data": {
      "text/markdown": [
       "| Column | Type | n_classes | y_dim |\n",
       "| --- | --- | --- | --- |\n",
       "| age | real |  |  |\n",
       "| sex | cat | 2 |  |\n",
       "| BMI | real |  |  |\n",
       "| temperature | real |  |  |\n",
       "| heart_rate | real |  |  |\n",
       "| respir_rate | real |  |  |\n",
       "| SBP | real |  |  |\n",
       "| DBP | real |  |  |\n",
       "| MAP | real |  |  |\n",
       "| SOFA_cns | ordinal | 5 |  |\n",
       "| CRRT | cat | 2 |  |\n",
       "| Respiratory_Support | ordinal | 5 |  |\n",
       "| WBC | pos |  |  |\n",
       "| Hb | real |  |  |\n",
       "| NE% | real |  |  |\n",
       "| LYM% | real |  |  |\n",
       "| PLT | pos |  |  |\n",
       "| ALT | pos |  |  |\n",
       "| AST | pos |  |  |\n",
       "| STB | pos |  |  |\n",
       "| BUN | pos |  |  |\n",
       "| Scr | pos |  |  |\n",
       "| Glu | pos |  |  |\n",
       "| K+ | real |  |  |\n",
       "| Na+ | real |  |  |\n",
       "| Fg | pos |  |  |\n",
       "| PT | pos |  |  |\n",
       "| APTT | pos |  |  |\n",
       "| PH | real |  |  |\n",
       "| PaO2 | real |  |  |\n",
       "| PaO2/FiO2 | pos |  |  |\n",
       "| PaCO2 | pos |  |  |\n",
       "| HCO3- | real |  |  |\n",
       "| Lac | pos |  |  |"
      ],
      "text/plain": [
       "<IPython.core.display.Markdown object>"
      ]
     },
     "metadata": {},
     "output_type": "display_data"
    }
   ],
   "source": [
    "\n",
    "DATA_DIR = (EXAMPLES_DIR / \"data\" / \"sepsis_mortality_dataset\").resolve()\n",
    "OUTPUT_DIR = EXAMPLES_DIR / analysis_config[\"output_dir_name\"]\n",
    "OUTPUT_DIR.mkdir(exist_ok=True)\n",
    "analysis_config['optuna_storage'] = f'sqlite:///{OUTPUT_DIR}/{analysis_config[\"optuna_study_prefix\"]}_optuna.db'\n",
    "\n",
    "train_df = load_dataset(DATA_DIR / \"mimic-mortality-train.tsv\")\n",
    "test_df = load_dataset(DATA_DIR / \"mimic-mortality-test.tsv\")\n",
    "external_df = load_dataset(DATA_DIR / \"eicu-mortality-external_val.tsv\")\n",
    "\n",
    "FEATURE_COLUMNS = [column for column in train_df.columns if column not in TARGET_COLUMNS]\n",
    "schema = define_schema(train_df, FEATURE_COLUMNS, mode=\"interactive\")\n",
    "\n",
    "# manual schema correction\n",
    "schema.update({'BMI':{'type': 'real'},\n",
    "               'Respiratory_Support':{'type': 'ordinal', 'n_classes': 5},\n",
    "               'LYM%':{'type': 'real'}\n",
    "               })\n",
    "\n",
    "\n",
    "schema_table = schema_markdown_table(schema)\n",
    "display(Markdown(schema_table))\n"
   ]
  },
  {
   "cell_type": "code",
   "execution_count": 9,
   "id": "2bd362ac",
   "metadata": {},
   "outputs": [],
   "source": [
    "\n",
    "HIDDEN_DIMENSION_OPTIONS: Dict[str, Tuple[int, int]] = {\n",
    "    \"compact\": (96, 48),\n",
    "    \"small\": (128, 64),\n",
    "    \"medium\": (256, 128),\n",
    "    \"wide\": (384, 192),\n",
    "    \"extra_wide\": (512, 256),\n",
    "}\n",
    "\n",
    "HEAD_HIDDEN_DIMENSION_OPTIONS: Dict[str, Tuple[int, int]] = {\n",
    "    \"compact\": (32,),\n",
    "    \"small\": (48,),\n",
    "    \"medium\": (48, 32),\n",
    "    \"wide\": (96, 48, 16),\n",
    "    \"extra_wide\": (64, 128, 64, 16),\n",
    "}\n",
    "\n",
    "\n",
    "def make_logistic_pipeline() -> Pipeline:\n",
    "    \"\"\"Factory for the baseline classifier used in TSTR/TRTR.\"\"\"\n",
    "\n",
    "    return Pipeline(\n",
    "        [\n",
    "            (\"imputer\", SimpleImputer(strategy=\"median\")),\n",
    "            (\"scaler\", StandardScaler()),\n",
    "            (\"classifier\", LogisticRegression(max_iter=200)),\n",
    "        ]\n",
    "    )\n",
    "\n",
    "\n",
    "def compute_binary_metrics(\n",
    "    probabilities: np.ndarray, targets: pd.Series | np.ndarray\n",
    ") -> Dict[str, float]:\n",
    "    \"\"\"Compute AUROC, accuracy, specificity, sensitivity, and Brier score.\"\"\"\n",
    "\n",
    "    prob_matrix = np.asarray(probabilities)\n",
    "    if prob_matrix.ndim == 1:\n",
    "        positive_probs = prob_matrix\n",
    "    else:\n",
    "        positive_probs = prob_matrix[:, -1]\n",
    "    labels = np.asarray(targets)\n",
    "    predictions = (positive_probs >= 0.5).astype(int)\n",
    "\n",
    "    metrics: Dict[str, float] = {}\n",
    "\n",
    "    try:\n",
    "        roauc = float(roc_auc_score(labels, positive_probs))\n",
    "    except ValueError:\n",
    "        roauc = float(\"nan\")\n",
    "\n",
    "    metrics[\"ROAUC\"] = roauc\n",
    "    metrics[\"AUC\"] = roauc\n",
    "\n",
    "    metrics[\"ACC\"] = float(accuracy_score(labels, predictions))\n",
    "    tn, fp, fn, tp = confusion_matrix(labels, predictions, labels=[0, 1]).ravel()\n",
    "    metrics[\"SPE\"] = float(tn / (tn + fp)) if (tn + fp) > 0 else float(\"nan\")\n",
    "    metrics[\"SEN\"] = float(tp / (tp + fn)) if (tp + fn) > 0 else float(\"nan\")\n",
    "    metrics[\"Brier\"] = float(brier_score_loss(labels, positive_probs))\n",
    "    return metrics\n",
    "\n",
    "\n",
    "def run_optuna_search(\n",
    "    X_train: pd.DataFrame,\n",
    "    y_train: pd.Series,\n",
    "    X_validation: pd.DataFrame,\n",
    "    y_validation: pd.Series,\n",
    "    schema: Schema,\n",
    "    *,\n",
    "    random_state: int,\n",
    "    n_trials: Optional[int],\n",
    "    timeout: Optional[int],\n",
    "    study_name: Optional[str] = None,\n",
    "    storage: Optional[str] = None,\n",
    ") -> tuple[\"optuna.study.Study\", Dict[str, object]]:\n",
    "    \"\"\"Perform Optuna hyperparameter optimisation for :class:`SUAVE`.\"\"\"\n",
    "\n",
    "    if n_trials is not None and n_trials <= 0:\n",
    "        n_trials = None\n",
    "    if timeout is not None and timeout <= 0:\n",
    "        timeout = None\n",
    "\n",
    "    def objective(trial: \"optuna.trial.Trial\") -> float:\n",
    "        latent_dim = trial.suggest_categorical(\"latent_dim\", [6, 8, 16, 32])\n",
    "        hidden_key = trial.suggest_categorical(\"hidden_dims\", list(HIDDEN_DIMENSION_OPTIONS.keys()))\n",
    "        head_hidden_key = trial.suggest_categorical(\"head_hidden_dims\", list(HEAD_HIDDEN_DIMENSION_OPTIONS.keys()))\n",
    "        dropout = trial.suggest_float(\"dropout\", 0.0, 0.5)\n",
    "        learning_rate = trial.suggest_float(\"learning_rate\", 5e-5, 2e-2, log=True)\n",
    "        batch_size = trial.suggest_categorical(\"batch_size\", [64, 128, 256, 512, 1024])\n",
    "        beta = trial.suggest_float(\"beta\", 0.5, 4.0)\n",
    "        warmup_epochs = trial.suggest_int(\"warmup_epochs\", 2, 60)\n",
    "        head_epochs = trial.suggest_int(\"head_epochs\", 1, 50)\n",
    "        finetune_epochs = trial.suggest_int(\"finetune_epochs\", 3, 20)\n",
    "        joint_decoder_lr_scale = trial.suggest_float(\"joint_decoder_lr_scale\", 1e-3, 0.3)\n",
    "\n",
    "        model = SUAVE(\n",
    "            schema=schema,\n",
    "            latent_dim=latent_dim,\n",
    "            hidden_dims=HIDDEN_DIMENSION_OPTIONS[hidden_key],\n",
    "            head_hidden_dims=HEAD_HIDDEN_DIMENSION_OPTIONS[head_hidden_key],\n",
    "            dropout=dropout,\n",
    "            learning_rate=learning_rate,\n",
    "            batch_size=batch_size,\n",
    "            beta=beta,\n",
    "            random_state=random_state,\n",
    "            behaviour=\"supervised\",\n",
    "        )\n",
    "\n",
    "        start_time = time.perf_counter()\n",
    "        model.fit(\n",
    "            X_train,\n",
    "            y_train,\n",
    "            warmup_epochs=warmup_epochs,\n",
    "            head_epochs=head_epochs,\n",
    "            finetune_epochs=finetune_epochs,\n",
    "            joint_decoder_lr_scale=joint_decoder_lr_scale,\n",
    "        )\n",
    "        fit_seconds = time.perf_counter() - start_time\n",
    "        validation_probs = model.predict_proba(X_validation)\n",
    "        validation_metrics = compute_binary_metrics(validation_probs, y_validation)\n",
    "        trial.set_user_attr(\"validation_metrics\", validation_metrics)\n",
    "        trial.set_user_attr(\"fit_seconds\", fit_seconds)\n",
    "\n",
    "        roauc = validation_metrics.get(\"ROAUC\", float(\"nan\"))\n",
    "        if not np.isfinite(roauc):\n",
    "            raise optuna.exceptions.TrialPruned(\"Non-finite validation ROAUC\")\n",
    "        return roauc\n",
    "\n",
    "    study = optuna.create_study(\n",
    "        direction=\"maximize\",\n",
    "        study_name=study_name,\n",
    "        storage=storage,\n",
    "        load_if_exists=bool(storage and study_name),\n",
    "    )\n",
    "    study.optimize(objective, n_trials=n_trials, timeout=timeout)\n",
    "\n",
    "    if study.best_trial is None:\n",
    "        raise RuntimeError(\"Optuna search did not produce a best trial\")\n",
    "    best_attributes: Dict[str, object] = {\n",
    "        \"trial_number\": study.best_trial.number,\n",
    "        \"value\": study.best_value,\n",
    "        \"params\": dict(study.best_trial.params),\n",
    "        \"validation_metrics\": study.best_trial.user_attrs.get(\"validation_metrics\", {}),\n",
    "        \"fit_seconds\": study.best_trial.user_attrs.get(\"fit_seconds\"),\n",
    "    }\n",
    "    return study, best_attributes\n",
    "\n",
    "\n",
    "def plot_calibration_curves(\n",
    "    probability_map: Mapping[str, np.ndarray],\n",
    "    label_map: Mapping[str, np.ndarray],\n",
    "    *,\n",
    "    target_name: str,\n",
    "    output_path: Path,\n",
    "    n_bins: int = 10,\n",
    ") -> None:\n",
    "    \"\"\"Generate calibration curves with Brier scores annotated in the legend.\"\"\"\n",
    "\n",
    "    fig, ax = plt.subplots(figsize=(6, 5))\n",
    "    ax.plot(\n",
    "        [0, 1], [0, 1], linestyle=\"--\", color=\"tab:gray\", label=\"Perfect calibration\"\n",
    "    )\n",
    "\n",
    "    for dataset_name, probs in probability_map.items():\n",
    "        labels = label_map[dataset_name]\n",
    "        if probs.ndim == 2:\n",
    "            pos_probs = probs[:, -1]\n",
    "        else:\n",
    "            pos_probs = probs\n",
    "        try:\n",
    "            frac_pos, mean_pred = calibration_curve(labels, pos_probs, n_bins=n_bins)\n",
    "        except ValueError:\n",
    "            continue\n",
    "        brier = brier_score_loss(labels, pos_probs)\n",
    "        ax.plot(\n",
    "            mean_pred, frac_pos, marker=\"o\", label=f\"{dataset_name} (Brier={brier:.3f})\"\n",
    "        )\n",
    "\n",
    "    ax.set_xlabel(\"Predicted probability\")\n",
    "    ax.set_ylabel(\"Observed frequency\")\n",
    "    ax.set_title(f\"Calibration: {target_name}\")\n",
    "    ax.legend()\n",
    "    fig.tight_layout()\n",
    "    fig.savefig(output_path, dpi=300)\n",
    "    plt.close(fig)\n",
    "\n",
    "\n",
    "def plot_latent_space(\n",
    "    model: SUAVE,\n",
    "    feature_map: Mapping[str, pd.DataFrame],\n",
    "    label_map: Mapping[str, pd.Series | np.ndarray],\n",
    "    *,\n",
    "    target_name: str,\n",
    "    output_path: Path,\n",
    ") -> None:\n",
    "    \"\"\"Project latent representations with PCA and create scatter plots.\"\"\"\n",
    "\n",
    "    latent_blocks: List[np.ndarray] = []\n",
    "    dataset_keys: List[str] = []\n",
    "    for name, features in feature_map.items():\n",
    "        if features.empty:\n",
    "            continue\n",
    "        latents = model.encode(features)\n",
    "        if latents.size == 0:\n",
    "            continue\n",
    "        latent_blocks.append(latents)\n",
    "        dataset_keys.append(name)\n",
    "\n",
    "    if not latent_blocks:\n",
    "        return\n",
    "\n",
    "    concatenated = np.vstack(latent_blocks)\n",
    "    pca = PCA(n_components=2)\n",
    "    projected = pca.fit_transform(concatenated)\n",
    "\n",
    "    offsets = np.cumsum([0] + [block.shape[0] for block in latent_blocks])\n",
    "    fig, axes = plt.subplots(\n",
    "        1,\n",
    "        len(latent_blocks),\n",
    "        figsize=(6 * len(latent_blocks), 5),\n",
    "        sharex=True,\n",
    "        sharey=True,\n",
    "    )\n",
    "\n",
    "    if len(latent_blocks) == 1:\n",
    "        axes = [axes]\n",
    "\n",
    "    for idx, (ax, name) in enumerate(zip(axes, dataset_keys)):\n",
    "        start, end = offsets[idx], offsets[idx + 1]\n",
    "        subset = projected[start:end]\n",
    "        labels = np.asarray(label_map[name])\n",
    "        scatter = ax.scatter(\n",
    "            subset[:, 0],\n",
    "            subset[:, 1],\n",
    "            c=labels,\n",
    "            cmap=\"coolwarm\",\n",
    "            alpha=0.7,\n",
    "            edgecolor=\"none\",\n",
    "        )\n",
    "        ax.set_title(f\"{name}\")\n",
    "        ax.set_xlabel(\"PC1\")\n",
    "        ax.set_ylabel(\"PC2\")\n",
    "        legend = ax.legend(*scatter.legend_elements(), title=\"Label\")\n",
    "        ax.add_artist(legend)\n",
    "\n",
    "    fig.suptitle(f\"Latent space projection: {target_name}\")\n",
    "    fig.tight_layout(rect=(0, 0, 1, 0.96))\n",
    "    fig.savefig(output_path, dpi=300)\n",
    "    plt.close(fig)\n"
   ]
  },
  {
   "cell_type": "code",
   "execution_count": null,
   "id": "b5c44d57",
   "metadata": {},
   "outputs": [
    {
     "name": "stderr",
     "output_type": "stream",
     "text": [
      "[I 2025-09-24 02:30:40,554] Using an existing study with name 'supervised_in_hospital_mortality' instead of creating a new one.\n"
     ]
    },
    {
     "name": "stdout",
     "output_type": "stream",
     "text": [
      "Training supervised model for in_hospital_mortality\u2026\n"
     ]
    },
    {
     "data": {
      "application/vnd.jupyter.widget-view+json": {
       "model_id": "e2b0f6c8ee44412b8e628f8864712390",
       "version_major": 2,
       "version_minor": 0
      },
      "text/plain": [
       "Warm-start:   0%|          | 0/11 [00:00<?, ?it/s]"
      ]
     },
     "metadata": {},
     "output_type": "display_data"
    },
    {
     "data": {
      "application/vnd.jupyter.widget-view+json": {
       "model_id": "1271af6b3e824142ac448fceb971aa4f",
       "version_major": 2,
       "version_minor": 0
      },
      "text/plain": [
       "Head:   0%|          | 0/35 [00:00<?, ?it/s]"
      ]
     },
     "metadata": {},
     "output_type": "display_data"
    },
    {
     "data": {
      "application/vnd.jupyter.widget-view+json": {
       "model_id": "6a3ebaa985da4f52ab10911a18aad605",
       "version_major": 2,
       "version_minor": 0
      },
      "text/plain": [
       "Joint fine-tune:   0%|          | 0/10 [00:00<?, ?it/s]"
      ]
     },
     "metadata": {},
     "output_type": "display_data"
    },
    {
     "name": "stderr",
     "output_type": "stream",
     "text": [
      "[I 2025-09-24 02:31:27,538] Trial 1 finished with value: 0.5669088997312344 and parameters: {'latent_dim': 32, 'hidden_dims': 'compact', 'head_hidden_dims': 'wide', 'dropout': 0.30186623384978056, 'learning_rate': 5.313609832071856e-05, 'batch_size': 1024, 'beta': 1.6953873312905763, 'warmup_epochs': 11, 'head_epochs': 35, 'finetune_epochs': 10, 'joint_decoder_lr_scale': 0.07995769511797722}. Best is trial 1 with value: 0.5669088997312344.\n"
     ]
    },
    {
     "data": {
      "application/vnd.jupyter.widget-view+json": {
       "model_id": "63146fed89ce4061b8b8dad87be1e367",
       "version_major": 2,
       "version_minor": 0
      },
      "text/plain": [
       "Warm-start:   0%|          | 0/51 [00:00<?, ?it/s]"
      ]
     },
     "metadata": {},
     "output_type": "display_data"
    },
    {
     "data": {
      "application/vnd.jupyter.widget-view+json": {
       "model_id": "7332d8c8048a4acca270a9fa74763694",
       "version_major": 2,
       "version_minor": 0
      },
      "text/plain": [
       "Head:   0%|          | 0/28 [00:00<?, ?it/s]"
      ]
     },
     "metadata": {},
     "output_type": "display_data"
    },
    {
     "data": {
      "application/vnd.jupyter.widget-view+json": {
       "model_id": "94a2ec8286ef4e21b020a1acbdeb310a",
       "version_major": 2,
       "version_minor": 0
      },
      "text/plain": [
       "Joint fine-tune:   0%|          | 0/8 [00:00<?, ?it/s]"
      ]
     },
     "metadata": {},
     "output_type": "display_data"
    },
    {
     "name": "stderr",
     "output_type": "stream",
     "text": [
      "[I 2025-09-24 02:49:22,509] Trial 2 finished with value: 0.724075411624239 and parameters: {'latent_dim': 6, 'hidden_dims': 'wide', 'head_hidden_dims': 'extra_wide', 'dropout': 0.03164820344584046, 'learning_rate': 0.0004685427445528435, 'batch_size': 128, 'beta': 0.615928672505365, 'warmup_epochs': 51, 'head_epochs': 28, 'finetune_epochs': 8, 'joint_decoder_lr_scale': 0.2562516034236315}. Best is trial 2 with value: 0.724075411624239.\n"
     ]
    },
    {
     "data": {
      "application/vnd.jupyter.widget-view+json": {
       "model_id": "abc4a02376754c5fa83a7ce8dd71a1f7",
       "version_major": 2,
       "version_minor": 0
      },
      "text/plain": [
       "Warm-start:   0%|          | 0/9 [00:00<?, ?it/s]"
      ]
     },
     "metadata": {},
     "output_type": "display_data"
    },
    {
     "data": {
      "application/vnd.jupyter.widget-view+json": {
       "model_id": "8906b062a7674378b6bcda06eec19107",
       "version_major": 2,
       "version_minor": 0
      },
      "text/plain": [
       "Head:   0%|          | 0/28 [00:00<?, ?it/s]"
      ]
     },
     "metadata": {},
     "output_type": "display_data"
    },
    {
     "data": {
      "application/vnd.jupyter.widget-view+json": {
       "model_id": "6b5aa611c2204c2e972d2a6a4a2cae2f",
       "version_major": 2,
       "version_minor": 0
      },
      "text/plain": [
       "Joint fine-tune:   0%|          | 0/8 [00:00<?, ?it/s]"
      ]
     },
     "metadata": {},
     "output_type": "display_data"
    },
    {
     "name": "stderr",
     "output_type": "stream",
     "text": [
      "[I 2025-09-24 02:53:58,908] Trial 3 finished with value: 0.6285221926869308 and parameters: {'latent_dim': 16, 'hidden_dims': 'medium', 'head_hidden_dims': 'compact', 'dropout': 0.43088813396878595, 'learning_rate': 0.011287293306326805, 'batch_size': 256, 'beta': 1.922460450801753, 'warmup_epochs': 9, 'head_epochs': 28, 'finetune_epochs': 8, 'joint_decoder_lr_scale': 0.0165002225990736}. Best is trial 2 with value: 0.724075411624239.\n"
     ]
    },
    {
     "data": {
      "application/vnd.jupyter.widget-view+json": {
       "model_id": "d6aacf7c202f46e9b426057837310069",
       "version_major": 2,
       "version_minor": 0
      },
      "text/plain": [
       "Warm-start:   0%|          | 0/45 [00:00<?, ?it/s]"
      ]
     },
     "metadata": {},
     "output_type": "display_data"
    },
    {
     "data": {
      "application/vnd.jupyter.widget-view+json": {
       "model_id": "c915de77dff34f868687e57148728f36",
       "version_major": 2,
       "version_minor": 0
      },
      "text/plain": [
       "Head:   0%|          | 0/33 [00:00<?, ?it/s]"
      ]
     },
     "metadata": {},
     "output_type": "display_data"
    },
    {
     "data": {
      "application/vnd.jupyter.widget-view+json": {
       "model_id": "8465f5d1a3bf4729a2de38a215685db2",
       "version_major": 2,
       "version_minor": 0
      },
      "text/plain": [
       "Joint fine-tune:   0%|          | 0/17 [00:00<?, ?it/s]"
      ]
     },
     "metadata": {},
     "output_type": "display_data"
    },
    {
     "name": "stderr",
     "output_type": "stream",
     "text": [
      "[I 2025-09-24 03:24:34,103] Trial 4 finished with value: 0.682146762555365 and parameters: {'latent_dim': 16, 'hidden_dims': 'small', 'head_hidden_dims': 'compact', 'dropout': 0.4415974698102261, 'learning_rate': 9.581818648602123e-05, 'batch_size': 128, 'beta': 0.5329942644046395, 'warmup_epochs': 45, 'head_epochs': 33, 'finetune_epochs': 17, 'joint_decoder_lr_scale': 0.11588065296607444}. Best is trial 2 with value: 0.724075411624239.\n"
     ]
    },
    {
     "data": {
      "application/vnd.jupyter.widget-view+json": {
       "model_id": "bb5605ade0df4b5b974951fcebbbfdbe",
       "version_major": 2,
       "version_minor": 0
      },
      "text/plain": [
       "Warm-start:   0%|          | 0/40 [00:00<?, ?it/s]"
      ]
     },
     "metadata": {},
     "output_type": "display_data"
    },
    {
     "data": {
      "application/vnd.jupyter.widget-view+json": {
       "model_id": "326202b128ef42c392b7c87949e90ee4",
       "version_major": 2,
       "version_minor": 0
      },
      "text/plain": [
       "Head:   0%|          | 0/21 [00:00<?, ?it/s]"
      ]
     },
     "metadata": {},
     "output_type": "display_data"
    },
    {
     "data": {
      "application/vnd.jupyter.widget-view+json": {
       "model_id": "b39ead101a744866ba864e784c6150a8",
       "version_major": 2,
       "version_minor": 0
      },
      "text/plain": [
       "Joint fine-tune:   0%|          | 0/18 [00:00<?, ?it/s]"
      ]
     },
     "metadata": {},
     "output_type": "display_data"
    },
    {
     "name": "stderr",
     "output_type": "stream",
     "text": [
      "[I 2025-09-24 03:32:05,527] Trial 5 finished with value: 0.6772960959367409 and parameters: {'latent_dim': 16, 'hidden_dims': 'compact', 'head_hidden_dims': 'wide', 'dropout': 0.329740043744028, 'learning_rate': 0.0006443323625145744, 'batch_size': 512, 'beta': 1.3780368047630451, 'warmup_epochs': 40, 'head_epochs': 21, 'finetune_epochs': 18, 'joint_decoder_lr_scale': 0.04362176752829944}. Best is trial 2 with value: 0.724075411624239.\n"
     ]
    },
    {
     "data": {
      "application/vnd.jupyter.widget-view+json": {
       "model_id": "151e9d9b68214e68b8751cab1f398c65",
       "version_major": 2,
       "version_minor": 0
      },
      "text/plain": [
       "Warm-start:   0%|          | 0/54 [00:00<?, ?it/s]"
      ]
     },
     "metadata": {},
     "output_type": "display_data"
    },
    {
     "data": {
      "application/vnd.jupyter.widget-view+json": {
       "model_id": "452b95e9c41844588fa57f4d4f20aa27",
       "version_major": 2,
       "version_minor": 0
      },
      "text/plain": [
       "Head:   0%|          | 0/26 [00:00<?, ?it/s]"
      ]
     },
     "metadata": {},
     "output_type": "display_data"
    },
    {
     "data": {
      "application/vnd.jupyter.widget-view+json": {
       "model_id": "1af3b8ae187f4256a37b28934add6e83",
       "version_major": 2,
       "version_minor": 0
      },
      "text/plain": [
       "Joint fine-tune:   0%|          | 0/13 [00:00<?, ?it/s]"
      ]
     },
     "metadata": {},
     "output_type": "display_data"
    },
    {
     "name": "stderr",
     "output_type": "stream",
     "text": [
      "[I 2025-09-24 04:36:52,397] Trial 6 finished with value: 0.5 and parameters: {'latent_dim': 16, 'hidden_dims': 'compact', 'head_hidden_dims': 'wide', 'dropout': 0.1552945895756273, 'learning_rate': 0.009897258591287398, 'batch_size': 64, 'beta': 2.720571892331656, 'warmup_epochs': 54, 'head_epochs': 26, 'finetune_epochs': 13, 'joint_decoder_lr_scale': 0.10453849447871372}. Best is trial 2 with value: 0.724075411624239.\n"
     ]
    },
    {
     "data": {
      "application/vnd.jupyter.widget-view+json": {
       "model_id": "09833c490dd549e6ae6d3402a48bd863",
       "version_major": 2,
       "version_minor": 0
      },
      "text/plain": [
       "Warm-start:   0%|          | 0/32 [00:00<?, ?it/s]"
      ]
     },
     "metadata": {},
     "output_type": "display_data"
    },
    {
     "data": {
      "application/vnd.jupyter.widget-view+json": {
       "model_id": "6957570c94d84459b7d04f18f79d0141",
       "version_major": 2,
       "version_minor": 0
      },
      "text/plain": [
       "Head:   0%|          | 0/43 [00:00<?, ?it/s]"
      ]
     },
     "metadata": {},
     "output_type": "display_data"
    },
    {
     "data": {
      "application/vnd.jupyter.widget-view+json": {
       "model_id": "e81f7d0a467c4a6ea092df250bc40076",
       "version_major": 2,
       "version_minor": 0
      },
      "text/plain": [
       "Joint fine-tune:   0%|          | 0/11 [00:00<?, ?it/s]"
      ]
     },
     "metadata": {},
     "output_type": "display_data"
    },
    {
     "name": "stderr",
     "output_type": "stream",
     "text": [
      "[I 2025-09-24 04:42:24,179] Trial 7 finished with value: 0.6798311629534637 and parameters: {'latent_dim': 6, 'hidden_dims': 'extra_wide', 'head_hidden_dims': 'compact', 'dropout': 0.19682944930609125, 'learning_rate': 0.0025322755626822247, 'batch_size': 512, 'beta': 2.675555053057714, 'warmup_epochs': 32, 'head_epochs': 43, 'finetune_epochs': 11, 'joint_decoder_lr_scale': 0.04308077452925906}. Best is trial 2 with value: 0.724075411624239.\n"
     ]
    },
    {
     "data": {
      "application/vnd.jupyter.widget-view+json": {
       "model_id": "e519530fd4f848faa2bb9fe19e4fb0c3",
       "version_major": 2,
       "version_minor": 0
      },
      "text/plain": [
       "Warm-start:   0%|          | 0/54 [00:00<?, ?it/s]"
      ]
     },
     "metadata": {},
     "output_type": "display_data"
    },
    {
     "data": {
      "application/vnd.jupyter.widget-view+json": {
       "model_id": "6103818a3e9a49ce80feaee6fc4943fa",
       "version_major": 2,
       "version_minor": 0
      },
      "text/plain": [
       "Head:   0%|          | 0/42 [00:00<?, ?it/s]"
      ]
     },
     "metadata": {},
     "output_type": "display_data"
    },
    {
     "data": {
      "application/vnd.jupyter.widget-view+json": {
       "model_id": "af09fe8c844b4162915f694d7ee35e78",
       "version_major": 2,
       "version_minor": 0
      },
      "text/plain": [
       "Joint fine-tune:   0%|          | 0/19 [00:00<?, ?it/s]"
      ]
     },
     "metadata": {},
     "output_type": "display_data"
    },
    {
     "name": "stderr",
     "output_type": "stream",
     "text": [
      "[I 2025-09-24 04:58:24,557] Trial 8 finished with value: 0.6811935533357683 and parameters: {'latent_dim': 8, 'hidden_dims': 'compact', 'head_hidden_dims': 'wide', 'dropout': 0.36285542928602005, 'learning_rate': 0.0014804944913859321, 'batch_size': 256, 'beta': 1.700913543576772, 'warmup_epochs': 54, 'head_epochs': 42, 'finetune_epochs': 19, 'joint_decoder_lr_scale': 0.29841318836065633}. Best is trial 2 with value: 0.724075411624239.\n"
     ]
    },
    {
     "data": {
      "application/vnd.jupyter.widget-view+json": {
       "model_id": "eb3b1bc819d44f9b82c1158bca9654e1",
       "version_major": 2,
       "version_minor": 0
      },
      "text/plain": [
       "Warm-start:   0%|          | 0/23 [00:00<?, ?it/s]"
      ]
     },
     "metadata": {},
     "output_type": "display_data"
    },
    {
     "data": {
      "application/vnd.jupyter.widget-view+json": {
       "model_id": "b137a792c08840789edf601831444a50",
       "version_major": 2,
       "version_minor": 0
      },
      "text/plain": [
       "Head:   0%|          | 0/16 [00:00<?, ?it/s]"
      ]
     },
     "metadata": {},
     "output_type": "display_data"
    },
    {
     "data": {
      "application/vnd.jupyter.widget-view+json": {
       "model_id": "05f29eb85ac14bb28176c63eac37061d",
       "version_major": 2,
       "version_minor": 0
      },
      "text/plain": [
       "Joint fine-tune:   0%|          | 0/9 [00:00<?, ?it/s]"
      ]
     },
     "metadata": {},
     "output_type": "display_data"
    },
    {
     "name": "stderr",
     "output_type": "stream",
     "text": [
      "[I 2025-09-24 05:29:37,663] Trial 9 finished with value: 0.5 and parameters: {'latent_dim': 16, 'hidden_dims': 'compact', 'head_hidden_dims': 'wide', 'dropout': 0.2651142480589117, 'learning_rate': 0.006629024366079457, 'batch_size': 64, 'beta': 3.6355819943352605, 'warmup_epochs': 23, 'head_epochs': 16, 'finetune_epochs': 9, 'joint_decoder_lr_scale': 0.14228021234784563}. Best is trial 2 with value: 0.724075411624239.\n"
     ]
    },
    {
     "data": {
      "application/vnd.jupyter.widget-view+json": {
       "model_id": "101858dad49547b3bc63eb5d3a9e8c60",
       "version_major": 2,
       "version_minor": 0
      },
      "text/plain": [
       "Warm-start:   0%|          | 0/33 [00:00<?, ?it/s]"
      ]
     },
     "metadata": {},
     "output_type": "display_data"
    },
    {
     "data": {
      "application/vnd.jupyter.widget-view+json": {
       "model_id": "91f86b0a26b44ef4bd1b0b5b05b0375a",
       "version_major": 2,
       "version_minor": 0
      },
      "text/plain": [
       "Head:   0%|          | 0/20 [00:00<?, ?it/s]"
      ]
     },
     "metadata": {},
     "output_type": "display_data"
    },
    {
     "data": {
      "application/vnd.jupyter.widget-view+json": {
       "model_id": "b1f3daa49abb406ea1f2ce5226756fa5",
       "version_major": 2,
       "version_minor": 0
      },
      "text/plain": [
       "Joint fine-tune:   0%|          | 0/7 [00:00<?, ?it/s]"
      ]
     },
     "metadata": {},
     "output_type": "display_data"
    },
    {
     "name": "stderr",
     "output_type": "stream",
     "text": [
      "[I 2025-09-24 06:08:45,918] Trial 10 finished with value: 0.6959224373767201 and parameters: {'latent_dim': 16, 'hidden_dims': 'extra_wide', 'head_hidden_dims': 'small', 'dropout': 0.012057583080307133, 'learning_rate': 6.77511157669102e-05, 'batch_size': 64, 'beta': 3.250600812623924, 'warmup_epochs': 33, 'head_epochs': 20, 'finetune_epochs': 7, 'joint_decoder_lr_scale': 0.2399693641301476}. Best is trial 2 with value: 0.724075411624239.\n"
     ]
    },
    {
     "data": {
      "application/vnd.jupyter.widget-view+json": {
       "model_id": "ddf35985a56a437f8ef9fea0298a3ada",
       "version_major": 2,
       "version_minor": 0
      },
      "text/plain": [
       "Warm-start:   0%|          | 0/58 [00:00<?, ?it/s]"
      ]
     },
     "metadata": {},
     "output_type": "display_data"
    },
    {
     "data": {
      "application/vnd.jupyter.widget-view+json": {
       "model_id": "8e2a25e4561442e1af811a77d26b7f9e",
       "version_major": 2,
       "version_minor": 0
      },
      "text/plain": [
       "Head:   0%|          | 0/1 [00:00<?, ?it/s]"
      ]
     },
     "metadata": {},
     "output_type": "display_data"
    },
    {
     "data": {
      "application/vnd.jupyter.widget-view+json": {
       "model_id": "a6533c1be5a745e4a5654a73719c40ed",
       "version_major": 2,
       "version_minor": 0
      },
      "text/plain": [
       "Joint fine-tune:   0%|          | 0/3 [00:00<?, ?it/s]"
      ]
     },
     "metadata": {},
     "output_type": "display_data"
    },
    {
     "name": "stderr",
     "output_type": "stream",
     "text": [
      "[I 2025-09-24 06:38:17,658] Trial 11 finished with value: 0.714079271411858 and parameters: {'latent_dim': 6, 'hidden_dims': 'wide', 'head_hidden_dims': 'extra_wide', 'dropout': 0.04541240070796785, 'learning_rate': 0.00032504625080283516, 'batch_size': 128, 'beta': 0.5864135705841171, 'warmup_epochs': 58, 'head_epochs': 1, 'finetune_epochs': 3, 'joint_decoder_lr_scale': 0.2066313961164805}. Best is trial 2 with value: 0.724075411624239.\n"
     ]
    },
    {
     "data": {
      "application/vnd.jupyter.widget-view+json": {
       "model_id": "3236bb0f1f804cdd9bc0e1e802e0396b",
       "version_major": 2,
       "version_minor": 0
      },
      "text/plain": [
       "Warm-start:   0%|          | 0/57 [00:00<?, ?it/s]"
      ]
     },
     "metadata": {},
     "output_type": "display_data"
    },
    {
     "data": {
      "application/vnd.jupyter.widget-view+json": {
       "model_id": "1768dd61fc99497d8de6228da77337ad",
       "version_major": 2,
       "version_minor": 0
      },
      "text/plain": [
       "Head:   0%|          | 0/1 [00:00<?, ?it/s]"
      ]
     },
     "metadata": {},
     "output_type": "display_data"
    },
    {
     "data": {
      "application/vnd.jupyter.widget-view+json": {
       "model_id": "18749b1a9eb94759b34269d9309ffe75",
       "version_major": 2,
       "version_minor": 0
      },
      "text/plain": [
       "Joint fine-tune:   0%|          | 0/3 [00:00<?, ?it/s]"
      ]
     },
     "metadata": {},
     "output_type": "display_data"
    },
    {
     "name": "stderr",
     "output_type": "stream",
     "text": [
      "[I 2025-09-24 07:07:14,195] Trial 12 finished with value: 0.7083037843934648 and parameters: {'latent_dim': 6, 'hidden_dims': 'wide', 'head_hidden_dims': 'extra_wide', 'dropout': 0.004619497971362664, 'learning_rate': 0.0003271537403743723, 'batch_size': 128, 'beta': 0.6160910354953402, 'warmup_epochs': 57, 'head_epochs': 1, 'finetune_epochs': 3, 'joint_decoder_lr_scale': 0.21190157872487328}. Best is trial 2 with value: 0.724075411624239.\n"
     ]
    },
    {
     "data": {
      "application/vnd.jupyter.widget-view+json": {
       "model_id": "7a9e8a32ca384156a48113926e69c80d",
       "version_major": 2,
       "version_minor": 0
      },
      "text/plain": [
       "Warm-start:   0%|          | 0/46 [00:00<?, ?it/s]"
      ]
     },
     "metadata": {},
     "output_type": "display_data"
    },
    {
     "data": {
      "application/vnd.jupyter.widget-view+json": {
       "model_id": "5b52be59eef84bc69c97f6111302d849",
       "version_major": 2,
       "version_minor": 0
      },
      "text/plain": [
       "Head:   0%|          | 0/9 [00:00<?, ?it/s]"
      ]
     },
     "metadata": {},
     "output_type": "display_data"
    },
    {
     "data": {
      "application/vnd.jupyter.widget-view+json": {
       "model_id": "34b31fe6e4b34f8eaed09210856e4350",
       "version_major": 2,
       "version_minor": 0
      },
      "text/plain": [
       "Joint fine-tune:   0%|          | 0/3 [00:00<?, ?it/s]"
      ]
     },
     "metadata": {},
     "output_type": "display_data"
    },
    {
     "name": "stderr",
     "output_type": "stream",
     "text": [
      "[I 2025-09-24 07:30:53,335] Trial 13 finished with value: 0.7252388072983289 and parameters: {'latent_dim': 6, 'hidden_dims': 'wide', 'head_hidden_dims': 'extra_wide', 'dropout': 0.09656495693162168, 'learning_rate': 0.0002461385033167143, 'batch_size': 128, 'beta': 1.059570807799219, 'warmup_epochs': 46, 'head_epochs': 9, 'finetune_epochs': 3, 'joint_decoder_lr_scale': 0.19744669494447298}. Best is trial 13 with value: 0.7252388072983289.\n"
     ]
    },
    {
     "data": {
      "application/vnd.jupyter.widget-view+json": {
       "model_id": "eb00a52d4bf04ee8a11539e6dea1ff61",
       "version_major": 2,
       "version_minor": 0
      },
      "text/plain": [
       "Warm-start:   0%|          | 0/44 [00:00<?, ?it/s]"
      ]
     },
     "metadata": {},
     "output_type": "display_data"
    },
    {
     "data": {
      "application/vnd.jupyter.widget-view+json": {
       "model_id": "fc6629ff887c44a6b09936db22ebd8eb",
       "version_major": 2,
       "version_minor": 0
      },
      "text/plain": [
       "Head:   0%|          | 0/12 [00:00<?, ?it/s]"
      ]
     },
     "metadata": {},
     "output_type": "display_data"
    },
    {
     "data": {
      "application/vnd.jupyter.widget-view+json": {
       "model_id": "0f08d5ea17c547ac9750d4e6ba7b1070",
       "version_major": 2,
       "version_minor": 0
      },
      "text/plain": [
       "Joint fine-tune:   0%|          | 0/6 [00:00<?, ?it/s]"
      ]
     },
     "metadata": {},
     "output_type": "display_data"
    },
    {
     "name": "stderr",
     "output_type": "stream",
     "text": [
      "[I 2025-09-24 07:55:16,014] Trial 14 finished with value: 0.7239864235928563 and parameters: {'latent_dim': 6, 'hidden_dims': 'wide', 'head_hidden_dims': 'extra_wide', 'dropout': 0.11589598142258047, 'learning_rate': 0.0001967664110470289, 'batch_size': 128, 'beta': 1.143389199582915, 'warmup_epochs': 44, 'head_epochs': 12, 'finetune_epochs': 6, 'joint_decoder_lr_scale': 0.2742663305552295}. Best is trial 13 with value: 0.7252388072983289.\n"
     ]
    },
    {
     "data": {
      "application/vnd.jupyter.widget-view+json": {
       "model_id": "3c982ce3dbdb489b8dabd5a3d4044bb9",
       "version_major": 2,
       "version_minor": 0
      },
      "text/plain": [
       "Warm-start:   0%|          | 0/48 [00:00<?, ?it/s]"
      ]
     },
     "metadata": {},
     "output_type": "display_data"
    },
    {
     "data": {
      "application/vnd.jupyter.widget-view+json": {
       "model_id": "5a4e8db39c624d569b7aabcfa664532b",
       "version_major": 2,
       "version_minor": 0
      },
      "text/plain": [
       "Head:   0%|          | 0/13 [00:00<?, ?it/s]"
      ]
     },
     "metadata": {},
     "output_type": "display_data"
    },
    {
     "data": {
      "application/vnd.jupyter.widget-view+json": {
       "model_id": "a9b0dcd04972435283487346c4e301f9",
       "version_major": 2,
       "version_minor": 0
      },
      "text/plain": [
       "Joint fine-tune:   0%|          | 0/14 [00:00<?, ?it/s]"
      ]
     },
     "metadata": {},
     "output_type": "display_data"
    },
    {
     "name": "stderr",
     "output_type": "stream",
     "text": [
      "[I 2025-09-24 08:25:22,007] Trial 15 finished with value: 0.7301544406392507 and parameters: {'latent_dim': 6, 'hidden_dims': 'wide', 'head_hidden_dims': 'medium', 'dropout': 0.0954979155968877, 'learning_rate': 0.0008524894608393465, 'batch_size': 128, 'beta': 1.0371744560712772, 'warmup_epochs': 48, 'head_epochs': 13, 'finetune_epochs': 14, 'joint_decoder_lr_scale': 0.17916690818661563}. Best is trial 15 with value: 0.7301544406392507.\n"
     ]
    },
    {
     "data": {
      "application/vnd.jupyter.widget-view+json": {
       "model_id": "b7219f9544d14132a738d4e42a2508dd",
       "version_major": 2,
       "version_minor": 0
      },
      "text/plain": [
       "Warm-start:   0%|          | 0/25 [00:00<?, ?it/s]"
      ]
     },
     "metadata": {},
     "output_type": "display_data"
    },
    {
     "data": {
      "application/vnd.jupyter.widget-view+json": {
       "model_id": "adabea403ef04ac19c08041d22142028",
       "version_major": 2,
       "version_minor": 0
      },
      "text/plain": [
       "Head:   0%|          | 0/10 [00:00<?, ?it/s]"
      ]
     },
     "metadata": {},
     "output_type": "display_data"
    },
    {
     "data": {
      "application/vnd.jupyter.widget-view+json": {
       "model_id": "ae2801ed56564eb59011db8ca3e223c6",
       "version_major": 2,
       "version_minor": 0
      },
      "text/plain": [
       "Joint fine-tune:   0%|          | 0/14 [00:00<?, ?it/s]"
      ]
     },
     "metadata": {},
     "output_type": "display_data"
    },
    {
     "name": "stderr",
     "output_type": "stream",
     "text": [
      "[I 2025-09-24 08:28:04,042] Trial 16 finished with value: 0.726987995350785 and parameters: {'latent_dim': 32, 'hidden_dims': 'wide', 'head_hidden_dims': 'medium', 'dropout': 0.10389101126930497, 'learning_rate': 0.002659753720335447, 'batch_size': 1024, 'beta': 1.2394655380924426, 'warmup_epochs': 25, 'head_epochs': 10, 'finetune_epochs': 14, 'joint_decoder_lr_scale': 0.17919806077223313}. Best is trial 15 with value: 0.7301544406392507.\n"
     ]
    },
    {
     "data": {
      "application/vnd.jupyter.widget-view+json": {
       "model_id": "0b36bdde35a44b16a60f9c608f5db15a",
       "version_major": 2,
       "version_minor": 0
      },
      "text/plain": [
       "Warm-start:   0%|          | 0/21 [00:00<?, ?it/s]"
      ]
     },
     "metadata": {},
     "output_type": "display_data"
    },
    {
     "data": {
      "application/vnd.jupyter.widget-view+json": {
       "model_id": "3218c01ce7a04ec9af7550229925f4f9",
       "version_major": 2,
       "version_minor": 0
      },
      "text/plain": [
       "Head:   0%|          | 0/8 [00:00<?, ?it/s]"
      ]
     },
     "metadata": {},
     "output_type": "display_data"
    },
    {
     "data": {
      "application/vnd.jupyter.widget-view+json": {
       "model_id": "d4d046953fe949528c9ba8569a19ae6c",
       "version_major": 2,
       "version_minor": 0
      },
      "text/plain": [
       "Joint fine-tune:   0%|          | 0/14 [00:00<?, ?it/s]"
      ]
     },
     "metadata": {},
     "output_type": "display_data"
    },
    {
     "name": "stderr",
     "output_type": "stream",
     "text": [
      "[I 2025-09-24 08:30:30,039] Trial 17 finished with value: 0.6710082453143433 and parameters: {'latent_dim': 32, 'hidden_dims': 'small', 'head_hidden_dims': 'medium', 'dropout': 0.21974669449002593, 'learning_rate': 0.004131006608366119, 'batch_size': 1024, 'beta': 2.447200127318705, 'warmup_epochs': 21, 'head_epochs': 8, 'finetune_epochs': 14, 'joint_decoder_lr_scale': 0.16831410740911373}. Best is trial 15 with value: 0.7301544406392507.\n"
     ]
    },
    {
     "data": {
      "application/vnd.jupyter.widget-view+json": {
       "model_id": "dd9c26b6387d4654b107fd6d3470cd21",
       "version_major": 2,
       "version_minor": 0
      },
      "text/plain": [
       "Warm-start:   0%|          | 0/22 [00:00<?, ?it/s]"
      ]
     },
     "metadata": {},
     "output_type": "display_data"
    },
    {
     "data": {
      "application/vnd.jupyter.widget-view+json": {
       "model_id": "1c6f1e58d952461bbef54fca1e63ca9c",
       "version_major": 2,
       "version_minor": 0
      },
      "text/plain": [
       "Head:   0%|          | 0/13 [00:00<?, ?it/s]"
      ]
     },
     "metadata": {},
     "output_type": "display_data"
    },
    {
     "data": {
      "application/vnd.jupyter.widget-view+json": {
       "model_id": "f8a57a96562d4cc0848fab340d8dd482",
       "version_major": 2,
       "version_minor": 0
      },
      "text/plain": [
       "Joint fine-tune:   0%|          | 0/15 [00:00<?, ?it/s]"
      ]
     },
     "metadata": {},
     "output_type": "display_data"
    },
    {
     "name": "stderr",
     "output_type": "stream",
     "text": [
      "[I 2025-09-24 08:33:13,561] Trial 18 finished with value: 0.7051307878388846 and parameters: {'latent_dim': 32, 'hidden_dims': 'medium', 'head_hidden_dims': 'medium', 'dropout': 0.09684235691144141, 'learning_rate': 0.0011831583940124114, 'batch_size': 1024, 'beta': 2.0371762065911296, 'warmup_epochs': 22, 'head_epochs': 13, 'finetune_epochs': 15, 'joint_decoder_lr_scale': 0.16736597403169026}. Best is trial 15 with value: 0.7301544406392507.\n"
     ]
    },
    {
     "data": {
      "application/vnd.jupyter.widget-view+json": {
       "model_id": "a22c1c8cd4ab402bad70342a39e90342",
       "version_major": 2,
       "version_minor": 0
      },
      "text/plain": [
       "Warm-start:   0%|          | 0/36 [00:00<?, ?it/s]"
      ]
     },
     "metadata": {},
     "output_type": "display_data"
    },
    {
     "data": {
      "application/vnd.jupyter.widget-view+json": {
       "model_id": "9049a77b942a47979c5f0aeb40ed027d",
       "version_major": 2,
       "version_minor": 0
      },
      "text/plain": [
       "Head:   0%|          | 0/6 [00:00<?, ?it/s]"
      ]
     },
     "metadata": {},
     "output_type": "display_data"
    },
    {
     "data": {
      "application/vnd.jupyter.widget-view+json": {
       "model_id": "1752e01345394f8b97d567dcce83e5cf",
       "version_major": 2,
       "version_minor": 0
      },
      "text/plain": [
       "Joint fine-tune:   0%|          | 0/16 [00:00<?, ?it/s]"
      ]
     },
     "metadata": {},
     "output_type": "display_data"
    },
    {
     "name": "stderr",
     "output_type": "stream",
     "text": [
      "[I 2025-09-24 08:36:42,576] Trial 19 finished with value: 0.7336102335144212 and parameters: {'latent_dim': 8, 'hidden_dims': 'wide', 'head_hidden_dims': 'medium', 'dropout': 0.1560198201202436, 'learning_rate': 0.0022328289583729683, 'batch_size': 1024, 'beta': 1.1022671447954617, 'warmup_epochs': 36, 'head_epochs': 6, 'finetune_epochs': 16, 'joint_decoder_lr_scale': 0.14224771600183844}. Best is trial 19 with value: 0.7336102335144212.\n"
     ]
    },
    {
     "data": {
      "application/vnd.jupyter.widget-view+json": {
       "model_id": "e6a79f3e491448bc9fcde286064aebf2",
       "version_major": 2,
       "version_minor": 0
      },
      "text/plain": [
       "Warm-start:   0%|          | 0/38 [00:00<?, ?it/s]"
      ]
     },
     "metadata": {},
     "output_type": "display_data"
    },
    {
     "data": {
      "application/vnd.jupyter.widget-view+json": {
       "model_id": "a409d97fca2e451dbbaa0344cd5e9137",
       "version_major": 2,
       "version_minor": 0
      },
      "text/plain": [
       "Head:   0%|          | 0/6 [00:00<?, ?it/s]"
      ]
     },
     "metadata": {},
     "output_type": "display_data"
    },
    {
     "data": {
      "application/vnd.jupyter.widget-view+json": {
       "model_id": "99454134ebfa49118fccc3b46e4561d5",
       "version_major": 2,
       "version_minor": 0
      },
      "text/plain": [
       "Joint fine-tune:   0%|          | 0/16 [00:00<?, ?it/s]"
      ]
     },
     "metadata": {},
     "output_type": "display_data"
    },
    {
     "name": "stderr",
     "output_type": "stream",
     "text": [
      "[I 2025-09-24 08:40:33,938] Trial 20 finished with value: 0.7324037086717471 and parameters: {'latent_dim': 8, 'hidden_dims': 'wide', 'head_hidden_dims': 'medium', 'dropout': 0.16967689613052728, 'learning_rate': 0.0008567938139364027, 'batch_size': 1024, 'beta': 0.9591582161179186, 'warmup_epochs': 38, 'head_epochs': 6, 'finetune_epochs': 16, 'joint_decoder_lr_scale': 0.13665535828585665}. Best is trial 19 with value: 0.7336102335144212.\n"
     ]
    },
    {
     "data": {
      "application/vnd.jupyter.widget-view+json": {
       "model_id": "6d69adda0a1f45fcae9c38f7f670af41",
       "version_major": 2,
       "version_minor": 0
      },
      "text/plain": [
       "Warm-start:   0%|          | 0/34 [00:00<?, ?it/s]"
      ]
     },
     "metadata": {},
     "output_type": "display_data"
    },
    {
     "data": {
      "application/vnd.jupyter.widget-view+json": {
       "model_id": "c6c50d88a5d14ea8842e3f394580270f",
       "version_major": 2,
       "version_minor": 0
      },
      "text/plain": [
       "Head:   0%|          | 0/5 [00:00<?, ?it/s]"
      ]
     },
     "metadata": {},
     "output_type": "display_data"
    },
    {
     "data": {
      "application/vnd.jupyter.widget-view+json": {
       "model_id": "38d7e9633e5d4e4d887b30811d098c08",
       "version_major": 2,
       "version_minor": 0
      },
      "text/plain": [
       "Joint fine-tune:   0%|          | 0/20 [00:00<?, ?it/s]"
      ]
     },
     "metadata": {},
     "output_type": "display_data"
    },
    {
     "name": "stderr",
     "output_type": "stream",
     "text": [
      "[I 2025-09-24 08:44:28,510] Trial 21 finished with value: 0.6666126187212257 and parameters: {'latent_dim': 8, 'hidden_dims': 'wide', 'head_hidden_dims': 'medium', 'dropout': 0.17331519116930513, 'learning_rate': 0.019420375354172063, 'batch_size': 1024, 'beta': 1.527549276289124, 'warmup_epochs': 34, 'head_epochs': 5, 'finetune_epochs': 20, 'joint_decoder_lr_scale': 0.13480355888307755}. Best is trial 19 with value: 0.7336102335144212.\n"
     ]
    },
    {
     "data": {
      "application/vnd.jupyter.widget-view+json": {
       "model_id": "c18040bce9774664987f116acfc1b233",
       "version_major": 2,
       "version_minor": 0
      },
      "text/plain": [
       "Warm-start:   0%|          | 0/39 [00:00<?, ?it/s]"
      ]
     },
     "metadata": {},
     "output_type": "display_data"
    },
    {
     "data": {
      "application/vnd.jupyter.widget-view+json": {
       "model_id": "8a43c346fe2941758c8f194aa41852c0",
       "version_major": 2,
       "version_minor": 0
      },
      "text/plain": [
       "Head:   0%|          | 0/17 [00:00<?, ?it/s]"
      ]
     },
     "metadata": {},
     "output_type": "display_data"
    },
    {
     "data": {
      "application/vnd.jupyter.widget-view+json": {
       "model_id": "49dae4a1bcce4b9499dd8296c30b856d",
       "version_major": 2,
       "version_minor": 0
      },
      "text/plain": [
       "Joint fine-tune:   0%|          | 0/16 [00:00<?, ?it/s]"
      ]
     },
     "metadata": {},
     "output_type": "display_data"
    },
    {
     "name": "stderr",
     "output_type": "stream",
     "text": [
      "[I 2025-09-24 08:48:23,860] Trial 22 finished with value: 0.7407401948018979 and parameters: {'latent_dim': 8, 'hidden_dims': 'wide', 'head_hidden_dims': 'medium', 'dropout': 0.14636174410174224, 'learning_rate': 0.0009472427482315296, 'batch_size': 1024, 'beta': 0.9330437770289404, 'warmup_epochs': 39, 'head_epochs': 17, 'finetune_epochs': 16, 'joint_decoder_lr_scale': 0.09004366636547526}. Best is trial 22 with value: 0.7407401948018979.\n"
     ]
    },
    {
     "data": {
      "application/vnd.jupyter.widget-view+json": {
       "model_id": "82230c66b66e440f977e0517cbafc7df",
       "version_major": 2,
       "version_minor": 0
      },
      "text/plain": [
       "Warm-start:   0%|          | 0/38 [00:00<?, ?it/s]"
      ]
     },
     "metadata": {},
     "output_type": "display_data"
    },
    {
     "data": {
      "application/vnd.jupyter.widget-view+json": {
       "model_id": "1361ae5cf35f478b8b0b0dce0ee2e92c",
       "version_major": 2,
       "version_minor": 0
      },
      "text/plain": [
       "Head:   0%|          | 0/18 [00:00<?, ?it/s]"
      ]
     },
     "metadata": {},
     "output_type": "display_data"
    },
    {
     "data": {
      "application/vnd.jupyter.widget-view+json": {
       "model_id": "d2a93f2faa2e48d7887703ee0e09013e",
       "version_major": 2,
       "version_minor": 0
      },
      "text/plain": [
       "Joint fine-tune:   0%|          | 0/16 [00:00<?, ?it/s]"
      ]
     },
     "metadata": {},
     "output_type": "display_data"
    },
    {
     "name": "stderr",
     "output_type": "stream",
     "text": [
      "[I 2025-09-24 08:52:12,941] Trial 23 finished with value: 0.7322977965362364 and parameters: {'latent_dim': 8, 'hidden_dims': 'wide', 'head_hidden_dims': 'medium', 'dropout': 0.22803108205822148, 'learning_rate': 0.0016280705528686306, 'batch_size': 1024, 'beta': 0.9460546805110119, 'warmup_epochs': 38, 'head_epochs': 18, 'finetune_epochs': 16, 'joint_decoder_lr_scale': 0.08465252484404329}. Best is trial 22 with value: 0.7407401948018979.\n"
     ]
    },
    {
     "data": {
      "application/vnd.jupyter.widget-view+json": {
       "model_id": "f07030d2dced4c07aed41610d0841f81",
       "version_major": 2,
       "version_minor": 0
      },
      "text/plain": [
       "Warm-start:   0%|          | 0/28 [00:00<?, ?it/s]"
      ]
     },
     "metadata": {},
     "output_type": "display_data"
    },
    {
     "data": {
      "application/vnd.jupyter.widget-view+json": {
       "model_id": "b679c439f4284de597de9e8c3787d9e1",
       "version_major": 2,
       "version_minor": 0
      },
      "text/plain": [
       "Head:   0%|          | 0/50 [00:00<?, ?it/s]"
      ]
     },
     "metadata": {},
     "output_type": "display_data"
    },
    {
     "data": {
      "application/vnd.jupyter.widget-view+json": {
       "model_id": "40a1516905d84c8db30c6490fe00c331",
       "version_major": 2,
       "version_minor": 0
      },
      "text/plain": [
       "Joint fine-tune:   0%|          | 0/17 [00:00<?, ?it/s]"
      ]
     },
     "metadata": {},
     "output_type": "display_data"
    },
    {
     "name": "stderr",
     "output_type": "stream",
     "text": [
      "[I 2025-09-24 08:55:32,584] Trial 24 finished with value: 0.7437417665598264 and parameters: {'latent_dim': 8, 'hidden_dims': 'wide', 'head_hidden_dims': 'medium', 'dropout': 0.13919381088103272, 'learning_rate': 0.002164828038646711, 'batch_size': 1024, 'beta': 0.9478445646196675, 'warmup_epochs': 28, 'head_epochs': 50, 'finetune_epochs': 17, 'joint_decoder_lr_scale': 0.08469327570452295}. Best is trial 24 with value: 0.7437417665598264.\n"
     ]
    },
    {
     "data": {
      "application/vnd.jupyter.widget-view+json": {
       "model_id": "0691bcc563654c45935266aab471f641",
       "version_major": 2,
       "version_minor": 0
      },
      "text/plain": [
       "Warm-start:   0%|          | 0/16 [00:00<?, ?it/s]"
      ]
     },
     "metadata": {},
     "output_type": "display_data"
    },
    {
     "data": {
      "application/vnd.jupyter.widget-view+json": {
       "model_id": "aca779aae2854aa9a7c526e7a518dc19",
       "version_major": 2,
       "version_minor": 0
      },
      "text/plain": [
       "Head:   0%|          | 0/50 [00:00<?, ?it/s]"
      ]
     },
     "metadata": {},
     "output_type": "display_data"
    },
    {
     "data": {
      "application/vnd.jupyter.widget-view+json": {
       "model_id": "69c97384ae7b4786b42581c950e3867e",
       "version_major": 2,
       "version_minor": 0
      },
      "text/plain": [
       "Joint fine-tune:   0%|          | 0/18 [00:00<?, ?it/s]"
      ]
     },
     "metadata": {},
     "output_type": "display_data"
    },
    {
     "name": "stderr",
     "output_type": "stream",
     "text": [
      "[I 2025-09-24 08:58:25,304] Trial 25 finished with value: 0.7109881656837038 and parameters: {'latent_dim': 8, 'hidden_dims': 'medium', 'head_hidden_dims': 'small', 'dropout': 0.1542890392953729, 'learning_rate': 0.0025183345021878006, 'batch_size': 1024, 'beta': 1.4693560297303803, 'warmup_epochs': 16, 'head_epochs': 50, 'finetune_epochs': 18, 'joint_decoder_lr_scale': 0.06911393799332766}. Best is trial 24 with value: 0.7437417665598264.\n"
     ]
    },
    {
     "data": {
      "application/vnd.jupyter.widget-view+json": {
       "model_id": "6f49df58e17b4e01ae795d4d8a1282c2",
       "version_major": 2,
       "version_minor": 0
      },
      "text/plain": [
       "Warm-start:   0%|          | 0/27 [00:00<?, ?it/s]"
      ]
     },
     "metadata": {},
     "output_type": "display_data"
    },
    {
     "data": {
      "application/vnd.jupyter.widget-view+json": {
       "model_id": "62a3e8309f484c4e80b804a3384ba861",
       "version_major": 2,
       "version_minor": 0
      },
      "text/plain": [
       "Head:   0%|          | 0/49 [00:00<?, ?it/s]"
      ]
     },
     "metadata": {},
     "output_type": "display_data"
    },
    {
     "data": {
      "application/vnd.jupyter.widget-view+json": {
       "model_id": "00dd4cb3ef444d94896900966922b223",
       "version_major": 2,
       "version_minor": 0
      },
      "text/plain": [
       "Joint fine-tune:   0%|          | 0/12 [00:00<?, ?it/s]"
      ]
     },
     "metadata": {},
     "output_type": "display_data"
    },
    {
     "name": "stderr",
     "output_type": "stream",
     "text": [
      "[I 2025-09-24 09:01:07,926] Trial 26 finished with value: 0.7177326941481361 and parameters: {'latent_dim': 8, 'hidden_dims': 'small', 'head_hidden_dims': 'medium', 'dropout': 0.06065634419475677, 'learning_rate': 0.004608707269065305, 'batch_size': 1024, 'beta': 0.8233506516055629, 'warmup_epochs': 27, 'head_epochs': 49, 'finetune_epochs': 12, 'joint_decoder_lr_scale': 0.10360857846324784}. Best is trial 24 with value: 0.7437417665598264.\n"
     ]
    },
    {
     "data": {
      "application/vnd.jupyter.widget-view+json": {
       "model_id": "0ec3b4006fa04af08c7051ac375bbcdf",
       "version_major": 2,
       "version_minor": 0
      },
      "text/plain": [
       "Warm-start:   0%|          | 0/4 [00:00<?, ?it/s]"
      ]
     },
     "metadata": {},
     "output_type": "display_data"
    },
    {
     "data": {
      "application/vnd.jupyter.widget-view+json": {
       "model_id": "3d4259bcc0e240d8979f5ee2131523ce",
       "version_major": 2,
       "version_minor": 0
      },
      "text/plain": [
       "Head:   0%|          | 0/22 [00:00<?, ?it/s]"
      ]
     },
     "metadata": {},
     "output_type": "display_data"
    },
    {
     "data": {
      "application/vnd.jupyter.widget-view+json": {
       "model_id": "affedeb0c6c24a5cbb4dd28dc8e3a431",
       "version_major": 2,
       "version_minor": 0
      },
      "text/plain": [
       "Joint fine-tune:   0%|          | 0/17 [00:00<?, ?it/s]"
      ]
     },
     "metadata": {},
     "output_type": "display_data"
    },
    {
     "name": "stderr",
     "output_type": "stream",
     "text": [
      "[I 2025-09-24 09:02:56,546] Trial 27 finished with value: 0.7082775793290084 and parameters: {'latent_dim': 8, 'hidden_dims': 'wide', 'head_hidden_dims': 'medium', 'dropout': 0.251110926427871, 'learning_rate': 0.0019259146909485355, 'batch_size': 1024, 'beta': 2.1038982862129263, 'warmup_epochs': 4, 'head_epochs': 22, 'finetune_epochs': 17, 'joint_decoder_lr_scale': 0.05433051273987712}. Best is trial 24 with value: 0.7437417665598264.\n"
     ]
    },
    {
     "data": {
      "application/vnd.jupyter.widget-view+json": {
       "model_id": "61a2e407f85444359af262e7ba50e827",
       "version_major": 2,
       "version_minor": 0
      },
      "text/plain": [
       "Warm-start:   0%|          | 0/29 [00:00<?, ?it/s]"
      ]
     },
     "metadata": {},
     "output_type": "display_data"
    },
    {
     "data": {
      "application/vnd.jupyter.widget-view+json": {
       "model_id": "252a135435b340d2a8ba0ac03fdf9830",
       "version_major": 2,
       "version_minor": 0
      },
      "text/plain": [
       "Head:   0%|          | 0/32 [00:00<?, ?it/s]"
      ]
     },
     "metadata": {},
     "output_type": "display_data"
    },
    {
     "data": {
      "application/vnd.jupyter.widget-view+json": {
       "model_id": "8f0b03f44d244baa85ede2010e367d42",
       "version_major": 2,
       "version_minor": 0
      },
      "text/plain": [
       "Joint fine-tune:   0%|          | 0/20 [00:00<?, ?it/s]"
      ]
     },
     "metadata": {},
     "output_type": "display_data"
    },
    {
     "name": "stderr",
     "output_type": "stream",
     "text": [
      "[I 2025-09-24 09:05:43,797] Trial 28 finished with value: 0.6962112390245819 and parameters: {'latent_dim': 8, 'hidden_dims': 'extra_wide', 'head_hidden_dims': 'medium', 'dropout': 0.13241695677736753, 'learning_rate': 0.0038071442381032252, 'batch_size': 1024, 'beta': 1.7527274992561688, 'warmup_epochs': 29, 'head_epochs': 32, 'finetune_epochs': 20, 'joint_decoder_lr_scale': 0.010928779278276499}. Best is trial 24 with value: 0.7437417665598264.\n"
     ]
    },
    {
     "data": {
      "application/vnd.jupyter.widget-view+json": {
       "model_id": "a103e7bea6c44fac8c1d8fb23807638a",
       "version_major": 2,
       "version_minor": 0
      },
      "text/plain": [
       "Warm-start:   0%|          | 0/40 [00:00<?, ?it/s]"
      ]
     },
     "metadata": {},
     "output_type": "display_data"
    },
    {
     "data": {
      "application/vnd.jupyter.widget-view+json": {
       "model_id": "7936a421a84e454e98af560d16e0a5d0",
       "version_major": 2,
       "version_minor": 0
      },
      "text/plain": [
       "Head:   0%|          | 0/37 [00:00<?, ?it/s]"
      ]
     },
     "metadata": {},
     "output_type": "display_data"
    },
    {
     "data": {
      "application/vnd.jupyter.widget-view+json": {
       "model_id": "d1bc7617c9ba4860b7afdda55f47553c",
       "version_major": 2,
       "version_minor": 0
      },
      "text/plain": [
       "Joint fine-tune:   0%|          | 0/16 [00:00<?, ?it/s]"
      ]
     },
     "metadata": {},
     "output_type": "display_data"
    },
    {
     "name": "stderr",
     "output_type": "stream",
     "text": [
      "[I 2025-09-24 09:20:03,571] Trial 29 finished with value: 0.742925587989782 and parameters: {'latent_dim': 8, 'hidden_dims': 'wide', 'head_hidden_dims': 'small', 'dropout': 0.20864126479276343, 'learning_rate': 0.0006546695429040421, 'batch_size': 256, 'beta': 0.8159899539587647, 'warmup_epochs': 40, 'head_epochs': 37, 'finetune_epochs': 16, 'joint_decoder_lr_scale': 0.12183095543423686}. Best is trial 24 with value: 0.7437417665598264.\n"
     ]
    },
    {
     "data": {
      "application/vnd.jupyter.widget-view+json": {
       "model_id": "8121b927d5224bc48e9c2dd7018263ca",
       "version_major": 2,
       "version_minor": 0
      },
      "text/plain": [
       "Warm-start:   0%|          | 0/41 [00:00<?, ?it/s]"
      ]
     },
     "metadata": {},
     "output_type": "display_data"
    },
    {
     "data": {
      "application/vnd.jupyter.widget-view+json": {
       "model_id": "2664561025ca4a3f89ff15c5c4d23076",
       "version_major": 2,
       "version_minor": 0
      },
      "text/plain": [
       "Head:   0%|          | 0/39 [00:00<?, ?it/s]"
      ]
     },
     "metadata": {},
     "output_type": "display_data"
    },
    {
     "data": {
      "application/vnd.jupyter.widget-view+json": {
       "model_id": "5446df9f23e24a4084fc521020bff25e",
       "version_major": 2,
       "version_minor": 0
      },
      "text/plain": [
       "Joint fine-tune:   0%|          | 0/18 [00:00<?, ?it/s]"
      ]
     },
     "metadata": {},
     "output_type": "display_data"
    },
    {
     "name": "stderr",
     "output_type": "stream",
     "text": [
      "[I 2025-09-24 09:37:47,458] Trial 30 finished with value: 0.7367220849186031 and parameters: {'latent_dim': 8, 'hidden_dims': 'wide', 'head_hidden_dims': 'small', 'dropout': 0.29456384920429024, 'learning_rate': 0.0005868819732294745, 'batch_size': 256, 'beta': 0.7611673888252453, 'warmup_epochs': 41, 'head_epochs': 39, 'finetune_epochs': 18, 'joint_decoder_lr_scale': 0.08281752262678077}. Best is trial 24 with value: 0.7437417665598264.\n"
     ]
    },
    {
     "data": {
      "application/vnd.jupyter.widget-view+json": {
       "model_id": "5b0fe41214a947beb9e73a5552f00cef",
       "version_major": 2,
       "version_minor": 0
      },
      "text/plain": [
       "Warm-start:   0%|          | 0/17 [00:00<?, ?it/s]"
      ]
     },
     "metadata": {},
     "output_type": "display_data"
    },
    {
     "data": {
      "application/vnd.jupyter.widget-view+json": {
       "model_id": "563ce358cae64202a2a2858944531867",
       "version_major": 2,
       "version_minor": 0
      },
      "text/plain": [
       "Head:   0%|          | 0/37 [00:00<?, ?it/s]"
      ]
     },
     "metadata": {},
     "output_type": "display_data"
    },
    {
     "data": {
      "application/vnd.jupyter.widget-view+json": {
       "model_id": "39fba66c281847a5857323d41eb7993a",
       "version_major": 2,
       "version_minor": 0
      },
      "text/plain": [
       "Joint fine-tune:   0%|          | 0/12 [00:00<?, ?it/s]"
      ]
     },
     "metadata": {},
     "output_type": "display_data"
    },
    {
     "name": "stderr",
     "output_type": "stream",
     "text": [
      "[I 2025-09-24 09:47:03,981] Trial 31 finished with value: 0.7190238395114502 and parameters: {'latent_dim': 8, 'hidden_dims': 'wide', 'head_hidden_dims': 'small', 'dropout': 0.49917449457009133, 'learning_rate': 0.00018119873253869453, 'batch_size': 256, 'beta': 1.4050051029253852, 'warmup_epochs': 17, 'head_epochs': 37, 'finetune_epochs': 12, 'joint_decoder_lr_scale': 0.1167069907251084}. Best is trial 24 with value: 0.7437417665598264.\n"
     ]
    },
    {
     "data": {
      "application/vnd.jupyter.widget-view+json": {
       "model_id": "e7213038eec34b9480525c16cf374df5",
       "version_major": 2,
       "version_minor": 0
      },
      "text/plain": [
       "Warm-start:   0%|          | 0/41 [00:00<?, ?it/s]"
      ]
     },
     "metadata": {},
     "output_type": "display_data"
    },
    {
     "data": {
      "application/vnd.jupyter.widget-view+json": {
       "model_id": "cfe043889fbf4c50a7ebb62fb41c1b36",
       "version_major": 2,
       "version_minor": 0
      },
      "text/plain": [
       "Head:   0%|          | 0/44 [00:00<?, ?it/s]"
      ]
     },
     "metadata": {},
     "output_type": "display_data"
    },
    {
     "data": {
      "application/vnd.jupyter.widget-view+json": {
       "model_id": "49788e8273e04bacbe2f9c81b6ded95c",
       "version_major": 2,
       "version_minor": 0
      },
      "text/plain": [
       "Joint fine-tune:   0%|          | 0/18 [00:00<?, ?it/s]"
      ]
     },
     "metadata": {},
     "output_type": "display_data"
    },
    {
     "name": "stderr",
     "output_type": "stream",
     "text": [
      "[I 2025-09-24 10:04:08,417] Trial 32 finished with value: 0.7397072785112466 and parameters: {'latent_dim': 8, 'hidden_dims': 'wide', 'head_hidden_dims': 'small', 'dropout': 0.27359929296580243, 'learning_rate': 0.0005343459794274867, 'batch_size': 256, 'beta': 0.8017733814328778, 'warmup_epochs': 41, 'head_epochs': 44, 'finetune_epochs': 18, 'joint_decoder_lr_scale': 0.0844430345175399}. Best is trial 24 with value: 0.7437417665598264.\n"
     ]
    },
    {
     "data": {
      "application/vnd.jupyter.widget-view+json": {
       "model_id": "31a63eb102c848f781743bb3c25e5475",
       "version_major": 2,
       "version_minor": 0
      },
      "text/plain": [
       "Warm-start:   0%|          | 0/42 [00:00<?, ?it/s]"
      ]
     },
     "metadata": {},
     "output_type": "display_data"
    },
    {
     "data": {
      "application/vnd.jupyter.widget-view+json": {
       "model_id": "3b637f5706be4e4aa6f14339361ef1ba",
       "version_major": 2,
       "version_minor": 0
      },
      "text/plain": [
       "Head:   0%|          | 0/45 [00:00<?, ?it/s]"
      ]
     },
     "metadata": {},
     "output_type": "display_data"
    },
    {
     "data": {
      "application/vnd.jupyter.widget-view+json": {
       "model_id": "acae8924c2f74fd89c0442a4bdd63d2c",
       "version_major": 2,
       "version_minor": 0
      },
      "text/plain": [
       "Joint fine-tune:   0%|          | 0/19 [00:00<?, ?it/s]"
      ]
     },
     "metadata": {},
     "output_type": "display_data"
    },
    {
     "name": "stderr",
     "output_type": "stream",
     "text": [
      "[I 2025-09-24 10:22:23,924] Trial 33 finished with value: 0.7457775725047728 and parameters: {'latent_dim': 8, 'hidden_dims': 'wide', 'head_hidden_dims': 'small', 'dropout': 0.28551469329117873, 'learning_rate': 0.0004065549627307578, 'batch_size': 256, 'beta': 0.8038041747581341, 'warmup_epochs': 42, 'head_epochs': 45, 'finetune_epochs': 19, 'joint_decoder_lr_scale': 0.09033540468476813}. Best is trial 33 with value: 0.7457775725047728.\n"
     ]
    },
    {
     "data": {
      "application/vnd.jupyter.widget-view+json": {
       "model_id": "c2a9ee86941a46cbb3dcf6ea9cf0146c",
       "version_major": 2,
       "version_minor": 0
      },
      "text/plain": [
       "Warm-start:   0%|          | 0/51 [00:00<?, ?it/s]"
      ]
     },
     "metadata": {},
     "output_type": "display_data"
    },
    {
     "data": {
      "application/vnd.jupyter.widget-view+json": {
       "model_id": "40b9589bc8a848aebacd8a4a05343b20",
       "version_major": 2,
       "version_minor": 0
      },
      "text/plain": [
       "Head:   0%|          | 0/48 [00:00<?, ?it/s]"
      ]
     },
     "metadata": {},
     "output_type": "display_data"
    },
    {
     "data": {
      "application/vnd.jupyter.widget-view+json": {
       "model_id": "1ac2866af53045c384fcc0a14ea89f56",
       "version_major": 2,
       "version_minor": 0
      },
      "text/plain": [
       "Joint fine-tune:   0%|          | 0/19 [00:00<?, ?it/s]"
      ]
     },
     "metadata": {},
     "output_type": "display_data"
    },
    {
     "name": "stderr",
     "output_type": "stream",
     "text": [
      "[I 2025-09-24 10:44:58,144] Trial 34 finished with value: 0.7241379216217441 and parameters: {'latent_dim': 8, 'hidden_dims': 'wide', 'head_hidden_dims': 'small', 'dropout': 0.20800065389151517, 'learning_rate': 0.0011133588096840963, 'batch_size': 256, 'beta': 1.2600540147947503, 'warmup_epochs': 51, 'head_epochs': 48, 'finetune_epochs': 19, 'joint_decoder_lr_scale': 0.06117826220344377}. Best is trial 33 with value: 0.7457775725047728.\n"
     ]
    },
    {
     "data": {
      "application/vnd.jupyter.widget-view+json": {
       "model_id": "f5a3b8edc3514ae6b4f0018dec372220",
       "version_major": 2,
       "version_minor": 0
      },
      "text/plain": [
       "Warm-start:   0%|          | 0/30 [00:00<?, ?it/s]"
      ]
     },
     "metadata": {},
     "output_type": "display_data"
    },
    {
     "data": {
      "application/vnd.jupyter.widget-view+json": {
       "model_id": "75be77c78ce74e589769884dab939de5",
       "version_major": 2,
       "version_minor": 0
      },
      "text/plain": [
       "Head:   0%|          | 0/45 [00:00<?, ?it/s]"
      ]
     },
     "metadata": {},
     "output_type": "display_data"
    },
    {
     "data": {
      "application/vnd.jupyter.widget-view+json": {
       "model_id": "000de79bf4914652b9967335412666cc",
       "version_major": 2,
       "version_minor": 0
      },
      "text/plain": [
       "Joint fine-tune:   0%|          | 0/15 [00:00<?, ?it/s]"
      ]
     },
     "metadata": {},
     "output_type": "display_data"
    },
    {
     "name": "stderr",
     "output_type": "stream",
     "text": [
      "[I 2025-09-24 11:00:17,715] Trial 35 finished with value: 0.7129617346005666 and parameters: {'latent_dim': 8, 'hidden_dims': 'medium', 'head_hidden_dims': 'small', 'dropout': 0.3673612977250361, 'learning_rate': 0.00038319138669887557, 'batch_size': 256, 'beta': 0.7429207988268589, 'warmup_epochs': 30, 'head_epochs': 45, 'finetune_epochs': 15, 'joint_decoder_lr_scale': 0.03395366658756054}. Best is trial 33 with value: 0.7457775725047728.\n"
     ]
    },
    {
     "data": {
      "application/vnd.jupyter.widget-view+json": {
       "model_id": "def95f9b0b694de4aca5c09cf0e6580c",
       "version_major": 2,
       "version_minor": 0
      },
      "text/plain": [
       "Warm-start:   0%|          | 0/43 [00:00<?, ?it/s]"
      ]
     },
     "metadata": {},
     "output_type": "display_data"
    },
    {
     "data": {
      "application/vnd.jupyter.widget-view+json": {
       "model_id": "7ab6ee69712b4d5d8d0829083bf1dda1",
       "version_major": 2,
       "version_minor": 0
      },
      "text/plain": [
       "Head:   0%|          | 0/39 [00:00<?, ?it/s]"
      ]
     },
     "metadata": {},
     "output_type": "display_data"
    },
    {
     "data": {
      "application/vnd.jupyter.widget-view+json": {
       "model_id": "d2f4559cf33e4e5c9c6c6357430e1146",
       "version_major": 2,
       "version_minor": 0
      },
      "text/plain": [
       "Joint fine-tune:   0%|          | 0/17 [00:00<?, ?it/s]"
      ]
     },
     "metadata": {},
     "output_type": "display_data"
    },
    {
     "name": "stderr",
     "output_type": "stream",
     "text": [
      "[I 2025-09-24 11:23:37,317] Trial 36 finished with value: 0.6885970299835071 and parameters: {'latent_dim': 8, 'hidden_dims': 'small', 'head_hidden_dims': 'small', 'dropout': 0.3253754031452849, 'learning_rate': 0.0008509952908073065, 'batch_size': 256, 'beta': 1.5838636244021969, 'warmup_epochs': 43, 'head_epochs': 39, 'finetune_epochs': 17, 'joint_decoder_lr_scale': 0.09645115202129931}. Best is trial 33 with value: 0.7457775725047728.\n"
     ]
    },
    {
     "data": {
      "application/vnd.jupyter.widget-view+json": {
       "model_id": "1968a0cd10cc4d47b59e620d0172f01b",
       "version_major": 2,
       "version_minor": 0
      },
      "text/plain": [
       "Warm-start:   0%|          | 0/49 [00:00<?, ?it/s]"
      ]
     },
     "metadata": {},
     "output_type": "display_data"
    },
    {
     "data": {
      "application/vnd.jupyter.widget-view+json": {
       "model_id": "045ec8f2e35444db86dc289a7c4fd149",
       "version_major": 2,
       "version_minor": 0
      },
      "text/plain": [
       "Head:   0%|          | 0/31 [00:00<?, ?it/s]"
      ]
     },
     "metadata": {},
     "output_type": "display_data"
    },
    {
     "data": {
      "application/vnd.jupyter.widget-view+json": {
       "model_id": "125da7181ea044329cecd29d4152fc8c",
       "version_major": 2,
       "version_minor": 0
      },
      "text/plain": [
       "Joint fine-tune:   0%|          | 0/19 [00:00<?, ?it/s]"
      ]
     },
     "metadata": {},
     "output_type": "display_data"
    },
    {
     "name": "stderr",
     "output_type": "stream",
     "text": [
      "[I 2025-09-24 11:36:02,187] Trial 37 finished with value: 0.7259261443014631 and parameters: {'latent_dim': 8, 'hidden_dims': 'wide', 'head_hidden_dims': 'compact', 'dropout': 0.1869640431569482, 'learning_rate': 0.0001220035483652534, 'batch_size': 512, 'beta': 0.5213418117544654, 'warmup_epochs': 49, 'head_epochs': 31, 'finetune_epochs': 19, 'joint_decoder_lr_scale': 0.12025075068641265}. Best is trial 33 with value: 0.7457775725047728.\n"
     ]
    },
    {
     "data": {
      "application/vnd.jupyter.widget-view+json": {
       "model_id": "347622cc27cd41de8056746a6f3ebaa9",
       "version_major": 2,
       "version_minor": 0
      },
      "text/plain": [
       "Warm-start:   0%|          | 0/36 [00:00<?, ?it/s]"
      ]
     },
     "metadata": {},
     "output_type": "display_data"
    },
    {
     "data": {
      "application/vnd.jupyter.widget-view+json": {
       "model_id": "45b1a9a8095342b4a6e41bef5b889c75",
       "version_major": 2,
       "version_minor": 0
      },
      "text/plain": [
       "Head:   0%|          | 0/35 [00:00<?, ?it/s]"
      ]
     },
     "metadata": {},
     "output_type": "display_data"
    },
    {
     "data": {
      "application/vnd.jupyter.widget-view+json": {
       "model_id": "3ad9c9564cbb4e33943b774b30b04115",
       "version_major": 2,
       "version_minor": 0
      },
      "text/plain": [
       "Joint fine-tune:   0%|          | 0/15 [00:00<?, ?it/s]"
      ]
     },
     "metadata": {},
     "output_type": "display_data"
    },
    {
     "name": "stderr",
     "output_type": "stream",
     "text": [
      "[I 2025-09-24 11:51:20,188] Trial 38 finished with value: 0.7121428263363082 and parameters: {'latent_dim': 8, 'hidden_dims': 'extra_wide', 'head_hidden_dims': 'small', 'dropout': 0.23223258702960736, 'learning_rate': 0.0004285295105475497, 'batch_size': 256, 'beta': 1.8193488908942337, 'warmup_epochs': 36, 'head_epochs': 35, 'finetune_epochs': 15, 'joint_decoder_lr_scale': 0.029638268874319494}. Best is trial 33 with value: 0.7457775725047728.\n"
     ]
    },
    {
     "data": {
      "application/vnd.jupyter.widget-view+json": {
       "model_id": "c81cdb32f8524ef08abf4302b816b5ee",
       "version_major": 2,
       "version_minor": 0
      },
      "text/plain": [
       "Warm-start:   0%|          | 0/28 [00:00<?, ?it/s]"
      ]
     },
     "metadata": {},
     "output_type": "display_data"
    },
    {
     "data": {
      "application/vnd.jupyter.widget-view+json": {
       "model_id": "6c9a437a44934b3fbb37c361626dcce0",
       "version_major": 2,
       "version_minor": 0
      },
      "text/plain": [
       "Head:   0%|          | 0/46 [00:00<?, ?it/s]"
      ]
     },
     "metadata": {},
     "output_type": "display_data"
    },
    {
     "data": {
      "application/vnd.jupyter.widget-view+json": {
       "model_id": "29350671fd0b4a15bae49afe1096113c",
       "version_major": 2,
       "version_minor": 0
      },
      "text/plain": [
       "Joint fine-tune:   0%|          | 0/17 [00:00<?, ?it/s]"
      ]
     },
     "metadata": {},
     "output_type": "display_data"
    },
    {
     "name": "stderr",
     "output_type": "stream",
     "text": [
      "[I 2025-09-24 11:58:23,202] Trial 39 finished with value: 0.7491596636361602 and parameters: {'latent_dim': 32, 'hidden_dims': 'wide', 'head_hidden_dims': 'compact', 'dropout': 0.061637889975176885, 'learning_rate': 0.0013901198259305301, 'batch_size': 512, 'beta': 1.3310485946234047, 'warmup_epochs': 28, 'head_epochs': 46, 'finetune_epochs': 17, 'joint_decoder_lr_scale': 0.12332618225472536}. Best is trial 39 with value: 0.7491596636361602.\n"
     ]
    },
    {
     "data": {
      "application/vnd.jupyter.widget-view+json": {
       "model_id": "9a7b4a68724947c8bf5bccb193d8e843",
       "version_major": 2,
       "version_minor": 0
      },
      "text/plain": [
       "Warm-start:   0%|          | 0/16 [00:00<?, ?it/s]"
      ]
     },
     "metadata": {},
     "output_type": "display_data"
    },
    {
     "data": {
      "application/vnd.jupyter.widget-view+json": {
       "model_id": "5776228bd2cc4b9c96b10e83996ad3a7",
       "version_major": 2,
       "version_minor": 0
      },
      "text/plain": [
       "Head:   0%|          | 0/46 [00:00<?, ?it/s]"
      ]
     },
     "metadata": {},
     "output_type": "display_data"
    },
    {
     "data": {
      "application/vnd.jupyter.widget-view+json": {
       "model_id": "c19162679e0a4cc088fad60213b5490c",
       "version_major": 2,
       "version_minor": 0
      },
      "text/plain": [
       "Joint fine-tune:   0%|          | 0/20 [00:00<?, ?it/s]"
      ]
     },
     "metadata": {},
     "output_type": "display_data"
    },
    {
     "name": "stderr",
     "output_type": "stream",
     "text": [
      "[I 2025-09-24 12:04:19,968] Trial 40 finished with value: 0.7109147369093419 and parameters: {'latent_dim': 32, 'hidden_dims': 'compact', 'head_hidden_dims': 'compact', 'dropout': 0.059962334727825806, 'learning_rate': 0.0014061758516435278, 'batch_size': 512, 'beta': 1.2820636139620873, 'warmup_epochs': 16, 'head_epochs': 46, 'finetune_epochs': 20, 'joint_decoder_lr_scale': 0.1574969572245722}. Best is trial 39 with value: 0.7491596636361602.\n"
     ]
    },
    {
     "data": {
      "application/vnd.jupyter.widget-view+json": {
       "model_id": "f23083904002438e8fdb05593e8cc1e7",
       "version_major": 2,
       "version_minor": 0
      },
      "text/plain": [
       "Warm-start:   0%|          | 0/28 [00:00<?, ?it/s]"
      ]
     },
     "metadata": {},
     "output_type": "display_data"
    },
    {
     "data": {
      "application/vnd.jupyter.widget-view+json": {
       "model_id": "08b29145333a49e39533c4ab4bc97e44",
       "version_major": 2,
       "version_minor": 0
      },
      "text/plain": [
       "Head:   0%|          | 0/41 [00:00<?, ?it/s]"
      ]
     },
     "metadata": {},
     "output_type": "display_data"
    },
    {
     "data": {
      "application/vnd.jupyter.widget-view+json": {
       "model_id": "1d51614c8ba542ac830cdb35d7073f1a",
       "version_major": 2,
       "version_minor": 0
      },
      "text/plain": [
       "Joint fine-tune:   0%|          | 0/17 [00:00<?, ?it/s]"
      ]
     },
     "metadata": {},
     "output_type": "display_data"
    },
    {
     "name": "stderr",
     "output_type": "stream",
     "text": [
      "[I 2025-09-24 12:12:16,243] Trial 41 finished with value: 0.2623047790940363 and parameters: {'latent_dim': 32, 'hidden_dims': 'wide', 'head_hidden_dims': 'compact', 'dropout': 0.364006959018156, 'learning_rate': 0.0006241733063994995, 'batch_size': 512, 'beta': 3.9534260153200917, 'warmup_epochs': 28, 'head_epochs': 41, 'finetune_epochs': 17, 'joint_decoder_lr_scale': 0.1283813439391373}. Best is trial 39 with value: 0.7491596636361602.\n"
     ]
    },
    {
     "data": {
      "application/vnd.jupyter.widget-view+json": {
       "model_id": "bd85cc010ced4d048bf066ced7d765ea",
       "version_major": 2,
       "version_minor": 0
      },
      "text/plain": [
       "Warm-start:   0%|          | 0/32 [00:00<?, ?it/s]"
      ]
     },
     "metadata": {},
     "output_type": "display_data"
    },
    {
     "data": {
      "application/vnd.jupyter.widget-view+json": {
       "model_id": "785acb9e4ea0493d8eba902e62eab1ce",
       "version_major": 2,
       "version_minor": 0
      },
      "text/plain": [
       "Head:   0%|          | 0/47 [00:00<?, ?it/s]"
      ]
     },
     "metadata": {},
     "output_type": "display_data"
    },
    {
     "data": {
      "application/vnd.jupyter.widget-view+json": {
       "model_id": "47b0fd9db9834d0cb9eae206dd7e0abc",
       "version_major": 2,
       "version_minor": 0
      },
      "text/plain": [
       "Joint fine-tune:   0%|          | 0/17 [00:00<?, ?it/s]"
      ]
     },
     "metadata": {},
     "output_type": "display_data"
    },
    {
     "name": "stderr",
     "output_type": "stream",
     "text": [
      "[I 2025-09-24 12:20:39,167] Trial 42 finished with value: 0.7562241122624962 and parameters: {'latent_dim': 32, 'hidden_dims': 'wide', 'head_hidden_dims': 'compact', 'dropout': 0.1347650648073227, 'learning_rate': 0.0007754364288905583, 'batch_size': 512, 'beta': 0.9089588512148928, 'warmup_epochs': 32, 'head_epochs': 47, 'finetune_epochs': 17, 'joint_decoder_lr_scale': 0.1000648715782588}. Best is trial 42 with value: 0.7562241122624962.\n"
     ]
    },
    {
     "data": {
      "application/vnd.jupyter.widget-view+json": {
       "model_id": "ff6fa3d13b7341eba9efed713cfed3f3",
       "version_major": 2,
       "version_minor": 0
      },
      "text/plain": [
       "Warm-start:   0%|          | 0/32 [00:00<?, ?it/s]"
      ]
     },
     "metadata": {},
     "output_type": "display_data"
    },
    {
     "data": {
      "application/vnd.jupyter.widget-view+json": {
       "model_id": "1b604681608a42aaaea71cb81cccd82c",
       "version_major": 2,
       "version_minor": 0
      },
      "text/plain": [
       "Head:   0%|          | 0/47 [00:00<?, ?it/s]"
      ]
     },
     "metadata": {},
     "output_type": "display_data"
    },
    {
     "data": {
      "application/vnd.jupyter.widget-view+json": {
       "model_id": "116a2cd2111d4070bdb80236494c0467",
       "version_major": 2,
       "version_minor": 0
      },
      "text/plain": [
       "Joint fine-tune:   0%|          | 0/19 [00:00<?, ?it/s]"
      ]
     },
     "metadata": {},
     "output_type": "display_data"
    },
    {
     "name": "stderr",
     "output_type": "stream",
     "text": [
      "[I 2025-09-24 12:29:24,537] Trial 43 finished with value: 0.7591268690898707 and parameters: {'latent_dim': 32, 'hidden_dims': 'wide', 'head_hidden_dims': 'compact', 'dropout': 0.1314952045533766, 'learning_rate': 0.0006555596366543152, 'batch_size': 512, 'beta': 0.691415561258789, 'warmup_epochs': 32, 'head_epochs': 47, 'finetune_epochs': 19, 'joint_decoder_lr_scale': 0.11186099242698366}. Best is trial 43 with value: 0.7591268690898707.\n"
     ]
    },
    {
     "data": {
      "application/vnd.jupyter.widget-view+json": {
       "model_id": "2b86289cda41471bbbbbecc31cea1d60",
       "version_major": 2,
       "version_minor": 0
      },
      "text/plain": [
       "Warm-start:   0%|          | 0/32 [00:00<?, ?it/s]"
      ]
     },
     "metadata": {},
     "output_type": "display_data"
    },
    {
     "data": {
      "application/vnd.jupyter.widget-view+json": {
       "model_id": "f75342e405ed41aab1d6ce0bd953793d",
       "version_major": 2,
       "version_minor": 0
      },
      "text/plain": [
       "Head:   0%|          | 0/46 [00:00<?, ?it/s]"
      ]
     },
     "metadata": {},
     "output_type": "display_data"
    },
    {
     "data": {
      "application/vnd.jupyter.widget-view+json": {
       "model_id": "a5625d5a21234ecba83ad78fead3b4c5",
       "version_major": 2,
       "version_minor": 0
      },
      "text/plain": [
       "Joint fine-tune:   0%|          | 0/19 [00:00<?, ?it/s]"
      ]
     },
     "metadata": {},
     "output_type": "display_data"
    },
    {
     "name": "stderr",
     "output_type": "stream",
     "text": [
      "[I 2025-09-24 12:37:29,860] Trial 44 finished with value: 0.7647680551529257 and parameters: {'latent_dim': 32, 'hidden_dims': 'wide', 'head_hidden_dims': 'compact', 'dropout': 0.0759889440538572, 'learning_rate': 0.001359020316652377, 'batch_size': 512, 'beta': 0.6393477482221988, 'warmup_epochs': 32, 'head_epochs': 46, 'finetune_epochs': 19, 'joint_decoder_lr_scale': 0.10773983820922489}. Best is trial 44 with value: 0.7647680551529257.\n"
     ]
    },
    {
     "data": {
      "application/vnd.jupyter.widget-view+json": {
       "model_id": "5f303735e22442fe85866a7729f1665b",
       "version_major": 2,
       "version_minor": 0
      },
      "text/plain": [
       "Warm-start:   0%|          | 0/32 [00:00<?, ?it/s]"
      ]
     },
     "metadata": {},
     "output_type": "display_data"
    },
    {
     "data": {
      "application/vnd.jupyter.widget-view+json": {
       "model_id": "67e9cc35278449f8b792fdbd665ee8ce",
       "version_major": 2,
       "version_minor": 0
      },
      "text/plain": [
       "Head:   0%|          | 0/47 [00:00<?, ?it/s]"
      ]
     },
     "metadata": {},
     "output_type": "display_data"
    },
    {
     "data": {
      "application/vnd.jupyter.widget-view+json": {
       "model_id": "7407d156287144a3a36f9fcc2c398037",
       "version_major": 2,
       "version_minor": 0
      },
      "text/plain": [
       "Joint fine-tune:   0%|          | 0/19 [00:00<?, ?it/s]"
      ]
     },
     "metadata": {},
     "output_type": "display_data"
    },
    {
     "name": "stderr",
     "output_type": "stream",
     "text": [
      "[I 2025-09-24 12:46:07,461] Trial 45 finished with value: 0.7301522568838793 and parameters: {'latent_dim': 32, 'hidden_dims': 'compact', 'head_hidden_dims': 'compact', 'dropout': 0.0665385010341364, 'learning_rate': 0.0012056549768072935, 'batch_size': 512, 'beta': 0.676151576865732, 'warmup_epochs': 32, 'head_epochs': 47, 'finetune_epochs': 19, 'joint_decoder_lr_scale': 0.10764534063734407}. Best is trial 44 with value: 0.7647680551529257.\n"
     ]
    },
    {
     "data": {
      "application/vnd.jupyter.widget-view+json": {
       "model_id": "5dab2ae4f17545e2baffb6ba53a84ebe",
       "version_major": 2,
       "version_minor": 0
      },
      "text/plain": [
       "Warm-start:   0%|          | 0/25 [00:00<?, ?it/s]"
      ]
     },
     "metadata": {},
     "output_type": "display_data"
    },
    {
     "data": {
      "application/vnd.jupyter.widget-view+json": {
       "model_id": "3ba24a156bde4d529ef13a434a77c845",
       "version_major": 2,
       "version_minor": 0
      },
      "text/plain": [
       "Head:   0%|          | 0/42 [00:00<?, ?it/s]"
      ]
     },
     "metadata": {},
     "output_type": "display_data"
    },
    {
     "data": {
      "application/vnd.jupyter.widget-view+json": {
       "model_id": "54031de7402144a4ba2fd0049f123163",
       "version_major": 2,
       "version_minor": 0
      },
      "text/plain": [
       "Joint fine-tune:   0%|          | 0/20 [00:00<?, ?it/s]"
      ]
     },
     "metadata": {},
     "output_type": "display_data"
    },
    {
     "name": "stderr",
     "output_type": "stream",
     "text": [
      "[I 2025-09-24 12:53:42,058] Trial 46 finished with value: 0.7572941523944604 and parameters: {'latent_dim': 32, 'hidden_dims': 'wide', 'head_hidden_dims': 'compact', 'dropout': 0.07766352822879524, 'learning_rate': 0.0002739272048697364, 'batch_size': 512, 'beta': 0.5052685505378447, 'warmup_epochs': 25, 'head_epochs': 42, 'finetune_epochs': 20, 'joint_decoder_lr_scale': 0.07047492930698632}. Best is trial 44 with value: 0.7647680551529257.\n"
     ]
    },
    {
     "data": {
      "application/vnd.jupyter.widget-view+json": {
       "model_id": "293d9caa024a42509f39354f609860d4",
       "version_major": 2,
       "version_minor": 0
      },
      "text/plain": [
       "Warm-start:   0%|          | 0/25 [00:00<?, ?it/s]"
      ]
     },
     "metadata": {},
     "output_type": "display_data"
    },
    {
     "data": {
      "application/vnd.jupyter.widget-view+json": {
       "model_id": "bbddb513fcfd426092259b6e904ef63f",
       "version_major": 2,
       "version_minor": 0
      },
      "text/plain": [
       "Head:   0%|          | 0/42 [00:00<?, ?it/s]"
      ]
     },
     "metadata": {},
     "output_type": "display_data"
    },
    {
     "data": {
      "application/vnd.jupyter.widget-view+json": {
       "model_id": "b25d720720254c1983147b08624f86ec",
       "version_major": 2,
       "version_minor": 0
      },
      "text/plain": [
       "Joint fine-tune:   0%|          | 0/20 [00:00<?, ?it/s]"
      ]
     },
     "metadata": {},
     "output_type": "display_data"
    },
    {
     "name": "stderr",
     "output_type": "stream",
     "text": [
      "[I 2025-09-24 13:00:50,369] Trial 47 finished with value: 0.7612260039405866 and parameters: {'latent_dim': 32, 'hidden_dims': 'extra_wide', 'head_hidden_dims': 'compact', 'dropout': 0.029463383987127445, 'learning_rate': 0.00028465034991051165, 'batch_size': 512, 'beta': 0.5039585460470992, 'warmup_epochs': 25, 'head_epochs': 42, 'finetune_epochs': 20, 'joint_decoder_lr_scale': 0.06638050119361277}. Best is trial 44 with value: 0.7647680551529257.\n"
     ]
    },
    {
     "data": {
      "application/vnd.jupyter.widget-view+json": {
       "model_id": "fe0061d3d417487c9428c9a17aa3773e",
       "version_major": 2,
       "version_minor": 0
      },
      "text/plain": [
       "Warm-start:   0%|          | 0/20 [00:00<?, ?it/s]"
      ]
     },
     "metadata": {},
     "output_type": "display_data"
    },
    {
     "data": {
      "application/vnd.jupyter.widget-view+json": {
       "model_id": "bf0043c61249439385ecb8015922dee5",
       "version_major": 2,
       "version_minor": 0
      },
      "text/plain": [
       "Head:   0%|          | 0/42 [00:00<?, ?it/s]"
      ]
     },
     "metadata": {},
     "output_type": "display_data"
    },
    {
     "data": {
      "application/vnd.jupyter.widget-view+json": {
       "model_id": "b1d6b2782c614d49968287b693c4c7a2",
       "version_major": 2,
       "version_minor": 0
      },
      "text/plain": [
       "Joint fine-tune:   0%|          | 0/20 [00:00<?, ?it/s]"
      ]
     },
     "metadata": {},
     "output_type": "display_data"
    },
    {
     "name": "stderr",
     "output_type": "stream",
     "text": [
      "[I 2025-09-24 13:07:14,206] Trial 48 finished with value: 0.759682088893038 and parameters: {'latent_dim': 32, 'hidden_dims': 'extra_wide', 'head_hidden_dims': 'compact', 'dropout': 0.020332689175722507, 'learning_rate': 0.0002662430738491482, 'batch_size': 512, 'beta': 0.5289321962098904, 'warmup_epochs': 20, 'head_epochs': 42, 'finetune_epochs': 20, 'joint_decoder_lr_scale': 0.06934580878957383}. Best is trial 44 with value: 0.7647680551529257.\n"
     ]
    },
    {
     "data": {
      "application/vnd.jupyter.widget-view+json": {
       "model_id": "89c327ecd82f467eb6d8259d113d6e9a",
       "version_major": 2,
       "version_minor": 0
      },
      "text/plain": [
       "Warm-start:   0%|          | 0/19 [00:00<?, ?it/s]"
      ]
     },
     "metadata": {},
     "output_type": "display_data"
    },
    {
     "data": {
      "application/vnd.jupyter.widget-view+json": {
       "model_id": "dfc3da64dd02442e9d8ef00b063b626b",
       "version_major": 2,
       "version_minor": 0
      },
      "text/plain": [
       "Head:   0%|          | 0/42 [00:00<?, ?it/s]"
      ]
     },
     "metadata": {},
     "output_type": "display_data"
    },
    {
     "data": {
      "application/vnd.jupyter.widget-view+json": {
       "model_id": "1d1c293d3b48428988eb1f2a254d92a0",
       "version_major": 2,
       "version_minor": 0
      },
      "text/plain": [
       "Joint fine-tune:   0%|          | 0/20 [00:00<?, ?it/s]"
      ]
     },
     "metadata": {},
     "output_type": "display_data"
    },
    {
     "name": "stderr",
     "output_type": "stream",
     "text": [
      "[I 2025-09-24 13:13:08,846] Trial 49 finished with value: 0.7365239091186527 and parameters: {'latent_dim': 32, 'hidden_dims': 'extra_wide', 'head_hidden_dims': 'compact', 'dropout': 0.028892624609178616, 'learning_rate': 0.00011528625300472366, 'batch_size': 512, 'beta': 0.5208520010902135, 'warmup_epochs': 19, 'head_epochs': 42, 'finetune_epochs': 20, 'joint_decoder_lr_scale': 0.06697065042453085}. Best is trial 44 with value: 0.7647680551529257.\n"
     ]
    },
    {
     "data": {
      "application/vnd.jupyter.widget-view+json": {
       "model_id": "1bd5862c2737403cb234fadea49488ec",
       "version_major": 2,
       "version_minor": 0
      },
      "text/plain": [
       "Warm-start:   0%|          | 0/25 [00:00<?, ?it/s]"
      ]
     },
     "metadata": {},
     "output_type": "display_data"
    },
    {
     "data": {
      "application/vnd.jupyter.widget-view+json": {
       "model_id": "f399b03cc80c4bd48dce30acdeae3df1",
       "version_major": 2,
       "version_minor": 0
      },
      "text/plain": [
       "Head:   0%|          | 0/28 [00:00<?, ?it/s]"
      ]
     },
     "metadata": {},
     "output_type": "display_data"
    },
    {
     "data": {
      "application/vnd.jupyter.widget-view+json": {
       "model_id": "3b9992158ea34663a562acaece1866f3",
       "version_major": 2,
       "version_minor": 0
      },
      "text/plain": [
       "Joint fine-tune:   0%|          | 0/20 [00:00<?, ?it/s]"
      ]
     },
     "metadata": {},
     "output_type": "display_data"
    },
    {
     "name": "stderr",
     "output_type": "stream",
     "text": [
      "[I 2025-09-24 13:18:51,868] Trial 50 finished with value: 0.7118371005843183 and parameters: {'latent_dim': 32, 'hidden_dims': 'extra_wide', 'head_hidden_dims': 'compact', 'dropout': 0.02166111407454996, 'learning_rate': 0.0002276824377224457, 'batch_size': 512, 'beta': 3.129222363118223, 'warmup_epochs': 25, 'head_epochs': 28, 'finetune_epochs': 20, 'joint_decoder_lr_scale': 0.05230816575625925}. Best is trial 44 with value: 0.7647680551529257.\n"
     ]
    },
    {
     "data": {
      "application/vnd.jupyter.widget-view+json": {
       "model_id": "a6144e4778794e6aa88162949b6934e7",
       "version_major": 2,
       "version_minor": 0
      },
      "text/plain": [
       "Warm-start:   0%|          | 0/12 [00:00<?, ?it/s]"
      ]
     },
     "metadata": {},
     "output_type": "display_data"
    },
    {
     "data": {
      "application/vnd.jupyter.widget-view+json": {
       "model_id": "5176f3319a234c37874f72c0815d100d",
       "version_major": 2,
       "version_minor": 0
      },
      "text/plain": [
       "Head:   0%|          | 0/40 [00:00<?, ?it/s]"
      ]
     },
     "metadata": {},
     "output_type": "display_data"
    },
    {
     "data": {
      "application/vnd.jupyter.widget-view+json": {
       "model_id": "654449df721442e09e3d54abf07c17fd",
       "version_major": 2,
       "version_minor": 0
      },
      "text/plain": [
       "Joint fine-tune:   0%|          | 0/18 [00:00<?, ?it/s]"
      ]
     },
     "metadata": {},
     "output_type": "display_data"
    },
    {
     "name": "stderr",
     "output_type": "stream",
     "text": [
      "[I 2025-09-24 13:23:03,210] Trial 51 finished with value: 0.7540417217382475 and parameters: {'latent_dim': 32, 'hidden_dims': 'extra_wide', 'head_hidden_dims': 'compact', 'dropout': 0.00590989192463302, 'learning_rate': 0.0002946171205632828, 'batch_size': 512, 'beta': 0.6695417044208495, 'warmup_epochs': 12, 'head_epochs': 40, 'finetune_epochs': 18, 'joint_decoder_lr_scale': 0.07199461142169747}. Best is trial 44 with value: 0.7647680551529257.\n"
     ]
    },
    {
     "data": {
      "application/vnd.jupyter.widget-view+json": {
       "model_id": "e091c2c861754850a1967856c19537d8",
       "version_major": 2,
       "version_minor": 0
      },
      "text/plain": [
       "Warm-start:   0%|          | 0/23 [00:00<?, ?it/s]"
      ]
     },
     "metadata": {},
     "output_type": "display_data"
    },
    {
     "data": {
      "application/vnd.jupyter.widget-view+json": {
       "model_id": "7361f21f0ba1468ba01e6580aa90424e",
       "version_major": 2,
       "version_minor": 0
      },
      "text/plain": [
       "Head:   0%|          | 0/43 [00:00<?, ?it/s]"
      ]
     },
     "metadata": {},
     "output_type": "display_data"
    },
    {
     "data": {
      "application/vnd.jupyter.widget-view+json": {
       "model_id": "aa220f7fba154e57bea9ecc6f747d39f",
       "version_major": 2,
       "version_minor": 0
      },
      "text/plain": [
       "Joint fine-tune:   0%|          | 0/19 [00:00<?, ?it/s]"
      ]
     },
     "metadata": {},
     "output_type": "display_data"
    },
    {
     "name": "stderr",
     "output_type": "stream",
     "text": [
      "[I 2025-09-24 13:28:58,231] Trial 52 finished with value: 0.7473728058035483 and parameters: {'latent_dim': 32, 'hidden_dims': 'extra_wide', 'head_hidden_dims': 'compact', 'dropout': 0.07643847400521692, 'learning_rate': 0.00015859147896522162, 'batch_size': 512, 'beta': 0.5124352404598884, 'warmup_epochs': 23, 'head_epochs': 43, 'finetune_epochs': 19, 'joint_decoder_lr_scale': 0.036606356476004784}. Best is trial 44 with value: 0.7647680551529257.\n"
     ]
    },
    {
     "data": {
      "application/vnd.jupyter.widget-view+json": {
       "model_id": "246a05a0dfe84e22989f5da779aa5244",
       "version_major": 2,
       "version_minor": 0
      },
      "text/plain": [
       "Warm-start:   0%|          | 0/26 [00:00<?, ?it/s]"
      ]
     },
     "metadata": {},
     "output_type": "display_data"
    },
    {
     "data": {
      "application/vnd.jupyter.widget-view+json": {
       "model_id": "b0001d813dda42fab344f432d29249bf",
       "version_major": 2,
       "version_minor": 0
      },
      "text/plain": [
       "Head:   0%|          | 0/48 [00:00<?, ?it/s]"
      ]
     },
     "metadata": {},
     "output_type": "display_data"
    },
    {
     "data": {
      "application/vnd.jupyter.widget-view+json": {
       "model_id": "ba21e2c10db24f89a95b117bfd4f903b",
       "version_major": 2,
       "version_minor": 0
      },
      "text/plain": [
       "Joint fine-tune:   0%|          | 0/20 [00:00<?, ?it/s]"
      ]
     },
     "metadata": {},
     "output_type": "display_data"
    },
    {
     "name": "stderr",
     "output_type": "stream",
     "text": [
      "[I 2025-09-24 13:35:23,564] Trial 53 finished with value: 0.7228716164757791 and parameters: {'latent_dim': 32, 'hidden_dims': 'extra_wide', 'head_hidden_dims': 'compact', 'dropout': 0.04363836483515178, 'learning_rate': 8.359452108009736e-05, 'batch_size': 512, 'beta': 0.621218461532846, 'warmup_epochs': 26, 'head_epochs': 48, 'finetune_epochs': 20, 'joint_decoder_lr_scale': 0.10018806639338168}. Best is trial 44 with value: 0.7647680551529257.\n"
     ]
    },
    {
     "data": {
      "application/vnd.jupyter.widget-view+json": {
       "model_id": "e9421374187447e2999f90751518d443",
       "version_major": 2,
       "version_minor": 0
      },
      "text/plain": [
       "Warm-start:   0%|          | 0/34 [00:00<?, ?it/s]"
      ]
     },
     "metadata": {},
     "output_type": "display_data"
    },
    {
     "data": {
      "application/vnd.jupyter.widget-view+json": {
       "model_id": "5bc0ad364a0443beb3a8609af842f770",
       "version_major": 2,
       "version_minor": 0
      },
      "text/plain": [
       "Head:   0%|          | 0/43 [00:00<?, ?it/s]"
      ]
     },
     "metadata": {},
     "output_type": "display_data"
    },
    {
     "data": {
      "application/vnd.jupyter.widget-view+json": {
       "model_id": "006888c4af47498a94e13b2e06e80539",
       "version_major": 2,
       "version_minor": 0
      },
      "text/plain": [
       "Joint fine-tune:   0%|          | 0/10 [00:00<?, ?it/s]"
      ]
     },
     "metadata": {},
     "output_type": "display_data"
    },
    {
     "name": "stderr",
     "output_type": "stream",
     "text": [
      "[I 2025-09-24 13:41:34,598] Trial 54 finished with value: 0.7592218624485247 and parameters: {'latent_dim': 32, 'hidden_dims': 'extra_wide', 'head_hidden_dims': 'compact', 'dropout': 0.11831566462105667, 'learning_rate': 0.00029126998715827746, 'batch_size': 512, 'beta': 0.5003402772680752, 'warmup_epochs': 34, 'head_epochs': 43, 'finetune_epochs': 10, 'joint_decoder_lr_scale': 0.04993381929176967}. Best is trial 44 with value: 0.7647680551529257.\n"
     ]
    },
    {
     "data": {
      "application/vnd.jupyter.widget-view+json": {
       "model_id": "e637fe50d0ac49d297186f1e66d1944b",
       "version_major": 2,
       "version_minor": 0
      },
      "text/plain": [
       "Warm-start:   0%|          | 0/20 [00:00<?, ?it/s]"
      ]
     },
     "metadata": {},
     "output_type": "display_data"
    },
    {
     "data": {
      "application/vnd.jupyter.widget-view+json": {
       "model_id": "d846ef344f2449bf8eb7317288b66615",
       "version_major": 2,
       "version_minor": 0
      },
      "text/plain": [
       "Head:   0%|          | 0/36 [00:00<?, ?it/s]"
      ]
     },
     "metadata": {},
     "output_type": "display_data"
    },
    {
     "data": {
      "application/vnd.jupyter.widget-view+json": {
       "model_id": "25a635bee71843e2a93891ca8369d61c",
       "version_major": 2,
       "version_minor": 0
      },
      "text/plain": [
       "Joint fine-tune:   0%|          | 0/9 [00:00<?, ?it/s]"
      ]
     },
     "metadata": {},
     "output_type": "display_data"
    },
    {
     "name": "stderr",
     "output_type": "stream",
     "text": [
      "[I 2025-09-24 14:12:51,787] Trial 55 finished with value: 0.7680131156347605 and parameters: {'latent_dim': 32, 'hidden_dims': 'extra_wide', 'head_hidden_dims': 'compact', 'dropout': 0.07915206176238997, 'learning_rate': 0.0002764984822404595, 'batch_size': 64, 'beta': 0.6508165796881753, 'warmup_epochs': 20, 'head_epochs': 36, 'finetune_epochs': 9, 'joint_decoder_lr_scale': 0.0207690841195523}. Best is trial 55 with value: 0.7680131156347605.\n"
     ]
    },
    {
     "data": {
      "application/vnd.jupyter.widget-view+json": {
       "model_id": "18f23cbab5b0439b8a194b54cd30a8cb",
       "version_major": 2,
       "version_minor": 0
      },
      "text/plain": [
       "Warm-start:   0%|          | 0/13 [00:00<?, ?it/s]"
      ]
     },
     "metadata": {},
     "output_type": "display_data"
    },
    {
     "data": {
      "application/vnd.jupyter.widget-view+json": {
       "model_id": "f09c8a8f95e942468af036876defac93",
       "version_major": 2,
       "version_minor": 0
      },
      "text/plain": [
       "Head:   0%|          | 0/37 [00:00<?, ?it/s]"
      ]
     },
     "metadata": {},
     "output_type": "display_data"
    },
    {
     "data": {
      "application/vnd.jupyter.widget-view+json": {
       "model_id": "a786118f4d6e4e059e7ddb251e4b9f88",
       "version_major": 2,
       "version_minor": 0
      },
      "text/plain": [
       "Joint fine-tune:   0%|          | 0/10 [00:00<?, ?it/s]"
      ]
     },
     "metadata": {},
     "output_type": "display_data"
    },
    {
     "name": "stderr",
     "output_type": "stream",
     "text": [
      "[I 2025-09-24 14:39:07,043] Trial 56 finished with value: 0.7480781587884962 and parameters: {'latent_dim': 32, 'hidden_dims': 'extra_wide', 'head_hidden_dims': 'wide', 'dropout': 0.08647634209696006, 'learning_rate': 0.00022372442800409586, 'batch_size': 64, 'beta': 1.0903934158608848, 'warmup_epochs': 13, 'head_epochs': 37, 'finetune_epochs': 10, 'joint_decoder_lr_scale': 0.019326660087215265}. Best is trial 55 with value: 0.7680131156347605.\n"
     ]
    },
    {
     "data": {
      "application/vnd.jupyter.widget-view+json": {
       "model_id": "3e83422b6bb248ad8ff87fde2542671e",
       "version_major": 2,
       "version_minor": 0
      },
      "text/plain": [
       "Warm-start:   0%|          | 0/20 [00:00<?, ?it/s]"
      ]
     },
     "metadata": {},
     "output_type": "display_data"
    },
    {
     "data": {
      "application/vnd.jupyter.widget-view+json": {
       "model_id": "af9d12b5784343dc911241df3f9295e7",
       "version_major": 2,
       "version_minor": 0
      },
      "text/plain": [
       "Head:   0%|          | 0/34 [00:00<?, ?it/s]"
      ]
     },
     "metadata": {},
     "output_type": "display_data"
    },
    {
     "data": {
      "application/vnd.jupyter.widget-view+json": {
       "model_id": "25cb768fe1934aba8f68ee5d0bcd011a",
       "version_major": 2,
       "version_minor": 0
      },
      "text/plain": [
       "Joint fine-tune:   0%|          | 0/8 [00:00<?, ?it/s]"
      ]
     },
     "metadata": {},
     "output_type": "display_data"
    },
    {
     "name": "stderr",
     "output_type": "stream",
     "text": [
      "[I 2025-09-24 15:09:33,778] Trial 57 finished with value: 0.7413238034248927 and parameters: {'latent_dim': 16, 'hidden_dims': 'extra_wide', 'head_hidden_dims': 'compact', 'dropout': 0.036818472862914196, 'learning_rate': 5.9489463853749585e-05, 'batch_size': 64, 'beta': 0.6572338534859401, 'warmup_epochs': 20, 'head_epochs': 34, 'finetune_epochs': 8, 'joint_decoder_lr_scale': 0.004783442660085208}. Best is trial 55 with value: 0.7680131156347605.\n"
     ]
    },
    {
     "data": {
      "application/vnd.jupyter.widget-view+json": {
       "model_id": "13605ac551ec4ddba8943ddf60a0df26",
       "version_major": 2,
       "version_minor": 0
      },
      "text/plain": [
       "Warm-start:   0%|          | 0/35 [00:00<?, ?it/s]"
      ]
     },
     "metadata": {},
     "output_type": "display_data"
    },
    {
     "data": {
      "application/vnd.jupyter.widget-view+json": {
       "model_id": "8b13e831df0d438dadaac479f61ea526",
       "version_major": 2,
       "version_minor": 0
      },
      "text/plain": [
       "Head:   0%|          | 0/30 [00:00<?, ?it/s]"
      ]
     },
     "metadata": {},
     "output_type": "display_data"
    },
    {
     "data": {
      "application/vnd.jupyter.widget-view+json": {
       "model_id": "b926767ca2244f4d97a0b5c032ec57b7",
       "version_major": 2,
       "version_minor": 0
      },
      "text/plain": [
       "Joint fine-tune:   0%|          | 0/10 [00:00<?, ?it/s]"
      ]
     },
     "metadata": {},
     "output_type": "display_data"
    },
    {
     "name": "stderr",
     "output_type": "stream",
     "text": [
      "[I 2025-09-24 15:52:57,294] Trial 58 finished with value: 0.7443231914274498 and parameters: {'latent_dim': 32, 'hidden_dims': 'extra_wide', 'head_hidden_dims': 'compact', 'dropout': 0.12093953418928294, 'learning_rate': 0.00014388696276711806, 'batch_size': 64, 'beta': 1.168842084755391, 'warmup_epochs': 35, 'head_epochs': 30, 'finetune_epochs': 10, 'joint_decoder_lr_scale': 0.05276994980464277}. Best is trial 55 with value: 0.7680131156347605.\n"
     ]
    },
    {
     "data": {
      "application/vnd.jupyter.widget-view+json": {
       "model_id": "fa534764cf0b49378f12c6c9beaf24ed",
       "version_major": 2,
       "version_minor": 0
      },
      "text/plain": [
       "Warm-start:   0%|          | 0/7 [00:00<?, ?it/s]"
      ]
     },
     "metadata": {},
     "output_type": "display_data"
    },
    {
     "data": {
      "application/vnd.jupyter.widget-view+json": {
       "model_id": "f113ce58e9e24dfea4ac4db0f5fa314c",
       "version_major": 2,
       "version_minor": 0
      },
      "text/plain": [
       "Head:   0%|          | 0/39 [00:00<?, ?it/s]"
      ]
     },
     "metadata": {},
     "output_type": "display_data"
    },
    {
     "data": {
      "application/vnd.jupyter.widget-view+json": {
       "model_id": "7b35b01ec7d540fd82424f3a1edcfb9e",
       "version_major": 2,
       "version_minor": 0
      },
      "text/plain": [
       "Joint fine-tune:   0%|          | 0/6 [00:00<?, ?it/s]"
      ]
     },
     "metadata": {},
     "output_type": "display_data"
    },
    {
     "name": "stderr",
     "output_type": "stream",
     "text": [
      "[I 2025-09-24 15:54:38,480] Trial 59 finished with value: 0.7400899816400768 and parameters: {'latent_dim': 32, 'hidden_dims': 'extra_wide', 'head_hidden_dims': 'compact', 'dropout': 0.11743162107605717, 'learning_rate': 0.00035583969906640605, 'batch_size': 512, 'beta': 0.6797180204321343, 'warmup_epochs': 7, 'head_epochs': 39, 'finetune_epochs': 6, 'joint_decoder_lr_scale': 0.023622439017894542}. Best is trial 55 with value: 0.7680131156347605.\n"
     ]
    },
    {
     "data": {
      "application/vnd.jupyter.widget-view+json": {
       "model_id": "2a9974e8ba264d29becc08bab8f666ca",
       "version_major": 2,
       "version_minor": 0
      },
      "text/plain": [
       "Warm-start:   0%|          | 0/14 [00:00<?, ?it/s]"
      ]
     },
     "metadata": {},
     "output_type": "display_data"
    },
    {
     "data": {
      "application/vnd.jupyter.widget-view+json": {
       "model_id": "86e1516cacca45ffb60f7577a202f2cb",
       "version_major": 2,
       "version_minor": 0
      },
      "text/plain": [
       "Head:   0%|          | 0/44 [00:00<?, ?it/s]"
      ]
     },
     "metadata": {},
     "output_type": "display_data"
    },
    {
     "data": {
      "application/vnd.jupyter.widget-view+json": {
       "model_id": "31bb630e338c4cd3b37a03496b11be4f",
       "version_major": 2,
       "version_minor": 0
      },
      "text/plain": [
       "Joint fine-tune:   0%|          | 0/9 [00:00<?, ?it/s]"
      ]
     },
     "metadata": {},
     "output_type": "display_data"
    },
    {
     "name": "stderr",
     "output_type": "stream",
     "text": [
      "[I 2025-09-24 16:16:19,523] Trial 60 finished with value: 0.7424080379667709 and parameters: {'latent_dim': 32, 'hidden_dims': 'extra_wide', 'head_hidden_dims': 'compact', 'dropout': 0.0021686311983132173, 'learning_rate': 0.00019046526224708794, 'batch_size': 64, 'beta': 2.5205893416553637, 'warmup_epochs': 14, 'head_epochs': 44, 'finetune_epochs': 9, 'joint_decoder_lr_scale': 0.04630279841288798}. Best is trial 55 with value: 0.7680131156347605.\n"
     ]
    },
    {
     "data": {
      "application/vnd.jupyter.widget-view+json": {
       "model_id": "35d845637bf74296869e1869023e6649",
       "version_major": 2,
       "version_minor": 0
      },
      "text/plain": [
       "Warm-start:   0%|          | 0/20 [00:00<?, ?it/s]"
      ]
     },
     "metadata": {},
     "output_type": "display_data"
    },
    {
     "data": {
      "application/vnd.jupyter.widget-view+json": {
       "model_id": "bff34e74922f4971a3ec0fe802b598ae",
       "version_major": 2,
       "version_minor": 0
      },
      "text/plain": [
       "Head:   0%|          | 0/36 [00:00<?, ?it/s]"
      ]
     },
     "metadata": {},
     "output_type": "display_data"
    },
    {
     "data": {
      "application/vnd.jupyter.widget-view+json": {
       "model_id": "e887df7d48ff4df399cd5f7efe40b880",
       "version_major": 2,
       "version_minor": 0
      },
      "text/plain": [
       "Joint fine-tune:   0%|          | 0/9 [00:00<?, ?it/s]"
      ]
     },
     "metadata": {},
     "output_type": "display_data"
    },
    {
     "name": "stderr",
     "output_type": "stream",
     "text": [
      "[I 2025-09-24 16:44:01,794] A new study created in RDB with name: supervised_28d_mortality\n"
     ]
    },
    {
     "name": "stdout",
     "output_type": "stream",
     "text": [
      "Training supervised model for 28d_mortality…\n"
     ]
    },
    {
     "data": {
      "application/vnd.jupyter.widget-view+json": {
       "model_id": "0de9755a6c304bd783280c3760133184",
       "version_major": 2,
       "version_minor": 0
      },
      "text/plain": [
       "Warm-start:   0%|          | 0/9 [00:00<?, ?it/s]"
      ]
     },
     "metadata": {},
     "output_type": "display_data"
    },
    {
     "data": {
      "application/vnd.jupyter.widget-view+json": {
       "model_id": "3dcbc8c58a5d4039a46bfe5212a009c2",
       "version_major": 2,
       "version_minor": 0
      },
      "text/plain": [
       "Head:   0%|          | 0/16 [00:00<?, ?it/s]"
      ]
     },
     "metadata": {},
     "output_type": "display_data"
    },
    {
     "data": {
      "application/vnd.jupyter.widget-view+json": {
       "model_id": "00dbc3baf8194324bb06516416e021a8",
       "version_major": 2,
       "version_minor": 0
      },
      "text/plain": [
       "Joint fine-tune:   0%|          | 0/14 [00:00<?, ?it/s]"
      ]
     },
     "metadata": {},
     "output_type": "display_data"
    },
    {
     "name": "stderr",
     "output_type": "stream",
     "text": [
      "[I 2025-09-24 17:06:14,056] Trial 0 finished with value: 0.7407267631965293 and parameters: {'latent_dim': 16, 'hidden_dims': 'medium', 'head_hidden_dims': 'small', 'dropout': 0.156319066197657, 'learning_rate': 0.001013746941381407, 'batch_size': 64, 'beta': 1.4892454952169811, 'warmup_epochs': 9, 'head_epochs': 16, 'finetune_epochs': 14, 'joint_decoder_lr_scale': 0.10816553011331488}. Best is trial 0 with value: 0.7407267631965293.\n"
     ]
    },
    {
     "data": {
      "application/vnd.jupyter.widget-view+json": {
       "model_id": "db8d4f5b865041648417b1b28e012e19",
       "version_major": 2,
       "version_minor": 0
      },
      "text/plain": [
       "Warm-start:   0%|          | 0/22 [00:00<?, ?it/s]"
      ]
     },
     "metadata": {},
     "output_type": "display_data"
    },
    {
     "data": {
      "application/vnd.jupyter.widget-view+json": {
       "model_id": "8fa4f9013ab34cc09979c5a0d92c6fb8",
       "version_major": 2,
       "version_minor": 0
      },
      "text/plain": [
       "Head:   0%|          | 0/4 [00:00<?, ?it/s]"
      ]
     },
     "metadata": {},
     "output_type": "display_data"
    },
    {
     "data": {
      "application/vnd.jupyter.widget-view+json": {
       "model_id": "d946952c2cf144d39f35b8973a16c278",
       "version_major": 2,
       "version_minor": 0
      },
      "text/plain": [
       "Joint fine-tune:   0%|          | 0/7 [00:00<?, ?it/s]"
      ]
     },
     "metadata": {},
     "output_type": "display_data"
    },
    {
     "name": "stderr",
     "output_type": "stream",
     "text": [
      "[I 2025-09-24 17:13:11,981] Trial 1 finished with value: 0.692267010043101 and parameters: {'latent_dim': 8, 'hidden_dims': 'compact', 'head_hidden_dims': 'compact', 'dropout': 0.26592766063708617, 'learning_rate': 0.0018207416236110838, 'batch_size': 256, 'beta': 2.4788394259873336, 'warmup_epochs': 22, 'head_epochs': 4, 'finetune_epochs': 7, 'joint_decoder_lr_scale': 0.14186181303474482}. Best is trial 0 with value: 0.7407267631965293.\n"
     ]
    },
    {
     "data": {
      "application/vnd.jupyter.widget-view+json": {
       "model_id": "80003d3ec4454d46bbb4c0ce2c0d7351",
       "version_major": 2,
       "version_minor": 0
      },
      "text/plain": [
       "Warm-start:   0%|          | 0/47 [00:00<?, ?it/s]"
      ]
     },
     "metadata": {},
     "output_type": "display_data"
    },
    {
     "data": {
      "application/vnd.jupyter.widget-view+json": {
       "model_id": "6d937ce57bf84b91980b6669f9d8217e",
       "version_major": 2,
       "version_minor": 0
      },
      "text/plain": [
       "Head:   0%|          | 0/30 [00:00<?, ?it/s]"
      ]
     },
     "metadata": {},
     "output_type": "display_data"
    },
    {
     "data": {
      "application/vnd.jupyter.widget-view+json": {
       "model_id": "faa0d3e26cef44cd96160582187ac4a1",
       "version_major": 2,
       "version_minor": 0
      },
      "text/plain": [
       "Joint fine-tune:   0%|          | 0/7 [00:00<?, ?it/s]"
      ]
     },
     "metadata": {},
     "output_type": "display_data"
    },
    {
     "name": "stderr",
     "output_type": "stream",
     "text": [
      "[I 2025-09-24 17:38:35,105] Trial 2 finished with value: 0.5 and parameters: {'latent_dim': 8, 'hidden_dims': 'extra_wide', 'head_hidden_dims': 'wide', 'dropout': 0.4986132507505717, 'learning_rate': 0.004496864300617975, 'batch_size': 128, 'beta': 2.560073702191279, 'warmup_epochs': 47, 'head_epochs': 30, 'finetune_epochs': 7, 'joint_decoder_lr_scale': 0.211597808309656}. Best is trial 0 with value: 0.7407267631965293.\n"
     ]
    },
    {
     "data": {
      "application/vnd.jupyter.widget-view+json": {
       "model_id": "4e76166f03ce4e4ebf281dada38466c0",
       "version_major": 2,
       "version_minor": 0
      },
      "text/plain": [
       "Warm-start:   0%|          | 0/24 [00:00<?, ?it/s]"
      ]
     },
     "metadata": {},
     "output_type": "display_data"
    },
    {
     "data": {
      "application/vnd.jupyter.widget-view+json": {
       "model_id": "34231fe8f6084c24924aa4bd3741a6f5",
       "version_major": 2,
       "version_minor": 0
      },
      "text/plain": [
       "Head:   0%|          | 0/8 [00:00<?, ?it/s]"
      ]
     },
     "metadata": {},
     "output_type": "display_data"
    },
    {
     "data": {
      "application/vnd.jupyter.widget-view+json": {
       "model_id": "0e290241d2b6454b9610ce332f1336ea",
       "version_major": 2,
       "version_minor": 0
      },
      "text/plain": [
       "Joint fine-tune:   0%|          | 0/10 [00:00<?, ?it/s]"
      ]
     },
     "metadata": {},
     "output_type": "display_data"
    },
    {
     "name": "stderr",
     "output_type": "stream",
     "text": [
      "[I 2025-09-24 17:52:05,302] Trial 3 finished with value: 0.33864817673144076 and parameters: {'latent_dim': 16, 'hidden_dims': 'compact', 'head_hidden_dims': 'compact', 'dropout': 0.3064225733157652, 'learning_rate': 0.0029757251792697976, 'batch_size': 128, 'beta': 2.800380972572238, 'warmup_epochs': 24, 'head_epochs': 8, 'finetune_epochs': 10, 'joint_decoder_lr_scale': 0.1791680753162223}. Best is trial 0 with value: 0.7407267631965293.\n"
     ]
    },
    {
     "data": {
      "application/vnd.jupyter.widget-view+json": {
       "model_id": "10226771b64643188a610accdae2ec49",
       "version_major": 2,
       "version_minor": 0
      },
      "text/plain": [
       "Warm-start:   0%|          | 0/36 [00:00<?, ?it/s]"
      ]
     },
     "metadata": {},
     "output_type": "display_data"
    },
    {
     "data": {
      "application/vnd.jupyter.widget-view+json": {
       "model_id": "5af3a79c7a1d440a988e5021efbde4b2",
       "version_major": 2,
       "version_minor": 0
      },
      "text/plain": [
       "Head:   0%|          | 0/30 [00:00<?, ?it/s]"
      ]
     },
     "metadata": {},
     "output_type": "display_data"
    },
    {
     "data": {
      "application/vnd.jupyter.widget-view+json": {
       "model_id": "ae26ea7138f0460e8180ac0639c59b1a",
       "version_major": 2,
       "version_minor": 0
      },
      "text/plain": [
       "Joint fine-tune:   0%|          | 0/4 [00:00<?, ?it/s]"
      ]
     },
     "metadata": {},
     "output_type": "display_data"
    },
    {
     "name": "stderr",
     "output_type": "stream",
     "text": [
      "[I 2025-09-24 18:00:07,762] Trial 4 finished with value: 0.693731589689661 and parameters: {'latent_dim': 16, 'hidden_dims': 'compact', 'head_hidden_dims': 'wide', 'dropout': 0.28302818752612224, 'learning_rate': 0.007851293599348677, 'batch_size': 256, 'beta': 0.5363239955988649, 'warmup_epochs': 36, 'head_epochs': 30, 'finetune_epochs': 4, 'joint_decoder_lr_scale': 0.2951134191402863}. Best is trial 0 with value: 0.7407267631965293.\n"
     ]
    },
    {
     "data": {
      "application/vnd.jupyter.widget-view+json": {
       "model_id": "32a2e6a6b7f24073b8081be46885fa67",
       "version_major": 2,
       "version_minor": 0
      },
      "text/plain": [
       "Warm-start:   0%|          | 0/16 [00:00<?, ?it/s]"
      ]
     },
     "metadata": {},
     "output_type": "display_data"
    },
    {
     "data": {
      "application/vnd.jupyter.widget-view+json": {
       "model_id": "94560948932046459b255711e4b8956c",
       "version_major": 2,
       "version_minor": 0
      },
      "text/plain": [
       "Head:   0%|          | 0/47 [00:00<?, ?it/s]"
      ]
     },
     "metadata": {},
     "output_type": "display_data"
    },
    {
     "data": {
      "application/vnd.jupyter.widget-view+json": {
       "model_id": "3ad02f794b6249c5807b85dc71830a8b",
       "version_major": 2,
       "version_minor": 0
      },
      "text/plain": [
       "Joint fine-tune:   0%|          | 0/17 [00:00<?, ?it/s]"
      ]
     },
     "metadata": {},
     "output_type": "display_data"
    },
    {
     "name": "stderr",
     "output_type": "stream",
     "text": [
      "[I 2025-09-24 18:01:56,179] Trial 5 finished with value: 0.3670243190423151 and parameters: {'latent_dim': 6, 'hidden_dims': 'extra_wide', 'head_hidden_dims': 'wide', 'dropout': 0.4183391180408116, 'learning_rate': 0.007380463275117438, 'batch_size': 1024, 'beta': 3.2446945358938417, 'warmup_epochs': 16, 'head_epochs': 47, 'finetune_epochs': 17, 'joint_decoder_lr_scale': 0.2836508126026882}. Best is trial 0 with value: 0.7407267631965293.\n"
     ]
    },
    {
     "data": {
      "application/vnd.jupyter.widget-view+json": {
       "model_id": "2553fe6e0f764145980effc0c2a16d03",
       "version_major": 2,
       "version_minor": 0
      },
      "text/plain": [
       "Warm-start:   0%|          | 0/20 [00:00<?, ?it/s]"
      ]
     },
     "metadata": {},
     "output_type": "display_data"
    },
    {
     "data": {
      "application/vnd.jupyter.widget-view+json": {
       "model_id": "e0c853f2b07446c3bf08646afbe61fee",
       "version_major": 2,
       "version_minor": 0
      },
      "text/plain": [
       "Head:   0%|          | 0/20 [00:00<?, ?it/s]"
      ]
     },
     "metadata": {},
     "output_type": "display_data"
    },
    {
     "data": {
      "application/vnd.jupyter.widget-view+json": {
       "model_id": "43f2db7b549f412ebc9e8f6c09b596cd",
       "version_major": 2,
       "version_minor": 0
      },
      "text/plain": [
       "Joint fine-tune:   0%|          | 0/18 [00:00<?, ?it/s]"
      ]
     },
     "metadata": {},
     "output_type": "display_data"
    },
    {
     "name": "stderr",
     "output_type": "stream",
     "text": [
      "[I 2025-09-24 18:09:36,891] Trial 6 finished with value: 0.7278845410873839 and parameters: {'latent_dim': 32, 'hidden_dims': 'wide', 'head_hidden_dims': 'medium', 'dropout': 0.018538502247589683, 'learning_rate': 0.005914686603067895, 'batch_size': 256, 'beta': 0.810056138109086, 'warmup_epochs': 20, 'head_epochs': 20, 'finetune_epochs': 18, 'joint_decoder_lr_scale': 0.13379988205498164}. Best is trial 0 with value: 0.7407267631965293.\n"
     ]
    },
    {
     "data": {
      "application/vnd.jupyter.widget-view+json": {
       "model_id": "7df17f6341ce40a4946566820632cee9",
       "version_major": 2,
       "version_minor": 0
      },
      "text/plain": [
       "Warm-start:   0%|          | 0/19 [00:00<?, ?it/s]"
      ]
     },
     "metadata": {},
     "output_type": "display_data"
    },
    {
     "data": {
      "application/vnd.jupyter.widget-view+json": {
       "model_id": "d831c303fa1c430288b146aaae5d3f97",
       "version_major": 2,
       "version_minor": 0
      },
      "text/plain": [
       "Head:   0%|          | 0/39 [00:00<?, ?it/s]"
      ]
     },
     "metadata": {},
     "output_type": "display_data"
    },
    {
     "data": {
      "application/vnd.jupyter.widget-view+json": {
       "model_id": "4d42d933bdcf4868bbe2e55a4df6655a",
       "version_major": 2,
       "version_minor": 0
      },
      "text/plain": [
       "Joint fine-tune:   0%|          | 0/5 [00:00<?, ?it/s]"
      ]
     },
     "metadata": {},
     "output_type": "display_data"
    },
    {
     "name": "stderr",
     "output_type": "stream",
     "text": [
      "[I 2025-09-24 18:19:02,896] Trial 7 finished with value: 0.6329516521457258 and parameters: {'latent_dim': 16, 'hidden_dims': 'medium', 'head_hidden_dims': 'compact', 'dropout': 0.07939472083772614, 'learning_rate': 0.0026129803334822023, 'batch_size': 128, 'beta': 2.3058698321955573, 'warmup_epochs': 19, 'head_epochs': 39, 'finetune_epochs': 5, 'joint_decoder_lr_scale': 0.1536998968442412}. Best is trial 0 with value: 0.7407267631965293.\n"
     ]
    },
    {
     "data": {
      "application/vnd.jupyter.widget-view+json": {
       "model_id": "e49984d7a686410d90723084be5751d1",
       "version_major": 2,
       "version_minor": 0
      },
      "text/plain": [
       "Warm-start:   0%|          | 0/37 [00:00<?, ?it/s]"
      ]
     },
     "metadata": {},
     "output_type": "display_data"
    },
    {
     "data": {
      "application/vnd.jupyter.widget-view+json": {
       "model_id": "0c2ab23e0e594e7f9b4439c52bcbb791",
       "version_major": 2,
       "version_minor": 0
      },
      "text/plain": [
       "Head:   0%|          | 0/36 [00:00<?, ?it/s]"
      ]
     },
     "metadata": {},
     "output_type": "display_data"
    },
    {
     "data": {
      "application/vnd.jupyter.widget-view+json": {
       "model_id": "e5658990e6314ab080d1a1e20d0f96b5",
       "version_major": 2,
       "version_minor": 0
      },
      "text/plain": [
       "Joint fine-tune:   0%|          | 0/10 [00:00<?, ?it/s]"
      ]
     },
     "metadata": {},
     "output_type": "display_data"
    },
    {
     "name": "stderr",
     "output_type": "stream",
     "text": [
      "[I 2025-09-24 18:55:25,439] Trial 8 finished with value: 0.6733867244111998 and parameters: {'latent_dim': 6, 'hidden_dims': 'small', 'head_hidden_dims': 'wide', 'dropout': 0.3978837507075422, 'learning_rate': 9.881630397605331e-05, 'batch_size': 64, 'beta': 1.3615821740763467, 'warmup_epochs': 37, 'head_epochs': 36, 'finetune_epochs': 10, 'joint_decoder_lr_scale': 0.11731750899718704}. Best is trial 0 with value: 0.7407267631965293.\n"
     ]
    },
    {
     "data": {
      "application/vnd.jupyter.widget-view+json": {
       "model_id": "404d3185217a4fe6b47dfeb671471721",
       "version_major": 2,
       "version_minor": 0
      },
      "text/plain": [
       "Warm-start:   0%|          | 0/25 [00:00<?, ?it/s]"
      ]
     },
     "metadata": {},
     "output_type": "display_data"
    },
    {
     "data": {
      "application/vnd.jupyter.widget-view+json": {
       "model_id": "e6b946c0a9564e21ab0510e2d55c0e90",
       "version_major": 2,
       "version_minor": 0
      },
      "text/plain": [
       "Head:   0%|          | 0/39 [00:00<?, ?it/s]"
      ]
     },
     "metadata": {},
     "output_type": "display_data"
    },
    {
     "data": {
      "application/vnd.jupyter.widget-view+json": {
       "model_id": "53c809f6fa734f35b957f04cf051182d",
       "version_major": 2,
       "version_minor": 0
      },
      "text/plain": [
       "Joint fine-tune:   0%|          | 0/14 [00:00<?, ?it/s]"
      ]
     },
     "metadata": {},
     "output_type": "display_data"
    },
    {
     "name": "stderr",
     "output_type": "stream",
     "text": [
      "[I 2025-09-24 19:34:04,303] Trial 9 finished with value: 0.6575649296191387 and parameters: {'latent_dim': 6, 'hidden_dims': 'extra_wide', 'head_hidden_dims': 'wide', 'dropout': 0.12056516510106563, 'learning_rate': 0.009062151811557548, 'batch_size': 64, 'beta': 2.0273705140435654, 'warmup_epochs': 25, 'head_epochs': 39, 'finetune_epochs': 14, 'joint_decoder_lr_scale': 0.17121102697595725}. Best is trial 0 with value: 0.7407267631965293.\n"
     ]
    },
    {
     "data": {
      "application/vnd.jupyter.widget-view+json": {
       "model_id": "cd3d4e2e6e8648e1b4b75bf3ed4068be",
       "version_major": 2,
       "version_minor": 0
      },
      "text/plain": [
       "Warm-start:   0%|          | 0/3 [00:00<?, ?it/s]"
      ]
     },
     "metadata": {},
     "output_type": "display_data"
    },
    {
     "data": {
      "application/vnd.jupyter.widget-view+json": {
       "model_id": "300bdca71d924c959776231ef297f02e",
       "version_major": 2,
       "version_minor": 0
      },
      "text/plain": [
       "Head:   0%|          | 0/16 [00:00<?, ?it/s]"
      ]
     },
     "metadata": {},
     "output_type": "display_data"
    },
    {
     "data": {
      "application/vnd.jupyter.widget-view+json": {
       "model_id": "d67c4811f0ea403db0d873d08f083c11",
       "version_major": 2,
       "version_minor": 0
      },
      "text/plain": [
       "Joint fine-tune:   0%|          | 0/14 [00:00<?, ?it/s]"
      ]
     },
     "metadata": {},
     "output_type": "display_data"
    },
    {
     "name": "stderr",
     "output_type": "stream",
     "text": [
      "[I 2025-09-24 19:35:42,762] Trial 10 finished with value: 0.7279914928582601 and parameters: {'latent_dim': 32, 'hidden_dims': 'medium', 'head_hidden_dims': 'small', 'dropout': 0.17401000611362186, 'learning_rate': 0.00036107250623265295, 'batch_size': 512, 'beta': 3.7992203285010864, 'warmup_epochs': 3, 'head_epochs': 16, 'finetune_epochs': 14, 'joint_decoder_lr_scale': 0.025618202695260786}. Best is trial 0 with value: 0.7407267631965293.\n"
     ]
    },
    {
     "data": {
      "application/vnd.jupyter.widget-view+json": {
       "model_id": "46c67ed22fff485fbc11ba9322667d80",
       "version_major": 2,
       "version_minor": 0
      },
      "text/plain": [
       "Warm-start:   0%|          | 0/5 [00:00<?, ?it/s]"
      ]
     },
     "metadata": {},
     "output_type": "display_data"
    },
    {
     "data": {
      "application/vnd.jupyter.widget-view+json": {
       "model_id": "c3bc71178168428d8eb38ac9fa83386f",
       "version_major": 2,
       "version_minor": 0
      },
      "text/plain": [
       "Head:   0%|          | 0/16 [00:00<?, ?it/s]"
      ]
     },
     "metadata": {},
     "output_type": "display_data"
    },
    {
     "data": {
      "application/vnd.jupyter.widget-view+json": {
       "model_id": "2e77793c93184f6fabb5bf4eca5b0cba",
       "version_major": 2,
       "version_minor": 0
      },
      "text/plain": [
       "Joint fine-tune:   0%|          | 0/14 [00:00<?, ?it/s]"
      ]
     },
     "metadata": {},
     "output_type": "display_data"
    },
    {
     "name": "stderr",
     "output_type": "stream",
     "text": [
      "[I 2025-09-24 19:37:06,892] Trial 11 finished with value: 0.6975587669356009 and parameters: {'latent_dim': 32, 'hidden_dims': 'medium', 'head_hidden_dims': 'small', 'dropout': 0.1692389205901311, 'learning_rate': 0.00039126342340637846, 'batch_size': 512, 'beta': 3.5296356375922193, 'warmup_epochs': 5, 'head_epochs': 16, 'finetune_epochs': 14, 'joint_decoder_lr_scale': 0.002528754241965775}. Best is trial 0 with value: 0.7407267631965293.\n"
     ]
    },
    {
     "data": {
      "application/vnd.jupyter.widget-view+json": {
       "model_id": "22147371e0bb4df586a75e2ede55eb49",
       "version_major": 2,
       "version_minor": 0
      },
      "text/plain": [
       "Warm-start:   0%|          | 0/5 [00:00<?, ?it/s]"
      ]
     },
     "metadata": {},
     "output_type": "display_data"
    },
    {
     "data": {
      "application/vnd.jupyter.widget-view+json": {
       "model_id": "e828de45ddb147d8bc7ce6e52d455bb6",
       "version_major": 2,
       "version_minor": 0
      },
      "text/plain": [
       "Head:   0%|          | 0/14 [00:00<?, ?it/s]"
      ]
     },
     "metadata": {},
     "output_type": "display_data"
    },
    {
     "data": {
      "application/vnd.jupyter.widget-view+json": {
       "model_id": "2aa4694b9e764843bc527b29d21f6be5",
       "version_major": 2,
       "version_minor": 0
      },
      "text/plain": [
       "Joint fine-tune:   0%|          | 0/14 [00:00<?, ?it/s]"
      ]
     },
     "metadata": {},
     "output_type": "display_data"
    },
    {
     "name": "stderr",
     "output_type": "stream",
     "text": [
      "[I 2025-09-24 19:38:58,559] Trial 12 finished with value: 0.6812856074012511 and parameters: {'latent_dim': 32, 'hidden_dims': 'medium', 'head_hidden_dims': 'small', 'dropout': 0.19703740231873138, 'learning_rate': 0.000420793299591202, 'batch_size': 512, 'beta': 3.9716449412949335, 'warmup_epochs': 5, 'head_epochs': 14, 'finetune_epochs': 14, 'joint_decoder_lr_scale': 0.04305072625937206}. Best is trial 0 with value: 0.7407267631965293.\n"
     ]
    },
    {
     "data": {
      "application/vnd.jupyter.widget-view+json": {
       "model_id": "f1cd2d40c5224380935db689e93b51ea",
       "version_major": 2,
       "version_minor": 0
      },
      "text/plain": [
       "Warm-start:   0%|          | 0/2 [00:00<?, ?it/s]"
      ]
     },
     "metadata": {},
     "output_type": "display_data"
    },
    {
     "data": {
      "application/vnd.jupyter.widget-view+json": {
       "model_id": "94a1c27dbad5465b83bc1f10c279c4de",
       "version_major": 2,
       "version_minor": 0
      },
      "text/plain": [
       "Head:   0%|          | 0/23 [00:00<?, ?it/s]"
      ]
     },
     "metadata": {},
     "output_type": "display_data"
    },
    {
     "data": {
      "application/vnd.jupyter.widget-view+json": {
       "model_id": "bf9b3509428c4f01bb6f4c56683966f1",
       "version_major": 2,
       "version_minor": 0
      },
      "text/plain": [
       "Joint fine-tune:   0%|          | 0/20 [00:00<?, ?it/s]"
      ]
     },
     "metadata": {},
     "output_type": "display_data"
    },
    {
     "name": "stderr",
     "output_type": "stream",
     "text": [
      "[I 2025-09-24 19:41:10,844] Trial 13 finished with value: 0.674327852879594 and parameters: {'latent_dim': 32, 'hidden_dims': 'medium', 'head_hidden_dims': 'extra_wide', 'dropout': 0.1935968008536804, 'learning_rate': 0.0006128155985819364, 'batch_size': 512, 'beta': 1.6937449071123387, 'warmup_epochs': 2, 'head_epochs': 23, 'finetune_epochs': 20, 'joint_decoder_lr_scale': 0.07494115727345374}. Best is trial 0 with value: 0.7407267631965293.\n"
     ]
    },
    {
     "data": {
      "application/vnd.jupyter.widget-view+json": {
       "model_id": "42799384651540edbcf0496bf096fea5",
       "version_major": 2,
       "version_minor": 0
      },
      "text/plain": [
       "Warm-start:   0%|          | 0/60 [00:00<?, ?it/s]"
      ]
     },
     "metadata": {},
     "output_type": "display_data"
    },
    {
     "data": {
      "application/vnd.jupyter.widget-view+json": {
       "model_id": "0419fed6d358439c9d1a58575e73f87e",
       "version_major": 2,
       "version_minor": 0
      },
      "text/plain": [
       "Head:   0%|          | 0/11 [00:00<?, ?it/s]"
      ]
     },
     "metadata": {},
     "output_type": "display_data"
    },
    {
     "data": {
      "application/vnd.jupyter.widget-view+json": {
       "model_id": "75affc97342d49609b3e607b88c883f8",
       "version_major": 2,
       "version_minor": 0
      },
      "text/plain": [
       "Joint fine-tune:   0%|          | 0/12 [00:00<?, ?it/s]"
      ]
     },
     "metadata": {},
     "output_type": "display_data"
    },
    {
     "name": "stderr",
     "output_type": "stream",
     "text": [
      "[I 2025-09-24 20:34:24,974] Trial 14 finished with value: 0.7281455599467032 and parameters: {'latent_dim': 16, 'hidden_dims': 'medium', 'head_hidden_dims': 'small', 'dropout': 0.08513137479974663, 'learning_rate': 0.00013971692358391203, 'batch_size': 64, 'beta': 1.3001905521203299, 'warmup_epochs': 60, 'head_epochs': 11, 'finetune_epochs': 12, 'joint_decoder_lr_scale': 0.08428104044664132}. Best is trial 0 with value: 0.7407267631965293.\n"
     ]
    },
    {
     "data": {
      "application/vnd.jupyter.widget-view+json": {
       "model_id": "3f42abe1682d4ca490fde9560b454220",
       "version_major": 2,
       "version_minor": 0
      },
      "text/plain": [
       "Warm-start:   0%|          | 0/57 [00:00<?, ?it/s]"
      ]
     },
     "metadata": {},
     "output_type": "display_data"
    }
   ],
   "source": [
    "metrics_records: List[Dict[str, object]] = []\n",
    "membership_records: List[Dict[str, object]] = []\n",
    "optuna_reports: Dict[str, Dict[str, object]] = {}\n",
    "calibration_paths: Dict[str, Path] = {}\n",
    "latent_paths: Dict[str, Path] = {}\n",
    "\n",
    "models: Dict[str, SUAVE] = {}\n",
    "\n",
    "tstr_results: Optional[pd.DataFrame] = None\n",
    "tstr_path: Optional[Path] = None\n",
    "distribution_df: Optional[pd.DataFrame] = None\n",
    "distribution_path: Optional[Path] = None\n",
    "\n",
    "for target in TARGET_COLUMNS:\n",
    "    if target not in train_df.columns:\n",
    "        continue\n",
    "    print(f\"Training supervised model for {target}\u2026\")\n",
    "    X_full = prepare_features(train_df, FEATURE_COLUMNS)\n",
    "    y_full = train_df[target]\n",
    "\n",
    "    (\n",
    "        X_train_model,\n",
    "        X_validation,\n",
    "        X_calibration,\n",
    "        y_train_model,\n",
    "        y_validation,\n",
    "        y_calibration,\n",
    "    ) = split_train_validation_calibration(\n",
    "        X_full,\n",
    "        y_full,\n",
    "        calibration_size=CALIBRATION_SIZE,\n",
    "        validation_size=VALIDATION_SIZE,\n",
    "        random_state=RANDOM_STATE,\n",
    "    )\n",
    "\n",
    "    study_name = (\n",
    "        f\"{analysis_config['optuna_study_prefix']}_{target}\"\n",
    "        if analysis_config[\"optuna_study_prefix\"]\n",
    "        else None\n",
    "    )\n",
    "    study, best_info = run_optuna_search(\n",
    "        X_train_model,\n",
    "        y_train_model,\n",
    "        X_validation,\n",
    "        y_validation,\n",
    "        schema,\n",
    "        random_state=RANDOM_STATE,\n",
    "        n_trials=analysis_config[\"optuna_trials\"],\n",
    "        timeout=analysis_config[\"optuna_timeout\"],\n",
    "        study_name=study_name,\n",
    "        storage=analysis_config[\"optuna_storage\"],\n",
    "    )\n",
    "\n",
    "    best_params = dict(best_info.get(\"params\", {}))\n",
    "    hidden_key = str(best_params.get(\"hidden_dims\", \"medium\"))\n",
    "    head_hidden_key = str(best_params.get(\"head_hidden_dims\", \"medium\"))\n",
    "    hidden_dims = HIDDEN_DIMENSION_OPTIONS.get(\n",
    "        hidden_key, HIDDEN_DIMENSION_OPTIONS[\"medium\"]\n",
    "    )\n",
    "    head_hidden_dims = HEAD_HIDDEN_DIMENSION_OPTIONS.get(\n",
    "        head_hidden_key, HEAD_HIDDEN_DIMENSION_OPTIONS[\"medium\"]\n",
    "    )\n",
    "    model = SUAVE(\n",
    "        schema=schema,\n",
    "        latent_dim=int(best_params.get(\"latent_dim\", 16)),\n",
    "        hidden_dims=hidden_dims,\n",
    "        head_hidden_dims=head_hidden_dims,\n",
    "        dropout=float(best_params.get(\"dropout\", 0.1)),\n",
    "        learning_rate=float(best_params.get(\"learning_rate\", 1e-3)),\n",
    "        batch_size=int(best_params.get(\"batch_size\", 256)),\n",
    "        beta=float(best_params.get(\"beta\", 1.5)),\n",
    "        random_state=RANDOM_STATE,\n",
    "        behaviour=\"supervised\",\n",
    "    )\n",
    "    model.fit(\n",
    "        X_train_model,\n",
    "        y_train_model,\n",
    "        warmup_epochs=int(best_params.get(\"warmup_epochs\", 3)),\n",
    "        head_epochs=int(best_params.get(\"head_epochs\", 2)),\n",
    "        finetune_epochs=int(best_params.get(\"finetune_epochs\", 2)),\n",
    "        joint_decoder_lr_scale=float(best_params.get(\"joint_decoder_lr_scale\", 0.1)),\n",
    "    )\n",
    "    model.calibrate(X_calibration, y_calibration)\n",
    "    models[target] = model\n",
    "\n",
    "    evaluation_datasets: Dict[str, Tuple[pd.DataFrame, pd.Series]] = {\n",
    "        \"Train\": (X_train_model, y_train_model),\n",
    "        \"Validation\": (X_validation, y_validation),\n",
    "        \"MIMIC test\": (prepare_features(test_df, FEATURE_COLUMNS), test_df[target]),\n",
    "    }\n",
    "    if target in external_df.columns:\n",
    "        evaluation_datasets[\"eICU external\"] = (\n",
    "            prepare_features(external_df, FEATURE_COLUMNS),\n",
    "            external_df[target],\n",
    "        )\n",
    "\n",
    "    probability_map: Dict[str, np.ndarray] = {}\n",
    "    label_map: Dict[str, np.ndarray] = {}\n",
    "    dataset_metric_map: Dict[str, Dict[str, float]] = {}\n",
    "\n",
    "    for dataset_name, (features, labels) in evaluation_datasets.items():\n",
    "        probs = model.predict_proba(features)\n",
    "        probability_map[dataset_name] = probs\n",
    "        label_map[dataset_name] = np.asarray(labels)\n",
    "        metrics = compute_binary_metrics(probs, labels)\n",
    "        dataset_metric_map[dataset_name] = metrics\n",
    "        metric_row = {\n",
    "            \"target\": target,\n",
    "            \"dataset\": dataset_name,\n",
    "            **metrics,\n",
    "        }\n",
    "        metrics_records.append(metric_row)\n",
    "\n",
    "    calibration_path = OUTPUT_DIR / f\"calibration_{target}.png\"\n",
    "    plot_calibration_curves(\n",
    "        probability_map, label_map, target_name=target, output_path=calibration_path\n",
    "    )\n",
    "    calibration_paths[target] = calibration_path\n",
    "\n",
    "    latent_features = {\n",
    "        name: features for name, (features, _) in evaluation_datasets.items()\n",
    "    }\n",
    "    latent_labels = {\n",
    "        name: labels for name, (_, labels) in evaluation_datasets.items()\n",
    "    }\n",
    "    latent_path = OUTPUT_DIR / f\"latent_{target}.png\"\n",
    "    plot_latent_space(\n",
    "        model,\n",
    "        latent_features,\n",
    "        latent_labels,\n",
    "        target_name=target,\n",
    "        output_path=latent_path,\n",
    "    )\n",
    "    latent_paths[target] = latent_path\n",
    "\n",
    "    train_probabilities = probability_map[\"Train\"]\n",
    "    test_probabilities = probability_map[\"MIMIC test\"]\n",
    "\n",
    "    membership = simple_membership_inference(\n",
    "        train_probabilities,\n",
    "        np.asarray(y_train_model),\n",
    "        test_probabilities,\n",
    "        np.asarray(evaluation_datasets[\"MIMIC test\"][1]),\n",
    "    )\n",
    "    membership_records.append({\"target\": target, **membership})\n",
    "\n",
    "    trial_rows: List[Dict[str, object]] = []\n",
    "    for trial in study.trials:\n",
    "        record: Dict[str, object] = {\n",
    "            \"trial_number\": trial.number,\n",
    "            \"value\": trial.value,\n",
    "        }\n",
    "        record.update(trial.params)\n",
    "        val_metrics = trial.user_attrs.get(\"validation_metrics\")\n",
    "        if isinstance(val_metrics, Mapping):\n",
    "            for metric_name, metric_value in val_metrics.items():\n",
    "                record[f\"validation_{metric_name.lower()}\"] = metric_value\n",
    "        fit_seconds = trial.user_attrs.get(\"fit_seconds\")\n",
    "        if fit_seconds is not None:\n",
    "            record[\"fit_seconds\"] = fit_seconds\n",
    "        trial_rows.append(record)\n",
    "    trials_df = pd.DataFrame(trial_rows)\n",
    "    trials_path = OUTPUT_DIR / f\"optuna_trials_{target}.csv\"\n",
    "    if not trials_df.empty:\n",
    "        trials_df.to_csv(trials_path, index=False)\n",
    "    else:\n",
    "        trials_path.write_text(\"trial_number,value\")\n",
    "\n",
    "    optuna_reports[target] = {\n",
    "        \"best\": best_info,\n",
    "        \"best_params\": best_params,\n",
    "        \"metrics\": dataset_metric_map,\n",
    "        \"trials_csv\": trials_path,\n",
    "    }\n",
    "\n",
    "metrics_df = pd.DataFrame(metrics_records)\n",
    "metrics_path = OUTPUT_DIR / \"evaluation_metrics.csv\"\n",
    "metrics_df.to_csv(metrics_path, index=False)\n",
    "\n",
    "membership_df = pd.DataFrame(membership_records)\n",
    "membership_path = OUTPUT_DIR / \"membership_inference.csv\"\n",
    "membership_df.to_csv(membership_path, index=False)\n",
    "\n",
    "in_hospital_model = models.get(\"in_hospital_mortality\")\n",
    "if in_hospital_model is not None:\n",
    "    print(\"Generating synthetic data for TSTR/TRTR comparisons\u2026\")\n",
    "    X_train_full = prepare_features(train_df, FEATURE_COLUMNS)\n",
    "    y_train_full = train_df[\"in_hospital_mortality\"]\n",
    "    numeric_train = to_numeric_frame(X_train_full)\n",
    "\n",
    "    rng = np.random.default_rng(RANDOM_STATE)\n",
    "    synthetic_labels = rng.choice(\n",
    "        y_train_full, size=len(y_train_full), replace=True\n",
    "    )\n",
    "\n",
    "    synthetic_features = in_hospital_model.sample(\n",
    "        len(synthetic_labels), conditional=True, y=synthetic_labels\n",
    "    )\n",
    "    numeric_synthetic = to_numeric_frame(synthetic_features[FEATURE_COLUMNS])\n",
    "\n",
    "    numeric_test = to_numeric_frame(prepare_features(test_df, FEATURE_COLUMNS))\n",
    "    y_test = test_df[\"in_hospital_mortality\"]\n",
    "\n",
    "    tstr_metrics = evaluate_tstr(\n",
    "        (numeric_synthetic.to_numpy(), np.asarray(synthetic_labels)),\n",
    "        (numeric_test.to_numpy(), y_test.to_numpy()),\n",
    "        make_logistic_pipeline,\n",
    "    )\n",
    "    trtr_metrics = evaluate_trtr(\n",
    "        (numeric_train.to_numpy(), y_train_full.to_numpy()),\n",
    "        (numeric_test.to_numpy(), y_test.to_numpy()),\n",
    "        make_logistic_pipeline,\n",
    "    )\n",
    "    tstr_results = pd.DataFrame(\n",
    "        [\n",
    "            {\"setting\": \"TSTR\", **tstr_metrics},\n",
    "            {\"setting\": \"TRTR\", **trtr_metrics},\n",
    "        ]\n",
    "    )\n",
    "    tstr_path = OUTPUT_DIR / \"tstr_trtr_comparison.csv\"\n",
    "    tstr_results.to_csv(tstr_path, index=False)\n",
    "\n",
    "    distribution_rows: List[Dict[str, object]] = []\n",
    "    for column in FEATURE_COLUMNS:\n",
    "        real_values = numeric_train[column].to_numpy()\n",
    "        synthetic_values = numeric_synthetic[column].to_numpy()\n",
    "        distribution_rows.append(\n",
    "            {\n",
    "                \"feature\": column,\n",
    "                \"ks\": kolmogorov_smirnov_statistic(real_values, synthetic_values),\n",
    "                \"mmd\": rbf_mmd(real_values, synthetic_values, random_state=RANDOM_STATE),\n",
    "                \"mutual_information\": mutual_information_feature(\n",
    "                    real_values, synthetic_values\n",
    "                ),\n",
    "            }\n",
    "        )\n",
    "    distribution_df = pd.DataFrame(distribution_rows)\n",
    "    distribution_path = OUTPUT_DIR / \"distribution_shift_metrics.csv\"\n",
    "    distribution_df.to_csv(distribution_path, index=False)\n",
    "else:\n",
    "    print(\"Primary target model not available; skipping TSTR/TRTR and distribution analysis.\")\n",
    "\n",
    "\n",
    "summary_lines: List[str] = [\n",
    "    \"# Mortality modelling report\",\n",
    "    \"\",\n",
    "    \"## Schema\",\n",
    "    schema_table,\n",
    "    \"\",\n",
    "    \"## Model selection and performance\",\n",
    "]\n",
    "\n",
    "if not optuna_reports:\n",
    "    summary_lines.append(\"No models were trained by optuna.\")\n",
    "\n",
    "for target, report in optuna_reports.items():\n",
    "    best = report[\"best\"]\n",
    "    best_params = report[\"best_params\"]\n",
    "    metrics_map: Mapping[str, Dict[str, float]] = report[\"metrics\"]\n",
    "    summary_lines.append(f\"### {target}\")\n",
    "    best_value = best.get(\"value\")\n",
    "    value_text = (\n",
    "        f\"{best_value:.4f}\" if isinstance(best_value, (int, float)) else \"n/a\"\n",
    "    )\n",
    "    summary_lines.append(\n",
    "        f\"Best Optuna trial #{best.get('trial_number')} with validation ROAUC {value_text}\"\n",
    "    )\n",
    "    summary_lines.append(\"Best parameters:\")\n",
    "    summary_lines.append(\"```json\")\n",
    "    summary_lines.append(json.dumps(best_params, indent=2, ensure_ascii=False))\n",
    "    summary_lines.append(\"```\")\n",
    "    summary_lines.append(\"| Dataset | AUC | ACC | SPE | SEN | Brier |\")\n",
    "    summary_lines.append(\"| --- | --- | --- | --- | --- | --- |\")\n",
    "    for dataset_name, metrics in metrics_map.items():\n",
    "        summary_lines.append(\n",
    "            \"| {dataset} | {auc} | {acc} | {spe} | {sen} | {brier} |\".format(\n",
    "                dataset=dataset_name,\n",
    "                auc=format_float(metrics.get(\"AUC\")),\n",
    "                acc=format_float(metrics.get(\"ACC\")),\n",
    "                spe=format_float(metrics.get(\"SPE\")),\n",
    "                sen=format_float(metrics.get(\"SEN\")),\n",
    "                brier=format_float(metrics.get(\"Brier\")),\n",
    "            )\n",
    "        )\n",
    "    summary_lines.append(\n",
    "        f\"Optuna trials logged at: {report['trials_csv'].relative_to(OUTPUT_DIR)}\"\n",
    "    )\n",
    "    summary_lines.append(\n",
    "        f\"Calibration plot: {calibration_paths[target].relative_to(OUTPUT_DIR)}\"\n",
    "    )\n",
    "    summary_lines.append(\n",
    "        f\"Latent projection: {latent_paths[target].relative_to(OUTPUT_DIR)}\"\n",
    "    )\n",
    "    summary_lines.append(\"\")\n",
    "\n",
    "if tstr_results is not None:\n",
    "    summary_lines.append(\"## TSTR vs TRTR\")\n",
    "    summary_lines.append(\"| Setting | Accuracy | AUROC | AUPRC | Brier | ECE |\")\n",
    "    summary_lines.append(\"| --- | --- | --- | --- | --- | --- |\")\n",
    "    for _, row in tstr_results.iterrows():\n",
    "        summary_lines.append(\n",
    "            \"| {setting} | {acc:.3f} | {auroc:.3f} | {auprc:.3f} | {brier:.3f} | {ece:.3f} |\".format(\n",
    "                setting=row[\"setting\"],\n",
    "                acc=row.get(\"accuracy\", np.nan),\n",
    "                auroc=row.get(\"auroc\", row.get(\"auc\", np.nan)),\n",
    "                auprc=row.get(\"auprc\", np.nan),\n",
    "                brier=row.get(\"brier\", np.nan),\n",
    "                ece=row.get(\"ece\", np.nan),\n",
    "            )\n",
    "        )\n",
    "    summary_lines.append(\"\")\n",
    "\n",
    "summary_lines.append(\"## Distribution shift and privacy\")\n",
    "if distribution_df is not None and distribution_path is not None:\n",
    "    distribution_top = distribution_df.sort_values(\"ks\", ascending=False).head(10)\n",
    "    summary_lines.append(\"Top 10 features by KS statistic:\")\n",
    "    summary_lines.append(\"| Feature | KS | MMD | Mutual information |\")\n",
    "    summary_lines.append(\"| --- | --- | --- | --- |\")\n",
    "    for _, row in distribution_top.iterrows():\n",
    "        summary_lines.append(\n",
    "            \"| {feature} | {ks:.3f} | {mmd:.3f} | {mi:.3f} |\".format(\n",
    "                feature=row[\"feature\"],\n",
    "                ks=row.get(\"ks\", np.nan),\n",
    "                mmd=row.get(\"mmd\", np.nan),\n",
    "                mi=row.get(\"mutual_information\", np.nan),\n",
    "            )\n",
    "        )\n",
    "    summary_lines.append(\n",
    "        f\"Full distribution metrics: {distribution_path.relative_to(OUTPUT_DIR)}\"\n",
    "    )\n",
    "else:\n",
    "    summary_lines.append(\"Distribution metrics were not computed.\")\n",
    "\n",
    "if membership_df.empty:\n",
    "    summary_lines.append(\"No membership inference metrics were recorded.\")\n",
    "else:\n",
    "    summary_lines.append(\"Membership inference results:\")\n",
    "    summary_lines.append(\n",
    "        \"| Target | Attack AUC | Best accuracy | Threshold | Majority baseline |\"\n",
    "    )\n",
    "    summary_lines.append(\"| --- | --- | --- | --- | --- |\")\n",
    "    for _, row in membership_df.iterrows():\n",
    "        summary_lines.append(\n",
    "            \"| {target} | {auc:.3f} | {best_acc:.3f} | {threshold:.3f} | {majority:.3f} |\".format(\n",
    "                target=row[\"target\"],\n",
    "                auc=row.get(\"attack_auc\", np.nan),\n",
    "                best_acc=row.get(\"attack_best_accuracy\", np.nan),\n",
    "                threshold=row.get(\"attack_best_threshold\", np.nan),\n",
    "                majority=row.get(\"attack_majority_class_accuracy\", np.nan),\n",
    "            )\n",
    "        )\n",
    "    summary_lines.append(\n",
    "        f\"Membership metrics saved to: {membership_path.relative_to(OUTPUT_DIR)}\"\n",
    "    )\n",
    "\n",
    "summary_path = OUTPUT_DIR / \"summary.md\"\n",
    "summary_path.write_text(\"\\n\".join(summary_lines), encoding=\"utf-8\")\n",
    "\n",
    "print(\"Analysis complete.\")\n",
    "print(f\"Metric table saved to {metrics_path}\")\n",
    "for target, path in calibration_paths.items():\n",
    "    print(f\"Calibration plot for {target}: {path}\")\n",
    "for target, path in latent_paths.items():\n",
    "    print(f\"Latent space plot for {target}: {path}\")\n",
    "print(f\"Membership inference results saved to {membership_path}\")\n",
    "if (\n",
    "    in_hospital_model is not None\n",
    "    and tstr_path is not None\n",
    "    and distribution_path is not None\n",
    "):\n",
    "    print(f\"TSTR/TRTR comparison saved to {tstr_path}\")\n",
    "    print(f\"Distribution metrics saved to {distribution_path}\")\n",
    "print(f\"Summary written to {summary_path}\")\n"
   ]
  },
  {
   "cell_type": "code",
   "execution_count": null,
   "id": "e2a53682",
   "metadata": {},
   "outputs": [],
   "source": []
  }
 ],
 "metadata": {
  "kernelspec": {
   "display_name": "ai_exp",
   "language": "python",
   "name": "python3"
  },
  "language_info": {
   "codemirror_mode": {
    "name": "ipython",
    "version": 3
   },
   "file_extension": ".py",
   "mimetype": "text/x-python",
   "name": "python",
   "nbconvert_exporter": "python",
   "pygments_lexer": "ipython3",
   "version": "3.12.11"
  }
 },
 "nbformat": 4,
 "nbformat_minor": 5
}